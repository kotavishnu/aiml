{
 "cells": [
  {
   "cell_type": "markdown",
   "metadata": {},
   "source": [
    "# Amazon SageMaker - Tensorflow 2.1\n",
    "[Amazon SageMaker](https://aws.amazon.com/sagemaker/) is managed platform to build, train and host maching learning models. [Amazon SageMaker Debugger](https://github.com/awslabs/sagemaker-debugger) is a new feature which offers the capability to debug machine learning models during training by identifying and detecting problems with the models in real-time.\n",
    "\n",
    "Experimental support for TF 2.x was introduced in v0.7.1 of the Debugger. Full description of support is available at [Amazon SageMaker Debugger with TensorFlow](https://github.com/awslabs/sagemaker-debugger/tree/master/docs/tensorflow.md)\n",
    "\n",
    "In this notebook, we'll show you how to use SageMaker Debugger and use a built-in rule to monitor your training job in real-time using a Tensorflow (v2.1.0) Facemask detection, while using your own container ([Bring Your Own Container (BYOC)](https://github.com/awslabs/sagemaker-debugger/blob/master/docs/sagemaker.md#bring-your-own-training-container))."
   ]
  },
  {
   "cell_type": "markdown",
   "metadata": {},
   "source": [
    "## Training TensorFlow Keras models with Amazon SageMaker Debugger\n",
    "\n",
    "### Amazon SageMaker TensorFlow as a framework\n",
    "\n",
    "Train a TensorFlow Keras model in this notebook with Amazon Sagemaker Debugger enabled and monitor the training jobs with rules. This is done using  a custom container with Tensorflow 2.1.0 and smdebug 0.7.1 installed. You could also use Amazon SageMaker [TensorFlow 2.1.0](https://docs.aws.amazon.com/deep-learning-containers/latest/devguide/deep-learning-containers-images.html) Container as a framework.\n",
    "\n",
    "\n",
    "## Setup\n",
    "\n",
    "Follow this one time setup to get your notebook up and running to use Amazon SageMaker Debugger. This is only needed because we plan to perform interactive analysis using this library in the notebook. \n"
   ]
  },
  {
   "cell_type": "code",
   "execution_count": null,
   "metadata": {},
   "outputs": [],
   "source": [
    "! pip install smdebug"
   ]
  },
  {
   "cell_type": "code",
   "execution_count": 42,
   "metadata": {},
   "outputs": [],
   "source": [
    "import boto3\n",
    "import os\n",
    "import sagemaker\n",
    "from sagemaker.tensorflow import TensorFlow"
   ]
  },
  {
   "cell_type": "markdown",
   "metadata": {},
   "source": [
    "Import the libraries needed for the demo of Amazon SageMaker Debugger."
   ]
  },
  {
   "cell_type": "code",
   "execution_count": 43,
   "metadata": {},
   "outputs": [],
   "source": [
    "from sagemaker.debugger import (\n",
    "    Rule,\n",
    "    DebuggerHookConfig,\n",
    "    TensorBoardOutputConfig,\n",
    "    CollectionConfig,\n",
    "    rule_configs,\n",
    ")"
   ]
  },
  {
   "cell_type": "markdown",
   "metadata": {},
   "source": [
    "Now define the entry point for the training script"
   ]
  },
  {
   "cell_type": "code",
   "execution_count": 44,
   "metadata": {},
   "outputs": [],
   "source": [
    "# define the entrypoint script\n",
    "entrypoint_script = \"src/facemask_tf_keras.py\""
   ]
  },
  {
   "cell_type": "markdown",
   "metadata": {},
   "source": [
    "### Setting up the Estimator\n",
    "\n",
    "Now it's time to setup our TensorFlow estimator. We've added new parameters to the estimator to enable your training job for debugging through Amazon SageMaker Debugger. These new parameters are explained below.\n",
    "\n",
    "* **debugger_hook_config**: This new parameter accepts a local path where you wish your tensors to be written to and also accepts the S3 URI where you wish your tensors to be uploaded to. SageMaker will take care of uploading these tensors transparently during execution.\n",
    "* **rules**: This new parameter will accept a list of rules you wish to evaluate against the tensors output by this training job. For rules, Amazon SageMaker Debugger supports two types:\n",
    " * **SageMaker Rules**: These are rules specially curated by the data science and engineering teams in Amazon SageMaker which you can opt to evaluate against your training job.\n",
    " * **Custom Rules**: You can optionally choose to write your own rule as a Python source file and have it evaluated against your training job. To provide Amazon SageMaker Debugger to evaluate this rule, you would have to provide the S3 location of the rule source and the evaluator image.\n",
    " \n",
    "#### Using Amazon SageMaker Rules\n",
    " \n",
    "In this example we'll demonstrate how to use SageMaker rules to be evaluated against your training. You can find the list of SageMaker rules and the configurations best suited for using them [here](https://github.com/awslabs/sagemaker-debugger-rulesconfig).\n",
    "\n",
    "The rules we'll use are **VanishingGradient** and **LossNotDecreasing**. As the names suggest, the rules will attempt to evaluate if there are vanishing gradients in the tensors captured by the debugging hook during training and also if the loss is not decreasing."
   ]
  },
  {
   "cell_type": "code",
   "execution_count": 45,
   "metadata": {},
   "outputs": [],
   "source": [
    "rules = [\n",
    "    Rule.sagemaker(rule_configs.vanishing_gradient()),\n",
    "    Rule.sagemaker(rule_configs.loss_not_decreasing()),\n",
    "]"
   ]
  },
  {
   "cell_type": "markdown",
   "metadata": {},
   "source": [
    "Let us now create the estimator and call `fit()` on our estimator to start the training job and rule evaluation job in parallel."
   ]
  },
  {
   "cell_type": "code",
   "execution_count": 46,
   "metadata": {},
   "outputs": [
    {
     "name": "stderr",
     "output_type": "stream",
     "text": [
      "train_instance_type has been renamed in sagemaker>=2.\n",
      "See: https://sagemaker.readthedocs.io/en/stable/v2.html for details.\n",
      "train_instance_count has been renamed in sagemaker>=2.\n",
      "See: https://sagemaker.readthedocs.io/en/stable/v2.html for details.\n",
      "train_instance_type has been renamed in sagemaker>=2.\n",
      "See: https://sagemaker.readthedocs.io/en/stable/v2.html for details.\n",
      "train_max_run has been renamed in sagemaker>=2.\n",
      "See: https://sagemaker.readthedocs.io/en/stable/v2.html for details.\n"
     ]
    }
   ],
   "source": [
    "estimator = TensorFlow(\n",
    "    role=sagemaker.get_execution_role(),\n",
    "    base_job_name=\"smdebug-demo-tf2-keras\",\n",
    "    ## custom container with TF v2.1.0 and smdebug>=0.7.1 installed\n",
    "    # image_name=<insert the link to your Docker image here>,\n",
    "    train_instance_count=1,\n",
    "    train_instance_type=\"ml.p2.xlarge\",\n",
    "    entry_point=entrypoint_script,\n",
    "    framework_version=\"2.1.0\",\n",
    "    py_version=\"py3\",\n",
    "    train_max_run=3600,\n",
    "    script_mode=True,\n",
    "    metric_definitions=[{'Name': 'accuracy', 'Regex': 'accuracy: (\\d\\.\\d+)'},\n",
    "                        {'Name': 'val_loss', 'Regex': 'val_loss: (\\d\\.\\d+)'},\n",
    "                        {'Name': 'val_accuracy', 'Regex': 'val_accuracy: (\\d\\.\\d+)'}],\n",
    "    enable_sagemaker_metrics=True,\n",
    "    ## New parameter\n",
    "    rules=rules,\n",
    ")\n",
    "\n",
    "# After calling fit, Amazon SageMaker starts one training job and one rule job for you.\n",
    "# The rule evaluation status is visible in the training logs\n",
    "# at regular intervals\n",
    "\n",
    "estimator.fit(wait=False)"
   ]
  },
  {
   "cell_type": "markdown",
   "metadata": {},
   "source": [
    "## Result \n",
    "\n",
    "As a result of calling the `fit(wait=False)`, two jobs were kicked off in the background. Amazon SageMaker Debugger kicked off a rule evaluation job for our custom gradient logic in parallel with the training job. You can review the status of the above rule job as follows."
   ]
  },
  {
   "cell_type": "code",
   "execution_count": 47,
   "metadata": {},
   "outputs": [
    {
     "name": "stdout",
     "output_type": "stream",
     "text": [
      "[{'RuleConfigurationName': 'VanishingGradient', 'RuleEvaluationStatus': 'InProgress', 'LastModifiedTime': datetime.datetime(2021, 9, 21, 5, 31, 52, 557000, tzinfo=tzlocal())}, {'RuleConfigurationName': 'LossNotDecreasing', 'RuleEvaluationStatus': 'InProgress', 'LastModifiedTime': datetime.datetime(2021, 9, 21, 5, 31, 52, 557000, tzinfo=tzlocal())}, {'RuleConfigurationName': 'ProfilerReport-1632202310', 'RuleEvaluationStatus': 'InProgress', 'LastModifiedTime': datetime.datetime(2021, 9, 21, 5, 31, 52, 500000, tzinfo=tzlocal())}]\n",
      "[{'RuleConfigurationName': 'VanishingGradient', 'RuleEvaluationStatus': 'InProgress', 'LastModifiedTime': datetime.datetime(2021, 9, 21, 5, 31, 52, 557000, tzinfo=tzlocal())}, {'RuleConfigurationName': 'LossNotDecreasing', 'RuleEvaluationStatus': 'InProgress', 'LastModifiedTime': datetime.datetime(2021, 9, 21, 5, 31, 52, 557000, tzinfo=tzlocal())}, {'RuleConfigurationName': 'ProfilerReport-1632202310', 'RuleEvaluationStatus': 'InProgress', 'LastModifiedTime': datetime.datetime(2021, 9, 21, 5, 31, 52, 500000, tzinfo=tzlocal())}]\n",
      "[{'RuleConfigurationName': 'VanishingGradient', 'RuleEvaluationJobArn': 'arn:aws:sagemaker:us-east-1:382125990904:processing-job/smdebug-demo-tf2-keras-202-vanishinggradient-01d97105', 'RuleEvaluationStatus': 'InProgress', 'LastModifiedTime': datetime.datetime(2021, 9, 21, 5, 32, 17, 816000, tzinfo=tzlocal())}, {'RuleConfigurationName': 'LossNotDecreasing', 'RuleEvaluationJobArn': 'arn:aws:sagemaker:us-east-1:382125990904:processing-job/smdebug-demo-tf2-keras-202-lossnotdecreasing-a72a4daa', 'RuleEvaluationStatus': 'InProgress', 'LastModifiedTime': datetime.datetime(2021, 9, 21, 5, 32, 17, 816000, tzinfo=tzlocal())}, {'RuleConfigurationName': 'ProfilerReport-1632202310', 'RuleEvaluationJobArn': 'arn:aws:sagemaker:us-east-1:382125990904:processing-job/smdebug-demo-tf2-keras-202-profilerreport-1632202310-4d385f48', 'RuleEvaluationStatus': 'InProgress', 'LastModifiedTime': datetime.datetime(2021, 9, 21, 5, 32, 14, 570000, tzinfo=tzlocal())}]\n",
      "[{'RuleConfigurationName': 'VanishingGradient', 'RuleEvaluationJobArn': 'arn:aws:sagemaker:us-east-1:382125990904:processing-job/smdebug-demo-tf2-keras-202-vanishinggradient-01d97105', 'RuleEvaluationStatus': 'InProgress', 'LastModifiedTime': datetime.datetime(2021, 9, 21, 5, 32, 17, 816000, tzinfo=tzlocal())}, {'RuleConfigurationName': 'LossNotDecreasing', 'RuleEvaluationJobArn': 'arn:aws:sagemaker:us-east-1:382125990904:processing-job/smdebug-demo-tf2-keras-202-lossnotdecreasing-a72a4daa', 'RuleEvaluationStatus': 'InProgress', 'LastModifiedTime': datetime.datetime(2021, 9, 21, 5, 32, 17, 816000, tzinfo=tzlocal())}, {'RuleConfigurationName': 'ProfilerReport-1632202310', 'RuleEvaluationJobArn': 'arn:aws:sagemaker:us-east-1:382125990904:processing-job/smdebug-demo-tf2-keras-202-profilerreport-1632202310-4d385f48', 'RuleEvaluationStatus': 'InProgress', 'LastModifiedTime': datetime.datetime(2021, 9, 21, 5, 32, 14, 570000, tzinfo=tzlocal())}]\n",
      "[{'RuleConfigurationName': 'VanishingGradient', 'RuleEvaluationJobArn': 'arn:aws:sagemaker:us-east-1:382125990904:processing-job/smdebug-demo-tf2-keras-202-vanishinggradient-01d97105', 'RuleEvaluationStatus': 'InProgress', 'LastModifiedTime': datetime.datetime(2021, 9, 21, 5, 32, 37, 915000, tzinfo=tzlocal())}, {'RuleConfigurationName': 'LossNotDecreasing', 'RuleEvaluationJobArn': 'arn:aws:sagemaker:us-east-1:382125990904:processing-job/smdebug-demo-tf2-keras-202-lossnotdecreasing-a72a4daa', 'RuleEvaluationStatus': 'InProgress', 'LastModifiedTime': datetime.datetime(2021, 9, 21, 5, 32, 37, 915000, tzinfo=tzlocal())}, {'RuleConfigurationName': 'ProfilerReport-1632202310', 'RuleEvaluationJobArn': 'arn:aws:sagemaker:us-east-1:382125990904:processing-job/smdebug-demo-tf2-keras-202-profilerreport-1632202310-4d385f48', 'RuleEvaluationStatus': 'InProgress', 'LastModifiedTime': datetime.datetime(2021, 9, 21, 5, 32, 34, 637000, tzinfo=tzlocal())}]\n",
      "[{'RuleConfigurationName': 'VanishingGradient', 'RuleEvaluationJobArn': 'arn:aws:sagemaker:us-east-1:382125990904:processing-job/smdebug-demo-tf2-keras-202-vanishinggradient-01d97105', 'RuleEvaluationStatus': 'InProgress', 'LastModifiedTime': datetime.datetime(2021, 9, 21, 5, 32, 37, 915000, tzinfo=tzlocal())}, {'RuleConfigurationName': 'LossNotDecreasing', 'RuleEvaluationJobArn': 'arn:aws:sagemaker:us-east-1:382125990904:processing-job/smdebug-demo-tf2-keras-202-lossnotdecreasing-a72a4daa', 'RuleEvaluationStatus': 'InProgress', 'LastModifiedTime': datetime.datetime(2021, 9, 21, 5, 32, 37, 915000, tzinfo=tzlocal())}, {'RuleConfigurationName': 'ProfilerReport-1632202310', 'RuleEvaluationJobArn': 'arn:aws:sagemaker:us-east-1:382125990904:processing-job/smdebug-demo-tf2-keras-202-profilerreport-1632202310-4d385f48', 'RuleEvaluationStatus': 'InProgress', 'LastModifiedTime': datetime.datetime(2021, 9, 21, 5, 32, 34, 637000, tzinfo=tzlocal())}]\n",
      "[{'RuleConfigurationName': 'VanishingGradient', 'RuleEvaluationJobArn': 'arn:aws:sagemaker:us-east-1:382125990904:processing-job/smdebug-demo-tf2-keras-202-vanishinggradient-01d97105', 'RuleEvaluationStatus': 'InProgress', 'LastModifiedTime': datetime.datetime(2021, 9, 21, 5, 32, 58, 11000, tzinfo=tzlocal())}, {'RuleConfigurationName': 'LossNotDecreasing', 'RuleEvaluationJobArn': 'arn:aws:sagemaker:us-east-1:382125990904:processing-job/smdebug-demo-tf2-keras-202-lossnotdecreasing-a72a4daa', 'RuleEvaluationStatus': 'InProgress', 'LastModifiedTime': datetime.datetime(2021, 9, 21, 5, 32, 58, 11000, tzinfo=tzlocal())}, {'RuleConfigurationName': 'ProfilerReport-1632202310', 'RuleEvaluationJobArn': 'arn:aws:sagemaker:us-east-1:382125990904:processing-job/smdebug-demo-tf2-keras-202-profilerreport-1632202310-4d385f48', 'RuleEvaluationStatus': 'InProgress', 'LastModifiedTime': datetime.datetime(2021, 9, 21, 5, 32, 54, 710000, tzinfo=tzlocal())}]\n",
      "[{'RuleConfigurationName': 'VanishingGradient', 'RuleEvaluationJobArn': 'arn:aws:sagemaker:us-east-1:382125990904:processing-job/smdebug-demo-tf2-keras-202-vanishinggradient-01d97105', 'RuleEvaluationStatus': 'InProgress', 'LastModifiedTime': datetime.datetime(2021, 9, 21, 5, 32, 58, 11000, tzinfo=tzlocal())}, {'RuleConfigurationName': 'LossNotDecreasing', 'RuleEvaluationJobArn': 'arn:aws:sagemaker:us-east-1:382125990904:processing-job/smdebug-demo-tf2-keras-202-lossnotdecreasing-a72a4daa', 'RuleEvaluationStatus': 'InProgress', 'LastModifiedTime': datetime.datetime(2021, 9, 21, 5, 32, 58, 11000, tzinfo=tzlocal())}, {'RuleConfigurationName': 'ProfilerReport-1632202310', 'RuleEvaluationJobArn': 'arn:aws:sagemaker:us-east-1:382125990904:processing-job/smdebug-demo-tf2-keras-202-profilerreport-1632202310-4d385f48', 'RuleEvaluationStatus': 'InProgress', 'LastModifiedTime': datetime.datetime(2021, 9, 21, 5, 32, 54, 710000, tzinfo=tzlocal())}]\n",
      "[{'RuleConfigurationName': 'VanishingGradient', 'RuleEvaluationJobArn': 'arn:aws:sagemaker:us-east-1:382125990904:processing-job/smdebug-demo-tf2-keras-202-vanishinggradient-01d97105', 'RuleEvaluationStatus': 'InProgress', 'LastModifiedTime': datetime.datetime(2021, 9, 21, 5, 33, 18, 109000, tzinfo=tzlocal())}, {'RuleConfigurationName': 'LossNotDecreasing', 'RuleEvaluationJobArn': 'arn:aws:sagemaker:us-east-1:382125990904:processing-job/smdebug-demo-tf2-keras-202-lossnotdecreasing-a72a4daa', 'RuleEvaluationStatus': 'InProgress', 'LastModifiedTime': datetime.datetime(2021, 9, 21, 5, 33, 18, 109000, tzinfo=tzlocal())}, {'RuleConfigurationName': 'ProfilerReport-1632202310', 'RuleEvaluationJobArn': 'arn:aws:sagemaker:us-east-1:382125990904:processing-job/smdebug-demo-tf2-keras-202-profilerreport-1632202310-4d385f48', 'RuleEvaluationStatus': 'InProgress', 'LastModifiedTime': datetime.datetime(2021, 9, 21, 5, 33, 14, 795000, tzinfo=tzlocal())}]\n",
      "[{'RuleConfigurationName': 'VanishingGradient', 'RuleEvaluationJobArn': 'arn:aws:sagemaker:us-east-1:382125990904:processing-job/smdebug-demo-tf2-keras-202-vanishinggradient-01d97105', 'RuleEvaluationStatus': 'InProgress', 'LastModifiedTime': datetime.datetime(2021, 9, 21, 5, 33, 18, 109000, tzinfo=tzlocal())}, {'RuleConfigurationName': 'LossNotDecreasing', 'RuleEvaluationJobArn': 'arn:aws:sagemaker:us-east-1:382125990904:processing-job/smdebug-demo-tf2-keras-202-lossnotdecreasing-a72a4daa', 'RuleEvaluationStatus': 'InProgress', 'LastModifiedTime': datetime.datetime(2021, 9, 21, 5, 33, 18, 109000, tzinfo=tzlocal())}, {'RuleConfigurationName': 'ProfilerReport-1632202310', 'RuleEvaluationJobArn': 'arn:aws:sagemaker:us-east-1:382125990904:processing-job/smdebug-demo-tf2-keras-202-profilerreport-1632202310-4d385f48', 'RuleEvaluationStatus': 'InProgress', 'LastModifiedTime': datetime.datetime(2021, 9, 21, 5, 33, 14, 795000, tzinfo=tzlocal())}]\n",
      "[{'RuleConfigurationName': 'VanishingGradient', 'RuleEvaluationJobArn': 'arn:aws:sagemaker:us-east-1:382125990904:processing-job/smdebug-demo-tf2-keras-202-vanishinggradient-01d97105', 'RuleEvaluationStatus': 'InProgress', 'LastModifiedTime': datetime.datetime(2021, 9, 21, 5, 33, 38, 214000, tzinfo=tzlocal())}, {'RuleConfigurationName': 'LossNotDecreasing', 'RuleEvaluationJobArn': 'arn:aws:sagemaker:us-east-1:382125990904:processing-job/smdebug-demo-tf2-keras-202-lossnotdecreasing-a72a4daa', 'RuleEvaluationStatus': 'InProgress', 'LastModifiedTime': datetime.datetime(2021, 9, 21, 5, 33, 38, 214000, tzinfo=tzlocal())}, {'RuleConfigurationName': 'ProfilerReport-1632202310', 'RuleEvaluationJobArn': 'arn:aws:sagemaker:us-east-1:382125990904:processing-job/smdebug-demo-tf2-keras-202-profilerreport-1632202310-4d385f48', 'RuleEvaluationStatus': 'InProgress', 'LastModifiedTime': datetime.datetime(2021, 9, 21, 5, 33, 34, 887000, tzinfo=tzlocal())}]\n",
      "[{'RuleConfigurationName': 'VanishingGradient', 'RuleEvaluationJobArn': 'arn:aws:sagemaker:us-east-1:382125990904:processing-job/smdebug-demo-tf2-keras-202-vanishinggradient-01d97105', 'RuleEvaluationStatus': 'InProgress', 'LastModifiedTime': datetime.datetime(2021, 9, 21, 5, 33, 38, 214000, tzinfo=tzlocal())}, {'RuleConfigurationName': 'LossNotDecreasing', 'RuleEvaluationJobArn': 'arn:aws:sagemaker:us-east-1:382125990904:processing-job/smdebug-demo-tf2-keras-202-lossnotdecreasing-a72a4daa', 'RuleEvaluationStatus': 'InProgress', 'LastModifiedTime': datetime.datetime(2021, 9, 21, 5, 33, 38, 214000, tzinfo=tzlocal())}, {'RuleConfigurationName': 'ProfilerReport-1632202310', 'RuleEvaluationJobArn': 'arn:aws:sagemaker:us-east-1:382125990904:processing-job/smdebug-demo-tf2-keras-202-profilerreport-1632202310-4d385f48', 'RuleEvaluationStatus': 'InProgress', 'LastModifiedTime': datetime.datetime(2021, 9, 21, 5, 33, 34, 887000, tzinfo=tzlocal())}]\n",
      "[{'RuleConfigurationName': 'VanishingGradient', 'RuleEvaluationJobArn': 'arn:aws:sagemaker:us-east-1:382125990904:processing-job/smdebug-demo-tf2-keras-202-vanishinggradient-01d97105', 'RuleEvaluationStatus': 'InProgress', 'LastModifiedTime': datetime.datetime(2021, 9, 21, 5, 33, 58, 309000, tzinfo=tzlocal())}, {'RuleConfigurationName': 'LossNotDecreasing', 'RuleEvaluationJobArn': 'arn:aws:sagemaker:us-east-1:382125990904:processing-job/smdebug-demo-tf2-keras-202-lossnotdecreasing-a72a4daa', 'RuleEvaluationStatus': 'InProgress', 'LastModifiedTime': datetime.datetime(2021, 9, 21, 5, 33, 58, 309000, tzinfo=tzlocal())}, {'RuleConfigurationName': 'ProfilerReport-1632202310', 'RuleEvaluationJobArn': 'arn:aws:sagemaker:us-east-1:382125990904:processing-job/smdebug-demo-tf2-keras-202-profilerreport-1632202310-4d385f48', 'RuleEvaluationStatus': 'InProgress', 'LastModifiedTime': datetime.datetime(2021, 9, 21, 5, 33, 54, 957000, tzinfo=tzlocal())}]\n",
      "[{'RuleConfigurationName': 'VanishingGradient', 'RuleEvaluationJobArn': 'arn:aws:sagemaker:us-east-1:382125990904:processing-job/smdebug-demo-tf2-keras-202-vanishinggradient-01d97105', 'RuleEvaluationStatus': 'InProgress', 'LastModifiedTime': datetime.datetime(2021, 9, 21, 5, 33, 58, 309000, tzinfo=tzlocal())}, {'RuleConfigurationName': 'LossNotDecreasing', 'RuleEvaluationJobArn': 'arn:aws:sagemaker:us-east-1:382125990904:processing-job/smdebug-demo-tf2-keras-202-lossnotdecreasing-a72a4daa', 'RuleEvaluationStatus': 'InProgress', 'LastModifiedTime': datetime.datetime(2021, 9, 21, 5, 33, 58, 309000, tzinfo=tzlocal())}, {'RuleConfigurationName': 'ProfilerReport-1632202310', 'RuleEvaluationJobArn': 'arn:aws:sagemaker:us-east-1:382125990904:processing-job/smdebug-demo-tf2-keras-202-profilerreport-1632202310-4d385f48', 'RuleEvaluationStatus': 'InProgress', 'LastModifiedTime': datetime.datetime(2021, 9, 21, 5, 33, 54, 957000, tzinfo=tzlocal())}]\n",
      "[{'RuleConfigurationName': 'VanishingGradient', 'RuleEvaluationJobArn': 'arn:aws:sagemaker:us-east-1:382125990904:processing-job/smdebug-demo-tf2-keras-202-vanishinggradient-01d97105', 'RuleEvaluationStatus': 'InProgress', 'LastModifiedTime': datetime.datetime(2021, 9, 21, 5, 34, 18, 397000, tzinfo=tzlocal())}, {'RuleConfigurationName': 'LossNotDecreasing', 'RuleEvaluationJobArn': 'arn:aws:sagemaker:us-east-1:382125990904:processing-job/smdebug-demo-tf2-keras-202-lossnotdecreasing-a72a4daa', 'RuleEvaluationStatus': 'InProgress', 'LastModifiedTime': datetime.datetime(2021, 9, 21, 5, 34, 18, 397000, tzinfo=tzlocal())}, {'RuleConfigurationName': 'ProfilerReport-1632202310', 'RuleEvaluationJobArn': 'arn:aws:sagemaker:us-east-1:382125990904:processing-job/smdebug-demo-tf2-keras-202-profilerreport-1632202310-4d385f48', 'RuleEvaluationStatus': 'InProgress', 'LastModifiedTime': datetime.datetime(2021, 9, 21, 5, 34, 15, 23000, tzinfo=tzlocal())}]\n",
      "[{'RuleConfigurationName': 'VanishingGradient', 'RuleEvaluationJobArn': 'arn:aws:sagemaker:us-east-1:382125990904:processing-job/smdebug-demo-tf2-keras-202-vanishinggradient-01d97105', 'RuleEvaluationStatus': 'InProgress', 'LastModifiedTime': datetime.datetime(2021, 9, 21, 5, 34, 18, 397000, tzinfo=tzlocal())}, {'RuleConfigurationName': 'LossNotDecreasing', 'RuleEvaluationJobArn': 'arn:aws:sagemaker:us-east-1:382125990904:processing-job/smdebug-demo-tf2-keras-202-lossnotdecreasing-a72a4daa', 'RuleEvaluationStatus': 'InProgress', 'LastModifiedTime': datetime.datetime(2021, 9, 21, 5, 34, 18, 397000, tzinfo=tzlocal())}, {'RuleConfigurationName': 'ProfilerReport-1632202310', 'RuleEvaluationJobArn': 'arn:aws:sagemaker:us-east-1:382125990904:processing-job/smdebug-demo-tf2-keras-202-profilerreport-1632202310-4d385f48', 'RuleEvaluationStatus': 'InProgress', 'LastModifiedTime': datetime.datetime(2021, 9, 21, 5, 34, 15, 23000, tzinfo=tzlocal())}]\n",
      "[{'RuleConfigurationName': 'VanishingGradient', 'RuleEvaluationJobArn': 'arn:aws:sagemaker:us-east-1:382125990904:processing-job/smdebug-demo-tf2-keras-202-vanishinggradient-01d97105', 'RuleEvaluationStatus': 'InProgress', 'LastModifiedTime': datetime.datetime(2021, 9, 21, 5, 34, 38, 480000, tzinfo=tzlocal())}, {'RuleConfigurationName': 'LossNotDecreasing', 'RuleEvaluationJobArn': 'arn:aws:sagemaker:us-east-1:382125990904:processing-job/smdebug-demo-tf2-keras-202-lossnotdecreasing-a72a4daa', 'RuleEvaluationStatus': 'InProgress', 'LastModifiedTime': datetime.datetime(2021, 9, 21, 5, 34, 38, 480000, tzinfo=tzlocal())}, {'RuleConfigurationName': 'ProfilerReport-1632202310', 'RuleEvaluationJobArn': 'arn:aws:sagemaker:us-east-1:382125990904:processing-job/smdebug-demo-tf2-keras-202-profilerreport-1632202310-4d385f48', 'RuleEvaluationStatus': 'InProgress', 'LastModifiedTime': datetime.datetime(2021, 9, 21, 5, 34, 35, 87000, tzinfo=tzlocal())}]\n",
      "[{'RuleConfigurationName': 'VanishingGradient', 'RuleEvaluationJobArn': 'arn:aws:sagemaker:us-east-1:382125990904:processing-job/smdebug-demo-tf2-keras-202-vanishinggradient-01d97105', 'RuleEvaluationStatus': 'InProgress', 'LastModifiedTime': datetime.datetime(2021, 9, 21, 5, 34, 38, 480000, tzinfo=tzlocal())}, {'RuleConfigurationName': 'LossNotDecreasing', 'RuleEvaluationJobArn': 'arn:aws:sagemaker:us-east-1:382125990904:processing-job/smdebug-demo-tf2-keras-202-lossnotdecreasing-a72a4daa', 'RuleEvaluationStatus': 'InProgress', 'LastModifiedTime': datetime.datetime(2021, 9, 21, 5, 34, 38, 480000, tzinfo=tzlocal())}, {'RuleConfigurationName': 'ProfilerReport-1632202310', 'RuleEvaluationJobArn': 'arn:aws:sagemaker:us-east-1:382125990904:processing-job/smdebug-demo-tf2-keras-202-profilerreport-1632202310-4d385f48', 'RuleEvaluationStatus': 'InProgress', 'LastModifiedTime': datetime.datetime(2021, 9, 21, 5, 34, 35, 87000, tzinfo=tzlocal())}]\n",
      "[{'RuleConfigurationName': 'VanishingGradient', 'RuleEvaluationJobArn': 'arn:aws:sagemaker:us-east-1:382125990904:processing-job/smdebug-demo-tf2-keras-202-vanishinggradient-01d97105', 'RuleEvaluationStatus': 'InProgress', 'LastModifiedTime': datetime.datetime(2021, 9, 21, 5, 34, 58, 582000, tzinfo=tzlocal())}, {'RuleConfigurationName': 'LossNotDecreasing', 'RuleEvaluationJobArn': 'arn:aws:sagemaker:us-east-1:382125990904:processing-job/smdebug-demo-tf2-keras-202-lossnotdecreasing-a72a4daa', 'RuleEvaluationStatus': 'InProgress', 'LastModifiedTime': datetime.datetime(2021, 9, 21, 5, 34, 58, 582000, tzinfo=tzlocal())}, {'RuleConfigurationName': 'ProfilerReport-1632202310', 'RuleEvaluationJobArn': 'arn:aws:sagemaker:us-east-1:382125990904:processing-job/smdebug-demo-tf2-keras-202-profilerreport-1632202310-4d385f48', 'RuleEvaluationStatus': 'InProgress', 'LastModifiedTime': datetime.datetime(2021, 9, 21, 5, 34, 55, 166000, tzinfo=tzlocal())}]\n",
      "[{'RuleConfigurationName': 'VanishingGradient', 'RuleEvaluationJobArn': 'arn:aws:sagemaker:us-east-1:382125990904:processing-job/smdebug-demo-tf2-keras-202-vanishinggradient-01d97105', 'RuleEvaluationStatus': 'InProgress', 'LastModifiedTime': datetime.datetime(2021, 9, 21, 5, 34, 58, 582000, tzinfo=tzlocal())}, {'RuleConfigurationName': 'LossNotDecreasing', 'RuleEvaluationJobArn': 'arn:aws:sagemaker:us-east-1:382125990904:processing-job/smdebug-demo-tf2-keras-202-lossnotdecreasing-a72a4daa', 'RuleEvaluationStatus': 'InProgress', 'LastModifiedTime': datetime.datetime(2021, 9, 21, 5, 34, 58, 582000, tzinfo=tzlocal())}, {'RuleConfigurationName': 'ProfilerReport-1632202310', 'RuleEvaluationJobArn': 'arn:aws:sagemaker:us-east-1:382125990904:processing-job/smdebug-demo-tf2-keras-202-profilerreport-1632202310-4d385f48', 'RuleEvaluationStatus': 'InProgress', 'LastModifiedTime': datetime.datetime(2021, 9, 21, 5, 34, 55, 166000, tzinfo=tzlocal())}]\n",
      "[{'RuleConfigurationName': 'VanishingGradient', 'RuleEvaluationJobArn': 'arn:aws:sagemaker:us-east-1:382125990904:processing-job/smdebug-demo-tf2-keras-202-vanishinggradient-01d97105', 'RuleEvaluationStatus': 'InProgress', 'LastModifiedTime': datetime.datetime(2021, 9, 21, 5, 35, 18, 687000, tzinfo=tzlocal())}, {'RuleConfigurationName': 'LossNotDecreasing', 'RuleEvaluationJobArn': 'arn:aws:sagemaker:us-east-1:382125990904:processing-job/smdebug-demo-tf2-keras-202-lossnotdecreasing-a72a4daa', 'RuleEvaluationStatus': 'InProgress', 'LastModifiedTime': datetime.datetime(2021, 9, 21, 5, 35, 18, 687000, tzinfo=tzlocal())}, {'RuleConfigurationName': 'ProfilerReport-1632202310', 'RuleEvaluationJobArn': 'arn:aws:sagemaker:us-east-1:382125990904:processing-job/smdebug-demo-tf2-keras-202-profilerreport-1632202310-4d385f48', 'RuleEvaluationStatus': 'InProgress', 'LastModifiedTime': datetime.datetime(2021, 9, 21, 5, 35, 15, 235000, tzinfo=tzlocal())}]\n",
      "[{'RuleConfigurationName': 'VanishingGradient', 'RuleEvaluationJobArn': 'arn:aws:sagemaker:us-east-1:382125990904:processing-job/smdebug-demo-tf2-keras-202-vanishinggradient-01d97105', 'RuleEvaluationStatus': 'InProgress', 'LastModifiedTime': datetime.datetime(2021, 9, 21, 5, 35, 18, 687000, tzinfo=tzlocal())}, {'RuleConfigurationName': 'LossNotDecreasing', 'RuleEvaluationJobArn': 'arn:aws:sagemaker:us-east-1:382125990904:processing-job/smdebug-demo-tf2-keras-202-lossnotdecreasing-a72a4daa', 'RuleEvaluationStatus': 'InProgress', 'LastModifiedTime': datetime.datetime(2021, 9, 21, 5, 35, 18, 687000, tzinfo=tzlocal())}, {'RuleConfigurationName': 'ProfilerReport-1632202310', 'RuleEvaluationJobArn': 'arn:aws:sagemaker:us-east-1:382125990904:processing-job/smdebug-demo-tf2-keras-202-profilerreport-1632202310-4d385f48', 'RuleEvaluationStatus': 'InProgress', 'LastModifiedTime': datetime.datetime(2021, 9, 21, 5, 35, 15, 235000, tzinfo=tzlocal())}]\n",
      "[{'RuleConfigurationName': 'VanishingGradient', 'RuleEvaluationJobArn': 'arn:aws:sagemaker:us-east-1:382125990904:processing-job/smdebug-demo-tf2-keras-202-vanishinggradient-01d97105', 'RuleEvaluationStatus': 'InProgress', 'LastModifiedTime': datetime.datetime(2021, 9, 21, 5, 35, 38, 783000, tzinfo=tzlocal())}, {'RuleConfigurationName': 'LossNotDecreasing', 'RuleEvaluationJobArn': 'arn:aws:sagemaker:us-east-1:382125990904:processing-job/smdebug-demo-tf2-keras-202-lossnotdecreasing-a72a4daa', 'RuleEvaluationStatus': 'InProgress', 'LastModifiedTime': datetime.datetime(2021, 9, 21, 5, 35, 38, 783000, tzinfo=tzlocal())}, {'RuleConfigurationName': 'ProfilerReport-1632202310', 'RuleEvaluationJobArn': 'arn:aws:sagemaker:us-east-1:382125990904:processing-job/smdebug-demo-tf2-keras-202-profilerreport-1632202310-4d385f48', 'RuleEvaluationStatus': 'InProgress', 'LastModifiedTime': datetime.datetime(2021, 9, 21, 5, 35, 35, 310000, tzinfo=tzlocal())}]\n",
      "[{'RuleConfigurationName': 'VanishingGradient', 'RuleEvaluationJobArn': 'arn:aws:sagemaker:us-east-1:382125990904:processing-job/smdebug-demo-tf2-keras-202-vanishinggradient-01d97105', 'RuleEvaluationStatus': 'InProgress', 'LastModifiedTime': datetime.datetime(2021, 9, 21, 5, 35, 38, 783000, tzinfo=tzlocal())}, {'RuleConfigurationName': 'LossNotDecreasing', 'RuleEvaluationJobArn': 'arn:aws:sagemaker:us-east-1:382125990904:processing-job/smdebug-demo-tf2-keras-202-lossnotdecreasing-a72a4daa', 'RuleEvaluationStatus': 'InProgress', 'LastModifiedTime': datetime.datetime(2021, 9, 21, 5, 35, 38, 783000, tzinfo=tzlocal())}, {'RuleConfigurationName': 'ProfilerReport-1632202310', 'RuleEvaluationJobArn': 'arn:aws:sagemaker:us-east-1:382125990904:processing-job/smdebug-demo-tf2-keras-202-profilerreport-1632202310-4d385f48', 'RuleEvaluationStatus': 'InProgress', 'LastModifiedTime': datetime.datetime(2021, 9, 21, 5, 35, 35, 310000, tzinfo=tzlocal())}]\n",
      "[{'RuleConfigurationName': 'VanishingGradient', 'RuleEvaluationJobArn': 'arn:aws:sagemaker:us-east-1:382125990904:processing-job/smdebug-demo-tf2-keras-202-vanishinggradient-01d97105', 'RuleEvaluationStatus': 'InProgress', 'LastModifiedTime': datetime.datetime(2021, 9, 21, 5, 35, 58, 869000, tzinfo=tzlocal())}, {'RuleConfigurationName': 'LossNotDecreasing', 'RuleEvaluationJobArn': 'arn:aws:sagemaker:us-east-1:382125990904:processing-job/smdebug-demo-tf2-keras-202-lossnotdecreasing-a72a4daa', 'RuleEvaluationStatus': 'InProgress', 'LastModifiedTime': datetime.datetime(2021, 9, 21, 5, 35, 58, 869000, tzinfo=tzlocal())}, {'RuleConfigurationName': 'ProfilerReport-1632202310', 'RuleEvaluationJobArn': 'arn:aws:sagemaker:us-east-1:382125990904:processing-job/smdebug-demo-tf2-keras-202-profilerreport-1632202310-4d385f48', 'RuleEvaluationStatus': 'InProgress', 'LastModifiedTime': datetime.datetime(2021, 9, 21, 5, 35, 55, 383000, tzinfo=tzlocal())}]\n",
      "[{'RuleConfigurationName': 'VanishingGradient', 'RuleEvaluationJobArn': 'arn:aws:sagemaker:us-east-1:382125990904:processing-job/smdebug-demo-tf2-keras-202-vanishinggradient-01d97105', 'RuleEvaluationStatus': 'InProgress', 'LastModifiedTime': datetime.datetime(2021, 9, 21, 5, 35, 58, 869000, tzinfo=tzlocal())}, {'RuleConfigurationName': 'LossNotDecreasing', 'RuleEvaluationJobArn': 'arn:aws:sagemaker:us-east-1:382125990904:processing-job/smdebug-demo-tf2-keras-202-lossnotdecreasing-a72a4daa', 'RuleEvaluationStatus': 'InProgress', 'LastModifiedTime': datetime.datetime(2021, 9, 21, 5, 35, 58, 869000, tzinfo=tzlocal())}, {'RuleConfigurationName': 'ProfilerReport-1632202310', 'RuleEvaluationJobArn': 'arn:aws:sagemaker:us-east-1:382125990904:processing-job/smdebug-demo-tf2-keras-202-profilerreport-1632202310-4d385f48', 'RuleEvaluationStatus': 'InProgress', 'LastModifiedTime': datetime.datetime(2021, 9, 21, 5, 35, 55, 383000, tzinfo=tzlocal())}]\n",
      "[{'RuleConfigurationName': 'VanishingGradient', 'RuleEvaluationJobArn': 'arn:aws:sagemaker:us-east-1:382125990904:processing-job/smdebug-demo-tf2-keras-202-vanishinggradient-01d97105', 'RuleEvaluationStatus': 'InProgress', 'LastModifiedTime': datetime.datetime(2021, 9, 21, 5, 36, 18, 956000, tzinfo=tzlocal())}, {'RuleConfigurationName': 'LossNotDecreasing', 'RuleEvaluationJobArn': 'arn:aws:sagemaker:us-east-1:382125990904:processing-job/smdebug-demo-tf2-keras-202-lossnotdecreasing-a72a4daa', 'RuleEvaluationStatus': 'InProgress', 'LastModifiedTime': datetime.datetime(2021, 9, 21, 5, 36, 18, 956000, tzinfo=tzlocal())}, {'RuleConfigurationName': 'ProfilerReport-1632202310', 'RuleEvaluationJobArn': 'arn:aws:sagemaker:us-east-1:382125990904:processing-job/smdebug-demo-tf2-keras-202-profilerreport-1632202310-4d385f48', 'RuleEvaluationStatus': 'InProgress', 'LastModifiedTime': datetime.datetime(2021, 9, 21, 5, 36, 15, 472000, tzinfo=tzlocal())}]\n",
      "[{'RuleConfigurationName': 'VanishingGradient', 'RuleEvaluationJobArn': 'arn:aws:sagemaker:us-east-1:382125990904:processing-job/smdebug-demo-tf2-keras-202-vanishinggradient-01d97105', 'RuleEvaluationStatus': 'InProgress', 'LastModifiedTime': datetime.datetime(2021, 9, 21, 5, 36, 18, 956000, tzinfo=tzlocal())}, {'RuleConfigurationName': 'LossNotDecreasing', 'RuleEvaluationJobArn': 'arn:aws:sagemaker:us-east-1:382125990904:processing-job/smdebug-demo-tf2-keras-202-lossnotdecreasing-a72a4daa', 'RuleEvaluationStatus': 'InProgress', 'LastModifiedTime': datetime.datetime(2021, 9, 21, 5, 36, 18, 956000, tzinfo=tzlocal())}, {'RuleConfigurationName': 'ProfilerReport-1632202310', 'RuleEvaluationJobArn': 'arn:aws:sagemaker:us-east-1:382125990904:processing-job/smdebug-demo-tf2-keras-202-profilerreport-1632202310-4d385f48', 'RuleEvaluationStatus': 'InProgress', 'LastModifiedTime': datetime.datetime(2021, 9, 21, 5, 36, 15, 472000, tzinfo=tzlocal())}]\n",
      "[{'RuleConfigurationName': 'VanishingGradient', 'RuleEvaluationJobArn': 'arn:aws:sagemaker:us-east-1:382125990904:processing-job/smdebug-demo-tf2-keras-202-vanishinggradient-01d97105', 'RuleEvaluationStatus': 'InProgress', 'LastModifiedTime': datetime.datetime(2021, 9, 21, 5, 36, 39, 53000, tzinfo=tzlocal())}, {'RuleConfigurationName': 'LossNotDecreasing', 'RuleEvaluationJobArn': 'arn:aws:sagemaker:us-east-1:382125990904:processing-job/smdebug-demo-tf2-keras-202-lossnotdecreasing-a72a4daa', 'RuleEvaluationStatus': 'InProgress', 'LastModifiedTime': datetime.datetime(2021, 9, 21, 5, 36, 39, 53000, tzinfo=tzlocal())}, {'RuleConfigurationName': 'ProfilerReport-1632202310', 'RuleEvaluationJobArn': 'arn:aws:sagemaker:us-east-1:382125990904:processing-job/smdebug-demo-tf2-keras-202-profilerreport-1632202310-4d385f48', 'RuleEvaluationStatus': 'InProgress', 'LastModifiedTime': datetime.datetime(2021, 9, 21, 5, 36, 35, 538000, tzinfo=tzlocal())}]\n",
      "[{'RuleConfigurationName': 'VanishingGradient', 'RuleEvaluationJobArn': 'arn:aws:sagemaker:us-east-1:382125990904:processing-job/smdebug-demo-tf2-keras-202-vanishinggradient-01d97105', 'RuleEvaluationStatus': 'InProgress', 'LastModifiedTime': datetime.datetime(2021, 9, 21, 5, 36, 39, 53000, tzinfo=tzlocal())}, {'RuleConfigurationName': 'LossNotDecreasing', 'RuleEvaluationJobArn': 'arn:aws:sagemaker:us-east-1:382125990904:processing-job/smdebug-demo-tf2-keras-202-lossnotdecreasing-a72a4daa', 'RuleEvaluationStatus': 'InProgress', 'LastModifiedTime': datetime.datetime(2021, 9, 21, 5, 36, 39, 53000, tzinfo=tzlocal())}, {'RuleConfigurationName': 'ProfilerReport-1632202310', 'RuleEvaluationJobArn': 'arn:aws:sagemaker:us-east-1:382125990904:processing-job/smdebug-demo-tf2-keras-202-profilerreport-1632202310-4d385f48', 'RuleEvaluationStatus': 'InProgress', 'LastModifiedTime': datetime.datetime(2021, 9, 21, 5, 36, 35, 538000, tzinfo=tzlocal())}]\n",
      "[{'RuleConfigurationName': 'VanishingGradient', 'RuleEvaluationJobArn': 'arn:aws:sagemaker:us-east-1:382125990904:processing-job/smdebug-demo-tf2-keras-202-vanishinggradient-01d97105', 'RuleEvaluationStatus': 'InProgress', 'LastModifiedTime': datetime.datetime(2021, 9, 21, 5, 36, 59, 155000, tzinfo=tzlocal())}, {'RuleConfigurationName': 'LossNotDecreasing', 'RuleEvaluationJobArn': 'arn:aws:sagemaker:us-east-1:382125990904:processing-job/smdebug-demo-tf2-keras-202-lossnotdecreasing-a72a4daa', 'RuleEvaluationStatus': 'InProgress', 'LastModifiedTime': datetime.datetime(2021, 9, 21, 5, 36, 59, 155000, tzinfo=tzlocal())}, {'RuleConfigurationName': 'ProfilerReport-1632202310', 'RuleEvaluationJobArn': 'arn:aws:sagemaker:us-east-1:382125990904:processing-job/smdebug-demo-tf2-keras-202-profilerreport-1632202310-4d385f48', 'RuleEvaluationStatus': 'InProgress', 'LastModifiedTime': datetime.datetime(2021, 9, 21, 5, 36, 55, 632000, tzinfo=tzlocal())}]\n",
      "[{'RuleConfigurationName': 'VanishingGradient', 'RuleEvaluationJobArn': 'arn:aws:sagemaker:us-east-1:382125990904:processing-job/smdebug-demo-tf2-keras-202-vanishinggradient-01d97105', 'RuleEvaluationStatus': 'InProgress', 'LastModifiedTime': datetime.datetime(2021, 9, 21, 5, 36, 59, 155000, tzinfo=tzlocal())}, {'RuleConfigurationName': 'LossNotDecreasing', 'RuleEvaluationJobArn': 'arn:aws:sagemaker:us-east-1:382125990904:processing-job/smdebug-demo-tf2-keras-202-lossnotdecreasing-a72a4daa', 'RuleEvaluationStatus': 'InProgress', 'LastModifiedTime': datetime.datetime(2021, 9, 21, 5, 36, 59, 155000, tzinfo=tzlocal())}, {'RuleConfigurationName': 'ProfilerReport-1632202310', 'RuleEvaluationJobArn': 'arn:aws:sagemaker:us-east-1:382125990904:processing-job/smdebug-demo-tf2-keras-202-profilerreport-1632202310-4d385f48', 'RuleEvaluationStatus': 'InProgress', 'LastModifiedTime': datetime.datetime(2021, 9, 21, 5, 36, 55, 632000, tzinfo=tzlocal())}]\n",
      "[{'RuleConfigurationName': 'VanishingGradient', 'RuleEvaluationJobArn': 'arn:aws:sagemaker:us-east-1:382125990904:processing-job/smdebug-demo-tf2-keras-202-vanishinggradient-01d97105', 'RuleEvaluationStatus': 'InProgress', 'LastModifiedTime': datetime.datetime(2021, 9, 21, 5, 37, 19, 243000, tzinfo=tzlocal())}, {'RuleConfigurationName': 'LossNotDecreasing', 'RuleEvaluationJobArn': 'arn:aws:sagemaker:us-east-1:382125990904:processing-job/smdebug-demo-tf2-keras-202-lossnotdecreasing-a72a4daa', 'RuleEvaluationStatus': 'InProgress', 'LastModifiedTime': datetime.datetime(2021, 9, 21, 5, 37, 19, 243000, tzinfo=tzlocal())}, {'RuleConfigurationName': 'ProfilerReport-1632202310', 'RuleEvaluationJobArn': 'arn:aws:sagemaker:us-east-1:382125990904:processing-job/smdebug-demo-tf2-keras-202-profilerreport-1632202310-4d385f48', 'RuleEvaluationStatus': 'InProgress', 'LastModifiedTime': datetime.datetime(2021, 9, 21, 5, 37, 15, 711000, tzinfo=tzlocal())}]\n",
      "[{'RuleConfigurationName': 'VanishingGradient', 'RuleEvaluationJobArn': 'arn:aws:sagemaker:us-east-1:382125990904:processing-job/smdebug-demo-tf2-keras-202-vanishinggradient-01d97105', 'RuleEvaluationStatus': 'InProgress', 'LastModifiedTime': datetime.datetime(2021, 9, 21, 5, 37, 19, 243000, tzinfo=tzlocal())}, {'RuleConfigurationName': 'LossNotDecreasing', 'RuleEvaluationJobArn': 'arn:aws:sagemaker:us-east-1:382125990904:processing-job/smdebug-demo-tf2-keras-202-lossnotdecreasing-a72a4daa', 'RuleEvaluationStatus': 'InProgress', 'LastModifiedTime': datetime.datetime(2021, 9, 21, 5, 37, 19, 243000, tzinfo=tzlocal())}, {'RuleConfigurationName': 'ProfilerReport-1632202310', 'RuleEvaluationJobArn': 'arn:aws:sagemaker:us-east-1:382125990904:processing-job/smdebug-demo-tf2-keras-202-profilerreport-1632202310-4d385f48', 'RuleEvaluationStatus': 'InProgress', 'LastModifiedTime': datetime.datetime(2021, 9, 21, 5, 37, 15, 711000, tzinfo=tzlocal())}]\n",
      "[{'RuleConfigurationName': 'VanishingGradient', 'RuleEvaluationJobArn': 'arn:aws:sagemaker:us-east-1:382125990904:processing-job/smdebug-demo-tf2-keras-202-vanishinggradient-01d97105', 'RuleEvaluationStatus': 'InProgress', 'LastModifiedTime': datetime.datetime(2021, 9, 21, 5, 37, 39, 340000, tzinfo=tzlocal())}, {'RuleConfigurationName': 'LossNotDecreasing', 'RuleEvaluationJobArn': 'arn:aws:sagemaker:us-east-1:382125990904:processing-job/smdebug-demo-tf2-keras-202-lossnotdecreasing-a72a4daa', 'RuleEvaluationStatus': 'InProgress', 'LastModifiedTime': datetime.datetime(2021, 9, 21, 5, 37, 39, 340000, tzinfo=tzlocal())}, {'RuleConfigurationName': 'ProfilerReport-1632202310', 'RuleEvaluationJobArn': 'arn:aws:sagemaker:us-east-1:382125990904:processing-job/smdebug-demo-tf2-keras-202-profilerreport-1632202310-4d385f48', 'RuleEvaluationStatus': 'NoIssuesFound', 'LastModifiedTime': datetime.datetime(2021, 9, 21, 5, 37, 35, 799000, tzinfo=tzlocal())}]\n",
      "[{'RuleConfigurationName': 'VanishingGradient', 'RuleEvaluationJobArn': 'arn:aws:sagemaker:us-east-1:382125990904:processing-job/smdebug-demo-tf2-keras-202-vanishinggradient-01d97105', 'RuleEvaluationStatus': 'InProgress', 'LastModifiedTime': datetime.datetime(2021, 9, 21, 5, 37, 39, 340000, tzinfo=tzlocal())}, {'RuleConfigurationName': 'LossNotDecreasing', 'RuleEvaluationJobArn': 'arn:aws:sagemaker:us-east-1:382125990904:processing-job/smdebug-demo-tf2-keras-202-lossnotdecreasing-a72a4daa', 'RuleEvaluationStatus': 'InProgress', 'LastModifiedTime': datetime.datetime(2021, 9, 21, 5, 37, 39, 340000, tzinfo=tzlocal())}, {'RuleConfigurationName': 'ProfilerReport-1632202310', 'RuleEvaluationJobArn': 'arn:aws:sagemaker:us-east-1:382125990904:processing-job/smdebug-demo-tf2-keras-202-profilerreport-1632202310-4d385f48', 'RuleEvaluationStatus': 'NoIssuesFound', 'LastModifiedTime': datetime.datetime(2021, 9, 21, 5, 37, 35, 799000, tzinfo=tzlocal())}]\n",
      "[{'RuleConfigurationName': 'VanishingGradient', 'RuleEvaluationJobArn': 'arn:aws:sagemaker:us-east-1:382125990904:processing-job/smdebug-demo-tf2-keras-202-vanishinggradient-01d97105', 'RuleEvaluationStatus': 'InProgress', 'LastModifiedTime': datetime.datetime(2021, 9, 21, 5, 37, 59, 426000, tzinfo=tzlocal())}, {'RuleConfigurationName': 'LossNotDecreasing', 'RuleEvaluationJobArn': 'arn:aws:sagemaker:us-east-1:382125990904:processing-job/smdebug-demo-tf2-keras-202-lossnotdecreasing-a72a4daa', 'RuleEvaluationStatus': 'InProgress', 'LastModifiedTime': datetime.datetime(2021, 9, 21, 5, 37, 59, 426000, tzinfo=tzlocal())}, {'RuleConfigurationName': 'ProfilerReport-1632202310', 'RuleEvaluationJobArn': 'arn:aws:sagemaker:us-east-1:382125990904:processing-job/smdebug-demo-tf2-keras-202-profilerreport-1632202310-4d385f48', 'RuleEvaluationStatus': 'NoIssuesFound', 'LastModifiedTime': datetime.datetime(2021, 9, 21, 5, 37, 35, 799000, tzinfo=tzlocal())}]\n",
      "[{'RuleConfigurationName': 'VanishingGradient', 'RuleEvaluationJobArn': 'arn:aws:sagemaker:us-east-1:382125990904:processing-job/smdebug-demo-tf2-keras-202-vanishinggradient-01d97105', 'RuleEvaluationStatus': 'InProgress', 'LastModifiedTime': datetime.datetime(2021, 9, 21, 5, 37, 59, 426000, tzinfo=tzlocal())}, {'RuleConfigurationName': 'LossNotDecreasing', 'RuleEvaluationJobArn': 'arn:aws:sagemaker:us-east-1:382125990904:processing-job/smdebug-demo-tf2-keras-202-lossnotdecreasing-a72a4daa', 'RuleEvaluationStatus': 'InProgress', 'LastModifiedTime': datetime.datetime(2021, 9, 21, 5, 37, 59, 426000, tzinfo=tzlocal())}, {'RuleConfigurationName': 'ProfilerReport-1632202310', 'RuleEvaluationJobArn': 'arn:aws:sagemaker:us-east-1:382125990904:processing-job/smdebug-demo-tf2-keras-202-profilerreport-1632202310-4d385f48', 'RuleEvaluationStatus': 'NoIssuesFound', 'LastModifiedTime': datetime.datetime(2021, 9, 21, 5, 37, 35, 799000, tzinfo=tzlocal())}]\n",
      "[{'RuleConfigurationName': 'VanishingGradient', 'RuleEvaluationJobArn': 'arn:aws:sagemaker:us-east-1:382125990904:processing-job/smdebug-demo-tf2-keras-202-vanishinggradient-01d97105', 'RuleEvaluationStatus': 'InProgress', 'LastModifiedTime': datetime.datetime(2021, 9, 21, 5, 38, 19, 516000, tzinfo=tzlocal())}, {'RuleConfigurationName': 'LossNotDecreasing', 'RuleEvaluationJobArn': 'arn:aws:sagemaker:us-east-1:382125990904:processing-job/smdebug-demo-tf2-keras-202-lossnotdecreasing-a72a4daa', 'RuleEvaluationStatus': 'InProgress', 'LastModifiedTime': datetime.datetime(2021, 9, 21, 5, 38, 19, 516000, tzinfo=tzlocal())}, {'RuleConfigurationName': 'ProfilerReport-1632202310', 'RuleEvaluationJobArn': 'arn:aws:sagemaker:us-east-1:382125990904:processing-job/smdebug-demo-tf2-keras-202-profilerreport-1632202310-4d385f48', 'RuleEvaluationStatus': 'NoIssuesFound', 'LastModifiedTime': datetime.datetime(2021, 9, 21, 5, 37, 35, 799000, tzinfo=tzlocal())}]\n",
      "[{'RuleConfigurationName': 'VanishingGradient', 'RuleEvaluationJobArn': 'arn:aws:sagemaker:us-east-1:382125990904:processing-job/smdebug-demo-tf2-keras-202-vanishinggradient-01d97105', 'RuleEvaluationStatus': 'InProgress', 'LastModifiedTime': datetime.datetime(2021, 9, 21, 5, 38, 19, 516000, tzinfo=tzlocal())}, {'RuleConfigurationName': 'LossNotDecreasing', 'RuleEvaluationJobArn': 'arn:aws:sagemaker:us-east-1:382125990904:processing-job/smdebug-demo-tf2-keras-202-lossnotdecreasing-a72a4daa', 'RuleEvaluationStatus': 'InProgress', 'LastModifiedTime': datetime.datetime(2021, 9, 21, 5, 38, 19, 516000, tzinfo=tzlocal())}, {'RuleConfigurationName': 'ProfilerReport-1632202310', 'RuleEvaluationJobArn': 'arn:aws:sagemaker:us-east-1:382125990904:processing-job/smdebug-demo-tf2-keras-202-profilerreport-1632202310-4d385f48', 'RuleEvaluationStatus': 'NoIssuesFound', 'LastModifiedTime': datetime.datetime(2021, 9, 21, 5, 37, 35, 799000, tzinfo=tzlocal())}]\n",
      "[{'RuleConfigurationName': 'VanishingGradient', 'RuleEvaluationJobArn': 'arn:aws:sagemaker:us-east-1:382125990904:processing-job/smdebug-demo-tf2-keras-202-vanishinggradient-01d97105', 'RuleEvaluationStatus': 'InProgress', 'LastModifiedTime': datetime.datetime(2021, 9, 21, 5, 38, 39, 670000, tzinfo=tzlocal())}, {'RuleConfigurationName': 'LossNotDecreasing', 'RuleEvaluationJobArn': 'arn:aws:sagemaker:us-east-1:382125990904:processing-job/smdebug-demo-tf2-keras-202-lossnotdecreasing-a72a4daa', 'RuleEvaluationStatus': 'InProgress', 'LastModifiedTime': datetime.datetime(2021, 9, 21, 5, 38, 39, 670000, tzinfo=tzlocal())}, {'RuleConfigurationName': 'ProfilerReport-1632202310', 'RuleEvaluationJobArn': 'arn:aws:sagemaker:us-east-1:382125990904:processing-job/smdebug-demo-tf2-keras-202-profilerreport-1632202310-4d385f48', 'RuleEvaluationStatus': 'NoIssuesFound', 'LastModifiedTime': datetime.datetime(2021, 9, 21, 5, 37, 35, 799000, tzinfo=tzlocal())}]\n",
      "[{'RuleConfigurationName': 'VanishingGradient', 'RuleEvaluationJobArn': 'arn:aws:sagemaker:us-east-1:382125990904:processing-job/smdebug-demo-tf2-keras-202-vanishinggradient-01d97105', 'RuleEvaluationStatus': 'InProgress', 'LastModifiedTime': datetime.datetime(2021, 9, 21, 5, 38, 39, 670000, tzinfo=tzlocal())}, {'RuleConfigurationName': 'LossNotDecreasing', 'RuleEvaluationJobArn': 'arn:aws:sagemaker:us-east-1:382125990904:processing-job/smdebug-demo-tf2-keras-202-lossnotdecreasing-a72a4daa', 'RuleEvaluationStatus': 'InProgress', 'LastModifiedTime': datetime.datetime(2021, 9, 21, 5, 38, 39, 670000, tzinfo=tzlocal())}, {'RuleConfigurationName': 'ProfilerReport-1632202310', 'RuleEvaluationJobArn': 'arn:aws:sagemaker:us-east-1:382125990904:processing-job/smdebug-demo-tf2-keras-202-profilerreport-1632202310-4d385f48', 'RuleEvaluationStatus': 'NoIssuesFound', 'LastModifiedTime': datetime.datetime(2021, 9, 21, 5, 37, 35, 799000, tzinfo=tzlocal())}]\n",
      "[{'RuleConfigurationName': 'VanishingGradient', 'RuleEvaluationJobArn': 'arn:aws:sagemaker:us-east-1:382125990904:processing-job/smdebug-demo-tf2-keras-202-vanishinggradient-01d97105', 'RuleEvaluationStatus': 'InProgress', 'LastModifiedTime': datetime.datetime(2021, 9, 21, 5, 38, 59, 768000, tzinfo=tzlocal())}, {'RuleConfigurationName': 'LossNotDecreasing', 'RuleEvaluationJobArn': 'arn:aws:sagemaker:us-east-1:382125990904:processing-job/smdebug-demo-tf2-keras-202-lossnotdecreasing-a72a4daa', 'RuleEvaluationStatus': 'InProgress', 'LastModifiedTime': datetime.datetime(2021, 9, 21, 5, 38, 59, 768000, tzinfo=tzlocal())}, {'RuleConfigurationName': 'ProfilerReport-1632202310', 'RuleEvaluationJobArn': 'arn:aws:sagemaker:us-east-1:382125990904:processing-job/smdebug-demo-tf2-keras-202-profilerreport-1632202310-4d385f48', 'RuleEvaluationStatus': 'NoIssuesFound', 'LastModifiedTime': datetime.datetime(2021, 9, 21, 5, 37, 35, 799000, tzinfo=tzlocal())}]\n",
      "[{'RuleConfigurationName': 'VanishingGradient', 'RuleEvaluationJobArn': 'arn:aws:sagemaker:us-east-1:382125990904:processing-job/smdebug-demo-tf2-keras-202-vanishinggradient-01d97105', 'RuleEvaluationStatus': 'InProgress', 'LastModifiedTime': datetime.datetime(2021, 9, 21, 5, 38, 59, 768000, tzinfo=tzlocal())}, {'RuleConfigurationName': 'LossNotDecreasing', 'RuleEvaluationJobArn': 'arn:aws:sagemaker:us-east-1:382125990904:processing-job/smdebug-demo-tf2-keras-202-lossnotdecreasing-a72a4daa', 'RuleEvaluationStatus': 'InProgress', 'LastModifiedTime': datetime.datetime(2021, 9, 21, 5, 38, 59, 768000, tzinfo=tzlocal())}, {'RuleConfigurationName': 'ProfilerReport-1632202310', 'RuleEvaluationJobArn': 'arn:aws:sagemaker:us-east-1:382125990904:processing-job/smdebug-demo-tf2-keras-202-profilerreport-1632202310-4d385f48', 'RuleEvaluationStatus': 'NoIssuesFound', 'LastModifiedTime': datetime.datetime(2021, 9, 21, 5, 37, 35, 799000, tzinfo=tzlocal())}]\n",
      "[{'RuleConfigurationName': 'VanishingGradient', 'RuleEvaluationJobArn': 'arn:aws:sagemaker:us-east-1:382125990904:processing-job/smdebug-demo-tf2-keras-202-vanishinggradient-01d97105', 'RuleEvaluationStatus': 'NoIssuesFound', 'LastModifiedTime': datetime.datetime(2021, 9, 21, 5, 39, 19, 861000, tzinfo=tzlocal())}, {'RuleConfigurationName': 'LossNotDecreasing', 'RuleEvaluationJobArn': 'arn:aws:sagemaker:us-east-1:382125990904:processing-job/smdebug-demo-tf2-keras-202-lossnotdecreasing-a72a4daa', 'RuleEvaluationStatus': 'InProgress', 'LastModifiedTime': datetime.datetime(2021, 9, 21, 5, 39, 19, 861000, tzinfo=tzlocal())}, {'RuleConfigurationName': 'ProfilerReport-1632202310', 'RuleEvaluationJobArn': 'arn:aws:sagemaker:us-east-1:382125990904:processing-job/smdebug-demo-tf2-keras-202-profilerreport-1632202310-4d385f48', 'RuleEvaluationStatus': 'NoIssuesFound', 'LastModifiedTime': datetime.datetime(2021, 9, 21, 5, 37, 35, 799000, tzinfo=tzlocal())}]\n"
     ]
    }
   ],
   "source": [
    "import time\n",
    "\n",
    "status = estimator.latest_training_job.rule_job_summary()\n",
    "while status[0][\"RuleEvaluationStatus\"] == \"InProgress\":\n",
    "    status = estimator.latest_training_job.rule_job_summary()\n",
    "    print(status)\n",
    "    time.sleep(10)"
   ]
  },
  {
   "cell_type": "markdown",
   "metadata": {},
   "source": [
    "Once the rule job starts and you see the RuleEvaluationJobArn above, we can see the logs for the rule job in Cloudwatch. To do that, we'll use this utlity function to get a link to the rule job logs."
   ]
  },
  {
   "cell_type": "code",
   "execution_count": 48,
   "metadata": {},
   "outputs": [
    {
     "data": {
      "text/plain": [
       "{'VanishingGradient': 'https://us-east-1.console.aws.amazon.com/cloudwatch/home?region=us-east-1#logStream:group=/aws/sagemaker/ProcessingJobs;prefix=smdebug-demo-tf2-keras-202-VanishingGradient-01d97105;streamFilter=typeLogStreamPrefix',\n",
       " 'LossNotDecreasing': 'https://us-east-1.console.aws.amazon.com/cloudwatch/home?region=us-east-1#logStream:group=/aws/sagemaker/ProcessingJobs;prefix=smdebug-demo-tf2-keras-202-LossNotDecreasing-a72a4daa;streamFilter=typeLogStreamPrefix'}"
      ]
     },
     "execution_count": 48,
     "metadata": {},
     "output_type": "execute_result"
    }
   ],
   "source": [
    "def _get_rule_job_name(training_job_name, rule_configuration_name, rule_job_arn):\n",
    "    \"\"\"Helper function to get the rule job name with correct casing\"\"\"\n",
    "    return \"{}-{}-{}\".format(\n",
    "        training_job_name[:26], rule_configuration_name[:26], rule_job_arn[-8:]\n",
    "    )\n",
    "\n",
    "\n",
    "def _get_cw_url_for_rule_job(rule_job_name, region):\n",
    "    return \"https://{}.console.aws.amazon.com/cloudwatch/home?region={}#logStream:group=/aws/sagemaker/ProcessingJobs;prefix={};streamFilter=typeLogStreamPrefix\".format(\n",
    "        region, region, rule_job_name\n",
    "    )\n",
    "\n",
    "\n",
    "def get_rule_jobs_cw_urls(estimator):\n",
    "    training_job = estimator.latest_training_job\n",
    "    training_job_name = training_job.describe()[\"TrainingJobName\"]\n",
    "    rule_eval_statuses = training_job.describe()[\"DebugRuleEvaluationStatuses\"]\n",
    "\n",
    "    result = {}\n",
    "    for status in rule_eval_statuses:\n",
    "        if status.get(\"RuleEvaluationJobArn\", None) is not None:\n",
    "            rule_job_name = _get_rule_job_name(\n",
    "                training_job_name, status[\"RuleConfigurationName\"], status[\"RuleEvaluationJobArn\"]\n",
    "            )\n",
    "            result[status[\"RuleConfigurationName\"]] = _get_cw_url_for_rule_job(\n",
    "                rule_job_name, boto3.Session().region_name\n",
    "            )\n",
    "    return result\n",
    "\n",
    "\n",
    "get_rule_jobs_cw_urls(estimator)"
   ]
  },
  {
   "cell_type": "markdown",
   "metadata": {},
   "source": [
    "## Data Analysis - Interactive Exploration\n",
    "Now that we have trained a job, and looked at automated analysis through rules, let us also look at another aspect of Amazon SageMaker Debugger. It allows us to perform interactive exploration of the tensors saved in real time or after the job. Here we focus on after-the-fact analysis of the above job. We import the `smdebug` library, which defines a concept of Trial that represents a single training run. Note how we fetch the path to debugger artifacts for the above job."
   ]
  },
  {
   "cell_type": "code",
   "execution_count": 49,
   "metadata": {},
   "outputs": [
    {
     "name": "stdout",
     "output_type": "stream",
     "text": [
      "[2021-09-21 05:39:30.902 tensorflow-2-3-cpu-py-ml-t3-medium-dbca98283d57d615662c4efa28c8:75 INFO s3_trial.py:42] Loading trial debug-output at path s3://sagemaker-us-east-1-382125990904/smdebug-demo-tf2-keras-2021-09-21-05-31-50-318/debug-output\n"
     ]
    }
   ],
   "source": [
    "from smdebug.trials import create_trial\n",
    "\n",
    "trial = create_trial(estimator.latest_job_debugger_artifacts_path())"
   ]
  },
  {
   "cell_type": "markdown",
   "metadata": {},
   "source": [
    "We can list all the tensors that were recorded to know what we want to plot. Each one of these names is the name of a tensor, which is auto-assigned by TensorFlow. In some frameworks where such names are not available, we try to create a name based on the layer's name and whether it is weight, bias, gradient, input or output.\n",
    "\n",
    "Note: As part of this experimental support fot TF 2.x, gradients, inputs, outputs are not saved by Sagemaker Debugger"
   ]
  },
  {
   "cell_type": "code",
   "execution_count": 50,
   "metadata": {},
   "outputs": [
    {
     "name": "stdout",
     "output_type": "stream",
     "text": [
      "[2021-09-21 05:39:31.238 tensorflow-2-3-cpu-py-ml-t3-medium-dbca98283d57d615662c4efa28c8:75 INFO trial.py:198] Training has ended, will refresh one final time in 1 sec.\n",
      "[2021-09-21 05:39:32.263 tensorflow-2-3-cpu-py-ml-t3-medium-dbca98283d57d615662c4efa28c8:75 INFO trial.py:210] Loaded all steps\n"
     ]
    },
    {
     "data": {
      "text/plain": [
       "['accuracy',\n",
       " 'batch',\n",
       " 'loss',\n",
       " 'scalar/batch_size',\n",
       " 'scalar/epoch',\n",
       " 'scalar/train_steps_per_epoch',\n",
       " 'scalar/valid_steps_per_epoch',\n",
       " 'size',\n",
       " 'val_accuracy',\n",
       " 'val_loss']"
      ]
     },
     "execution_count": 50,
     "metadata": {},
     "output_type": "execute_result"
    }
   ],
   "source": [
    "trial.tensor_names()"
   ]
  },
  {
   "cell_type": "code",
   "execution_count": 13,
   "metadata": {},
   "outputs": [
    {
     "data": {
      "text/plain": [
       "<bound method Trial.tensor of <smdebug.trials.s3_trial.S3Trial object at 0x7eff2e29cd50>:(\n",
       "    name=debug-output,\n",
       "    path=s3://sagemaker-us-east-1-382125990904/smdebug-demo-tf2-keras-2021-09-20-18-35-32-665/debug-output/,\n",
       "    steps=[0, 2, 3, 7, 11, 15],\n",
       "    collections=['weights', 'metrics', 'all', 'sm_metrics', 'optimizer_variables', 'inputs', 'default', 'biases', 'losses', 'outputs', 'gradients'],\n",
       "    tensor_names=['accuracy', 'batch', 'loss', 'scalar/batch_size', 'scalar/epoch', 'scalar/train_steps_per_epoch', 'scalar/valid_steps_per_epoch', 'size', 'val_accuracy', 'val_loss'],\n",
       ")>"
      ]
     },
     "execution_count": 13,
     "metadata": {},
     "output_type": "execute_result"
    }
   ],
   "source": [
    "trial.tensor"
   ]
  }
 ],
 "metadata": {
  "instance_type": "ml.t3.medium",
  "kernelspec": {
   "display_name": "Python 3 (TensorFlow 2.3 Python 3.7 CPU Optimized)",
   "language": "python",
   "name": "python3__SAGEMAKER_INTERNAL__arn:aws:sagemaker:us-east-1:081325390199:image/tensorflow-2.3-cpu-py37-ubuntu18.04-v1"
  },
  "language_info": {
   "codemirror_mode": {
    "name": "ipython",
    "version": 3
   },
   "file_extension": ".py",
   "mimetype": "text/x-python",
   "name": "python",
   "nbconvert_exporter": "python",
   "pygments_lexer": "ipython3",
   "version": "3.7.10"
  }
 },
 "nbformat": 4,
 "nbformat_minor": 4
}
