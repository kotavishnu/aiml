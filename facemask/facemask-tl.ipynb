{
 "cells": [
  {
   "cell_type": "markdown",
   "metadata": {},
   "source": [
    "# Facemask detection using Transfer Learning(Inception V3)"
   ]
  },
  {
   "cell_type": "markdown",
   "metadata": {},
   "source": [
    "The main purpose of this notebook is improve the accuracy using Transfer Learning. We have did the literature survey \n",
    "on various algorithms and found Inception V3 is performing above 99% of accuracy.\n",
    "Training Validation Metrics of basic CNN\n",
    "Loss: 0.1204\n",
    "Accuracy: 0.9641\n",
    "Time taken: 6 minutes\n",
    "We wanted to train the lower layers to train the model and achieve the accuracy of about 99%.\n"
   ]
  },
  {
   "cell_type": "markdown",
   "metadata": {},
   "source": [
    "Import the packages such as tensorflow,keras"
   ]
  },
  {
   "cell_type": "code",
   "execution_count": 1,
   "metadata": {},
   "outputs": [],
   "source": [
    "import os\n",
    "import zipfile\n",
    "import tensorflow as tf\n",
    "from tensorflow.keras.optimizers import RMSprop\n",
    "from tensorflow.keras.preprocessing.image import ImageDataGenerator\n",
    "from tensorflow.keras import layers\n",
    "from tensorflow.keras import Model"
   ]
  },
  {
   "cell_type": "code",
   "execution_count": 2,
   "metadata": {},
   "outputs": [],
   "source": [
    "from keras.preprocessing import image\n",
    "import numpy as np"
   ]
  },
  {
   "cell_type": "code",
   "execution_count": 3,
   "metadata": {},
   "outputs": [],
   "source": [
    "##sudo pip install tensorflow"
   ]
  },
  {
   "cell_type": "code",
   "execution_count": 3,
   "metadata": {},
   "outputs": [],
   "source": [
    "base_dir = '.'\n",
    "train_dir = os.path.join(base_dir, 'train')\n",
    "validation_dir = os.path.join(base_dir, 'test')\n",
    "test_dir = os.path.join(base_dir, 'test')\n"
   ]
  },
  {
   "cell_type": "markdown",
   "metadata": {},
   "source": [
    "Import the inception model"
   ]
  },
  {
   "cell_type": "code",
   "execution_count": 5,
   "metadata": {},
   "outputs": [],
   "source": [
    "  \n",
    "from tensorflow.keras.applications.inception_v3 import InceptionV3"
   ]
  },
  {
   "cell_type": "code",
   "execution_count": 6,
   "metadata": {},
   "outputs": [],
   "source": [
    "pre_trained_model = InceptionV3(input_shape = (150, 150, 3), # Shape of our images\n",
    "                                include_top = False, # Leave out the last fully connected layer\n",
    "                                weights = 'imagenet')"
   ]
  },
  {
   "cell_type": "code",
   "execution_count": 7,
   "metadata": {},
   "outputs": [],
   "source": [
    "for layer in pre_trained_model.layers:\n",
    "  layer.trainable = False"
   ]
  },
  {
   "cell_type": "markdown",
   "metadata": {},
   "source": [
    "Callback to stop the training once desired accuracy is reached"
   ]
  },
  {
   "cell_type": "code",
   "execution_count": 15,
   "metadata": {},
   "outputs": [],
   "source": [
    "class myCallback(tf.keras.callbacks.Callback):\n",
    "  def on_epoch_end(self, epoch, logs={}):\n",
    "    if(logs.get('acc')>0.99):\n",
    "      print(\"\\nReached 99.9% accuracy so cancelling training!\")\n",
    "      self.model.stop_training = True"
   ]
  },
  {
   "cell_type": "markdown",
   "metadata": {},
   "source": [
    "Build the Network layers with Inception V3"
   ]
  },
  {
   "cell_type": "code",
   "execution_count": 11,
   "metadata": {},
   "outputs": [],
   "source": [
    "from tensorflow.keras.optimizers import RMSprop\n",
    "\n",
    "# Flatten the output layer to 1 dimension\n",
    "x = layers.Flatten()(pre_trained_model.output)\n",
    "# Add a fully connected layer with 1,024 hidden units and ReLU activation\n",
    "x = layers.Dense(1024, activation='relu')(x)\n",
    "# Add a dropout rate of 0.2\n",
    "x = layers.Dropout(0.2)(x)                  \n",
    "# Add a final sigmoid layer for classification\n",
    "x = layers.Dense  (1, activation='sigmoid')(x)           \n",
    "\n",
    "model = Model( pre_trained_model.input, x) \n",
    "\n",
    "#model.compile(optimizer = RMSprop(learning_rate=0.0001), \n",
    "model.compile(optimizer = 'adam', \n",
    "              loss = 'binary_crossentropy', \n",
    "              metrics = ['acc'])"
   ]
  },
  {
   "cell_type": "markdown",
   "metadata": {},
   "source": [
    "Create the training and test data set with lables\n",
    "EDA\n",
    "Augument the images with below:\n",
    "Scale\n",
    "Rotate\n",
    "Shear\n",
    "Zoom\n",
    "Horizontal flip"
   ]
  },
  {
   "cell_type": "code",
   "execution_count": 12,
   "metadata": {},
   "outputs": [
    {
     "name": "stdout",
     "output_type": "stream",
     "text": [
      "Found 1318 images belonging to 2 classes.\n",
      "Found 200 images belonging to 2 classes.\n"
     ]
    }
   ],
   "source": [
    "# Add our data-augmentation parameters to ImageDataGenerator\n",
    "train_datagen = ImageDataGenerator(rescale = 1./255.,\n",
    "                                   rotation_range = 40,\n",
    "                                   width_shift_range = 0.2,\n",
    "                                   height_shift_range = 0.2,\n",
    "                                   shear_range = 0.2,\n",
    "                                   zoom_range = 0.2,\n",
    "                                   horizontal_flip = True)\n",
    "\n",
    "# Note that the validation data should not be augmented!\n",
    "test_datagen = ImageDataGenerator( rescale = 1.0/255. )\n",
    "\n",
    "# Flow training images in batches of 20 using train_datagen generator\n",
    "train_generator = train_datagen.flow_from_directory(train_dir,\n",
    "                                                    batch_size = 16,\n",
    "                                                    class_mode = 'binary', \n",
    "                                                    target_size = (150, 150))     \n",
    "\n",
    "# Flow validation images in batches of 20 using test_datagen generator\n",
    "validation_generator =  test_datagen.flow_from_directory( validation_dir,\n",
    "                                                          batch_size  = 16,\n",
    "                                                          class_mode  = 'binary', \n",
    "                                                          target_size = (150, 150))"
   ]
  },
  {
   "cell_type": "markdown",
   "metadata": {},
   "source": [
    "Train the model for 20 epochs"
   ]
  },
  {
   "cell_type": "code",
   "execution_count": 13,
   "metadata": {},
   "outputs": [
    {
     "name": "stderr",
     "output_type": "stream",
     "text": [
      "/opt/conda/lib/python3.7/site-packages/keras/engine/training.py:1972: UserWarning: `Model.fit_generator` is deprecated and will be removed in a future version. Please use `Model.fit`, which supports generators.\n",
      "  warnings.warn('`Model.fit_generator` is deprecated and '\n"
     ]
    },
    {
     "name": "stdout",
     "output_type": "stream",
     "text": [
      "Epoch 1/20\n",
      "20/20 - 12s - loss: 7.0700 - acc: 0.8406 - val_loss: 0.1308 - val_acc: 0.9937\n",
      "Epoch 2/20\n",
      "20/20 - 8s - loss: 1.1859 - acc: 0.9594 - val_loss: 0.9750 - val_acc: 0.9688\n",
      "Epoch 3/20\n",
      "20/20 - 8s - loss: 0.6070 - acc: 0.9710 - val_loss: 0.1674 - val_acc: 0.9937\n",
      "Epoch 4/20\n",
      "20/20 - 8s - loss: 1.0050 - acc: 0.9719 - val_loss: 0.6507 - val_acc: 0.9750\n",
      "Epoch 5/20\n",
      "20/20 - 8s - loss: 0.6095 - acc: 0.9750 - val_loss: 0.5843 - val_acc: 0.9875\n",
      "Epoch 6/20\n",
      "20/20 - 8s - loss: 0.9627 - acc: 0.9563 - val_loss: 0.1364 - val_acc: 0.9875\n",
      "Epoch 7/20\n",
      "20/20 - 8s - loss: 1.0274 - acc: 0.9500 - val_loss: 0.2535 - val_acc: 0.9875\n",
      "Epoch 8/20\n",
      "20/20 - 8s - loss: 0.5081 - acc: 0.9656 - val_loss: 0.5650 - val_acc: 0.9563\n",
      "Epoch 9/20\n",
      "20/20 - 8s - loss: 0.6886 - acc: 0.9581 - val_loss: 0.0758 - val_acc: 0.9937\n",
      "Epoch 10/20\n",
      "20/20 - 8s - loss: 0.6016 - acc: 0.9531 - val_loss: 0.0877 - val_acc: 0.9937\n",
      "Epoch 11/20\n",
      "20/20 - 8s - loss: 0.4495 - acc: 0.9750 - val_loss: 0.0720 - val_acc: 0.9812\n",
      "Epoch 12/20\n",
      "20/20 - 8s - loss: 0.5693 - acc: 0.9656 - val_loss: 0.2642 - val_acc: 0.9875\n",
      "Epoch 13/20\n",
      "20/20 - 8s - loss: 0.2714 - acc: 0.9750 - val_loss: 0.1507 - val_acc: 0.9875\n",
      "Epoch 14/20\n",
      "20/20 - 8s - loss: 0.2808 - acc: 0.9750 - val_loss: 0.1329 - val_acc: 0.9937\n",
      "Epoch 15/20\n",
      "20/20 - 8s - loss: 0.6910 - acc: 0.9581 - val_loss: 0.0741 - val_acc: 0.9812\n",
      "Epoch 16/20\n",
      "20/20 - 8s - loss: 0.1502 - acc: 0.9812 - val_loss: 0.0121 - val_acc: 0.9937\n",
      "Epoch 17/20\n",
      "20/20 - 8s - loss: 0.2037 - acc: 0.9812 - val_loss: 0.0734 - val_acc: 0.9937\n",
      "Epoch 18/20\n",
      "20/20 - 8s - loss: 0.5438 - acc: 0.9688 - val_loss: 0.0085 - val_acc: 0.9937\n",
      "Epoch 19/20\n",
      "20/20 - 8s - loss: 0.2725 - acc: 0.9719 - val_loss: 0.0861 - val_acc: 0.9937\n",
      "Epoch 20/20\n",
      "20/20 - 8s - loss: 0.2679 - acc: 0.9688 - val_loss: 0.1647 - val_acc: 0.9750\n"
     ]
    }
   ],
   "source": [
    "callbacks = myCallback()\n",
    "history = model.fit_generator(\n",
    "            train_generator,\n",
    "            validation_data = validation_generator,\n",
    "            steps_per_epoch = 20,\n",
    "            epochs = 20,\n",
    "            validation_steps = 10,\n",
    "            verbose = 2,\n",
    "            callbacks=[callbacks])"
   ]
  },
  {
   "cell_type": "markdown",
   "metadata": {},
   "source": [
    "Test the model with prediction for 10 random images with mask"
   ]
  },
  {
   "cell_type": "code",
   "execution_count": 18,
   "metadata": {},
   "outputs": [
    {
     "name": "stdout",
     "output_type": "stream",
     "text": [
      "./test/with_mask/357-with-mask.jpg\n",
      "prediction for ./test/with_mask/357-with-mask.jpg is 1.0\n",
      "./test/with_mask/456-with-mask.jpg\n",
      "prediction for ./test/with_mask/456-with-mask.jpg is 4.587041704318725e-15\n",
      "./test/with_mask/78-with-mask.jpg\n",
      "prediction for ./test/with_mask/78-with-mask.jpg is 1.0\n",
      "./test/with_mask/285-with-mask.jpg\n",
      "prediction for ./test/with_mask/285-with-mask.jpg is 1.0\n",
      "./test/with_mask/186-with-mask.jpg\n",
      "prediction for ./test/with_mask/186-with-mask.jpg is 1.0\n",
      "./test/with_mask/429-with-mask.jpg\n",
      "prediction for ./test/with_mask/429-with-mask.jpg is 1.0\n",
      "./test/with_mask/34-with-mask.jpg\n",
      "prediction for ./test/with_mask/34-with-mask.jpg is 1.0\n",
      "./test/with_mask/160-with-mask.jpg\n",
      "prediction for ./test/with_mask/160-with-mask.jpg is 1.0\n",
      "./test/with_mask/106-with-mask.jpg\n",
      "prediction for ./test/with_mask/106-with-mask.jpg is 1.0\n",
      "./test/with_mask/421-with-mask.jpg\n",
      "prediction for ./test/with_mask/421-with-mask.jpg is 1.0\n",
      "./test/with_mask/340-with-mask.jpg\n",
      "prediction for ./test/with_mask/340-with-mask.jpg is 1.0\n"
     ]
    }
   ],
   "source": [
    "path='./test/with_mask/'\n",
    "i=0\n",
    "for x in os.listdir(path):\n",
    "    if x.endswith(\".jpg\"):\n",
    "        # Prints only text file present in My Folder\n",
    "        img_name=path+x\n",
    "        print(img_name)\n",
    "        test_image=image.load_img(img_name, target_size=(150,150,3))\n",
    "        test_image=image.img_to_array(test_image)\n",
    "        test_image=np.expand_dims(test_image,axis=0)\n",
    "        pred=model.predict(test_image)[0][0]\n",
    "        print(\"prediction for {} is {}\".format(img_name,pred))\n",
    "        i=i+1\n",
    "        if i>10:\n",
    "            break"
   ]
  },
  {
   "cell_type": "markdown",
   "metadata": {},
   "source": [
    "Test the model with prediction for 10 random images without mask"
   ]
  },
  {
   "cell_type": "code",
   "execution_count": 19,
   "metadata": {},
   "outputs": [
    {
     "name": "stdout",
     "output_type": "stream",
     "text": [
      "./test/without_mask/10.jpg\n",
      "prediction for ./test/without_mask/10.jpg is 1.0\n",
      "./test/without_mask/89.jpg\n",
      "prediction for ./test/without_mask/89.jpg is 1.0\n",
      "./test/without_mask/179.jpg\n",
      "prediction for ./test/without_mask/179.jpg is 1.0\n",
      "./test/without_mask/368.jpg\n",
      "prediction for ./test/without_mask/368.jpg is 1.0\n",
      "./test/without_mask/54.jpg\n",
      "prediction for ./test/without_mask/54.jpg is 1.0\n",
      "./test/without_mask/261.jpg\n",
      "prediction for ./test/without_mask/261.jpg is 0.9944716095924377\n",
      "./test/without_mask/324.jpg\n",
      "prediction for ./test/without_mask/324.jpg is 1.0\n",
      "./test/without_mask/117.jpg\n",
      "prediction for ./test/without_mask/117.jpg is 1.0\n",
      "./test/without_mask/432.jpg\n",
      "prediction for ./test/without_mask/432.jpg is 1.0\n",
      "./test/without_mask/270.jpg\n",
      "prediction for ./test/without_mask/270.jpg is 1.0\n",
      "./test/without_mask/399.jpg\n",
      "prediction for ./test/without_mask/399.jpg is 0.0\n"
     ]
    }
   ],
   "source": [
    "path='./test/without_mask/'\n",
    "i=0\n",
    "for x in os.listdir(path):\n",
    "    if x.endswith(\".jpg\"):\n",
    "        # Prints only text file present in My Folder\n",
    "        img_name=path+x\n",
    "        print(img_name)\n",
    "        test_image=image.load_img(img_name, target_size=(150,150,3))\n",
    "        test_image=image.img_to_array(test_image)\n",
    "        test_image=np.expand_dims(test_image,axis=0)\n",
    "        pred=model.predict(test_image)[0][0]\n",
    "        print(\"prediction for {} is {}\".format(img_name,pred))\n",
    "        i=i+1\n",
    "        if i>10:\n",
    "            break"
   ]
  },
  {
   "cell_type": "markdown",
   "metadata": {},
   "source": [
    "Sample image with mask"
   ]
  },
  {
   "cell_type": "code",
   "execution_count": 17,
   "metadata": {},
   "outputs": [
    {
     "data": {
      "image/jpeg": "[encoded data removed]",
      "text/plain": [
       "<IPython.core.display.Image object>"
      ]
     },
     "execution_count": 17,
     "metadata": {},
     "output_type": "execute_result"
    }
   ],
   "source": [
    "Image(filename='./test/with_mask/340-with-mask.jpg')"
   ]
  },
  {
   "cell_type": "markdown",
   "metadata": {},
   "source": [
    "Plot the Training and Validation accuracy and loss"
   ]
  },
  {
   "cell_type": "code",
   "execution_count": 70,
   "metadata": {},
   "outputs": [
    {
     "data": {
      "image/png": "[encoded data removed]",
      "text/plain": [
       "<Figure size 432x288 with 1 Axes>"
      ]
     },
     "metadata": {
      "needs_background": "light"
     },
     "output_type": "display_data"
    },
    {
     "data": {
      "image/png": "[encoded data removed]",
      "text/plain": [
       "<Figure size 432x288 with 1 Axes>"
      ]
     },
     "metadata": {
      "needs_background": "light"
     },
     "output_type": "display_data"
    }
   ],
   "source": [
    "\n",
    "\n",
    "import matplotlib.pyplot as plt\n",
    "acc = history.history['acc']\n",
    "val_acc = history.history['val_acc']\n",
    "loss = history.history['loss']\n",
    "val_loss = history.history['val_loss']\n",
    "\n",
    "epochs = range(len(acc))\n",
    "\n",
    "plt.plot(epochs, acc, 'bo', label='Training accuracy')\n",
    "plt.plot(epochs, val_acc, 'b', label='Validation accuracy')\n",
    "plt.title('Training and validation accuracy')\n",
    "\n",
    "plt.figure()\n",
    "\n",
    "plt.plot(epochs, loss, 'bo', label='Training Loss')\n",
    "plt.plot(epochs, val_loss, 'b', label='Validation Loss')\n",
    "plt.title('Training and validation loss')\n",
    "plt.legend()\n",
    "\n",
    "plt.show()\n",
    "\n"
   ]
  },
  {
   "cell_type": "markdown",
   "metadata": {},
   "source": [
    "Update the model to train the model below the layer name 'mixed7' to train on the facemask images"
   ]
  },
  {
   "cell_type": "code",
   "execution_count": 11,
   "metadata": {},
   "outputs": [
    {
     "name": "stdout",
     "output_type": "stream",
     "text": [
      "last layer output shape:  (None, 7, 7, 768)\n"
     ]
    }
   ],
   "source": [
    "last_layer = pre_trained_model.get_layer('mixed7') #Only use layers including and above 'mixed7'\n",
    "print('last layer output shape: ', last_layer.output_shape)\n",
    "last_output = last_layer.output"
   ]
  },
  {
   "cell_type": "code",
   "execution_count": 12,
   "metadata": {},
   "outputs": [
    {
     "name": "stdout",
     "output_type": "stream",
     "text": [
      "last layer output shape:  (None, 7, 7, 768)\n"
     ]
    }
   ],
   "source": [
    "last_layer = pre_trained_model.get_layer('mixed7')\n",
    "print('last layer output shape: ', last_layer.output_shape)\n",
    "last_output = last_layer.output\n",
    "\n",
    "# Flatten the output layer to 1 dimension\n",
    "x = layers.Flatten()(last_output)\n",
    "# Add a fully connected layer with 1,024 hidden units and ReLU activation\n",
    "x = layers.Dense(1024, activation='relu')(x)\n",
    "# Add a dropout rate of 0.2\n",
    "x = layers.Dropout(0.2)(x)                  \n",
    "# Add a final sigmoid layer for classification\n",
    "x = layers.Dense  (1, activation='sigmoid')(x)           \n",
    "\n",
    "model_tl = Model( pre_trained_model.input, x) \n",
    "\n",
    "#model.compile(optimizer = RMSprop(learning_rate=0.0001), \n",
    "model_tl.compile(optimizer = 'adam',               \n",
    "              loss = 'binary_crossentropy', \n",
    "              metrics = ['acc'])"
   ]
  },
  {
   "cell_type": "markdown",
   "metadata": {},
   "source": [
    "Create the training data set from images in the folder"
   ]
  },
  {
   "cell_type": "code",
   "execution_count": 13,
   "metadata": {},
   "outputs": [
    {
     "name": "stdout",
     "output_type": "stream",
     "text": [
      "Found 1318 images belonging to 2 classes.\n",
      "Found 200 images belonging to 2 classes.\n"
     ]
    }
   ],
   "source": [
    "\n",
    "# Add our data-augmentation parameters to ImageDataGenerator\n",
    "train_datagen = ImageDataGenerator(rescale = 1./255.,\n",
    "                                   rotation_range = 40,\n",
    "                                   width_shift_range = 0.2,\n",
    "                                   height_shift_range = 0.2,\n",
    "                                   shear_range = 0.2,\n",
    "                                   zoom_range = 0.2,\n",
    "                                   horizontal_flip = True)\n",
    "\n",
    "# Note that the validation data should not be augmented!\n",
    "test_datagen = ImageDataGenerator( rescale = 1.0/255. )\n",
    "\n",
    "# Flow training images in batches of 20 using train_datagen generator\n",
    "train_generator = train_datagen.flow_from_directory(train_dir,\n",
    "                                                    batch_size = 16,\n",
    "                                                    class_mode = 'binary', \n",
    "                                                    target_size = (150, 150))     \n",
    "\n",
    "# Flow validation images in batches of 20 using test_datagen generator\n",
    "validation_generator =  test_datagen.flow_from_directory( validation_dir,\n",
    "                                                          batch_size  = 16,\n",
    "                                                          class_mode  = 'binary', \n",
    "                                                          target_size = (150, 150))\n",
    "\n"
   ]
  },
  {
   "cell_type": "code",
   "execution_count": 16,
   "metadata": {},
   "outputs": [
    {
     "name": "stderr",
     "output_type": "stream",
     "text": [
      "/opt/conda/lib/python3.7/site-packages/keras/engine/training.py:1972: UserWarning: `Model.fit_generator` is deprecated and will be removed in a future version. Please use `Model.fit`, which supports generators.\n",
      "  warnings.warn('`Model.fit_generator` is deprecated and '\n"
     ]
    },
    {
     "name": "stdout",
     "output_type": "stream",
     "text": [
      "Epoch 1/20\n",
      "20/20 - 12s - loss: 1.2935 - acc: 0.8000 - val_loss: 0.0825 - val_acc: 0.9812\n",
      "Epoch 2/20\n",
      "20/20 - 8s - loss: 0.0961 - acc: 0.9688 - val_loss: 0.0364 - val_acc: 0.9937\n",
      "Epoch 3/20\n",
      "20/20 - 9s - loss: 0.0674 - acc: 0.9812 - val_loss: 0.0299 - val_acc: 0.9875\n",
      "Epoch 4/20\n",
      "20/20 - 9s - loss: 0.1411 - acc: 0.9625 - val_loss: 0.0261 - val_acc: 0.9875\n",
      "Epoch 5/20\n",
      "20/20 - 8s - loss: 0.0496 - acc: 0.9844 - val_loss: 0.0566 - val_acc: 0.9875\n",
      "Epoch 6/20\n",
      "20/20 - 8s - loss: 0.0792 - acc: 0.9719 - val_loss: 0.0352 - val_acc: 0.9937\n",
      "Epoch 7/20\n",
      "20/20 - 8s - loss: 0.0758 - acc: 0.9750 - val_loss: 0.0342 - val_acc: 0.9937\n",
      "Epoch 8/20\n",
      "20/20 - 8s - loss: 0.0424 - acc: 0.9750 - val_loss: 0.0057 - val_acc: 1.0000\n",
      "Epoch 9/20\n",
      "20/20 - 9s - loss: 0.1072 - acc: 0.9688 - val_loss: 0.0112 - val_acc: 0.9937\n",
      "Epoch 10/20\n",
      "20/20 - 8s - loss: 0.0900 - acc: 0.9645 - val_loss: 0.0012 - val_acc: 1.0000\n",
      "Epoch 11/20\n",
      "20/20 - 9s - loss: 0.0465 - acc: 0.9875 - val_loss: 0.0021 - val_acc: 1.0000\n",
      "Epoch 12/20\n",
      "20/20 - 9s - loss: 0.0702 - acc: 0.9750 - val_loss: 3.7434e-04 - val_acc: 1.0000\n",
      "Epoch 13/20\n",
      "20/20 - 8s - loss: 0.0571 - acc: 0.9871 - val_loss: 0.0046 - val_acc: 1.0000\n",
      "Epoch 14/20\n",
      "20/20 - 8s - loss: 0.0731 - acc: 0.9781 - val_loss: 0.0019 - val_acc: 1.0000\n",
      "Epoch 15/20\n",
      "20/20 - 8s - loss: 0.0652 - acc: 0.9806 - val_loss: 4.0118e-04 - val_acc: 1.0000\n",
      "Epoch 16/20\n",
      "20/20 - 8s - loss: 0.0168 - acc: 0.9937 - val_loss: 0.0038 - val_acc: 1.0000\n",
      "\n",
      "Reached 99.9% accuracy so cancelling training!\n"
     ]
    }
   ],
   "source": [
    "callbacks = myCallback()\n",
    "history = model_tl.fit_generator(\n",
    "            train_generator,\n",
    "            validation_data = validation_generator,\n",
    "            steps_per_epoch = 20,\n",
    "            epochs = 20,\n",
    "            validation_steps = 10,\n",
    "            verbose = 2,\n",
    "            callbacks=[callbacks])"
   ]
  },
  {
   "cell_type": "code",
   "execution_count": 39,
   "metadata": {},
   "outputs": [
    {
     "name": "stdout",
     "output_type": "stream",
     "text": [
      "./test/without_mask/10.jpg\n",
      "prediction  [[1.]]\n",
      "y_classes 1\n",
      "prediction for ./test/without_mask/10.jpg is 1.0\n",
      "./test/without_mask/89.jpg\n",
      "prediction  [[1.]]\n",
      "y_classes 1\n",
      "prediction for ./test/without_mask/89.jpg is 1.0\n",
      "./test/without_mask/179.jpg\n",
      "prediction  [[1.]]\n",
      "y_classes 1\n",
      "prediction for ./test/without_mask/179.jpg is 1.0\n",
      "./test/without_mask/368.jpg\n",
      "prediction  [[0.99999976]]\n",
      "y_classes 0\n",
      "prediction for ./test/without_mask/368.jpg is 0.9999997615814209\n",
      "./test/without_mask/54.jpg\n",
      "prediction  [[1.]]\n",
      "y_classes 1\n",
      "prediction for ./test/without_mask/54.jpg is 1.0\n",
      "./test/without_mask/261.jpg\n",
      "prediction  [[1.]]\n",
      "y_classes 1\n",
      "prediction for ./test/without_mask/261.jpg is 1.0\n",
      "./test/without_mask/324.jpg\n",
      "prediction  [[1.]]\n",
      "y_classes 1\n",
      "prediction for ./test/without_mask/324.jpg is 1.0\n",
      "./test/without_mask/117.jpg\n",
      "prediction  [[1.]]\n",
      "y_classes 1\n",
      "prediction for ./test/without_mask/117.jpg is 1.0\n",
      "./test/without_mask/432.jpg\n",
      "prediction  [[1.]]\n",
      "y_classes 1\n",
      "prediction for ./test/without_mask/432.jpg is 1.0\n",
      "./test/without_mask/270.jpg\n",
      "prediction  [[1.]]\n",
      "y_classes 1\n",
      "prediction for ./test/without_mask/270.jpg is 1.0\n",
      "./test/without_mask/399.jpg\n",
      "prediction  [[1.]]\n",
      "y_classes 1\n",
      "prediction for ./test/without_mask/399.jpg is 1.0\n"
     ]
    }
   ],
   "source": [
    "path='./test/without_mask/'\n",
    "i=0\n",
    "for x in os.listdir(path):\n",
    "    if x.endswith(\".jpg\"):\n",
    "        # Prints only text file present in My Folder\n",
    "        img_name=path+x\n",
    "        print(img_name)\n",
    "        test_image=image.load_img(img_name, target_size=(150,150,3))\n",
    "        test_image=image.img_to_array(test_image)\n",
    "        test_image = test_image/255\n",
    "        test_image=np.expand_dims(test_image,axis=0)\n",
    "        pred=model_tl.predict(test_image)\n",
    "        print(\"prediction \",pred)\n",
    "        #y_classes = pred.argmax(axis=-1)\n",
    "        y_classes = np.argmax(pred)\n",
    "        print(\"y_classes\",int(pred[0][0]))\n",
    "        print(\"prediction for {} is {}\".format(img_name,pred[0][0]))\n",
    "        i=i+1\n",
    "        if i>10:\n",
    "            break"
   ]
  },
  {
   "cell_type": "code",
   "execution_count": 40,
   "metadata": {},
   "outputs": [
    {
     "name": "stdout",
     "output_type": "stream",
     "text": [
      "./test/with_mask/357-with-mask.jpg\n",
      "prediction  [[4.4240664e-10]]\n",
      "y_classes  0\n",
      "prediction for ./test/with_mask/357-with-mask.jpg is 4.424066391006676e-10\n",
      "./test/with_mask/456-with-mask.jpg\n",
      "prediction  [[3.8615297e-10]]\n",
      "y_classes  0\n",
      "prediction for ./test/with_mask/456-with-mask.jpg is 3.8615297071054044e-10\n",
      "./test/with_mask/78-with-mask.jpg\n",
      "prediction  [[1.1098332e-06]]\n",
      "y_classes  0\n",
      "prediction for ./test/with_mask/78-with-mask.jpg is 1.1098331924586091e-06\n",
      "./test/with_mask/285-with-mask.jpg\n",
      "prediction  [[2.415804e-08]]\n",
      "y_classes  0\n",
      "prediction for ./test/with_mask/285-with-mask.jpg is 2.4158039124699826e-08\n",
      "./test/with_mask/186-with-mask.jpg\n",
      "prediction  [[1.0716997e-12]]\n",
      "y_classes  0\n",
      "prediction for ./test/with_mask/186-with-mask.jpg is 1.0716996951334878e-12\n",
      "./test/with_mask/429-with-mask.jpg\n",
      "prediction  [[3.6595303e-11]]\n",
      "y_classes  0\n",
      "prediction for ./test/with_mask/429-with-mask.jpg is 3.6595303176678584e-11\n",
      "./test/with_mask/34-with-mask.jpg\n",
      "prediction  [[1.825052e-11]]\n",
      "y_classes  0\n",
      "prediction for ./test/with_mask/34-with-mask.jpg is 1.8250519151497002e-11\n",
      "./test/with_mask/160-with-mask.jpg\n",
      "prediction  [[2.7645711e-08]]\n",
      "y_classes  0\n",
      "prediction for ./test/with_mask/160-with-mask.jpg is 2.7645711497825687e-08\n",
      "./test/with_mask/106-with-mask.jpg\n",
      "prediction  [[1.3548124e-08]]\n",
      "y_classes  0\n",
      "prediction for ./test/with_mask/106-with-mask.jpg is 1.35481244001312e-08\n",
      "./test/with_mask/421-with-mask.jpg\n",
      "prediction  [[9.136995e-06]]\n",
      "y_classes  0\n",
      "prediction for ./test/with_mask/421-with-mask.jpg is 9.136994776781648e-06\n",
      "./test/with_mask/340-with-mask.jpg\n",
      "prediction  [[1.8048866e-08]]\n",
      "y_classes  0\n",
      "prediction for ./test/with_mask/340-with-mask.jpg is 1.80488655132649e-08\n"
     ]
    }
   ],
   "source": [
    "path='./test/with_mask/'\n",
    "i=0\n",
    "for x in os.listdir(path):\n",
    "    if x.endswith(\".jpg\"):\n",
    "        # Prints only text file present in My Folder\n",
    "        img_name=path+x\n",
    "        print(img_name)\n",
    "        test_image=image.load_img(img_name, target_size=(150,150,3))\n",
    "        test_image=image.img_to_array(test_image)\n",
    "        test_image = test_image/255\n",
    "        test_image=np.expand_dims(test_image,axis=0)\n",
    "        pred=model_tl.predict(test_image)\n",
    "        print(\"prediction \",pred)\n",
    "        y_classes = np.argmax(pred[0])\n",
    "        print(\"y_classes \",int(pred[0][0]))\n",
    "        print(\"prediction for {} is {}\".format(img_name,pred[0][0]))\n",
    "        i=i+1\n",
    "        if i>10:\n",
    "            break"
   ]
  },
  {
   "cell_type": "code",
   "execution_count": 172,
   "metadata": {},
   "outputs": [],
   "source": [
    "#model.summary()"
   ]
  },
  {
   "cell_type": "markdown",
   "metadata": {},
   "source": [
    "Plot the training and validation accuracy and loss"
   ]
  },
  {
   "cell_type": "code",
   "execution_count": 14,
   "metadata": {},
   "outputs": [
    {
     "data": {
      "image/png": "[encoded data removed]",
      "text/plain": [
       "<Figure size 432x288 with 1 Axes>"
      ]
     },
     "metadata": {
      "needs_background": "light"
     },
     "output_type": "display_data"
    },
    {
     "data": {
      "image/png": "[encoded data removed]",
      "text/plain": [
       "<Figure size 432x288 with 1 Axes>"
      ]
     },
     "metadata": {
      "needs_background": "light"
     },
     "output_type": "display_data"
    }
   ],
   "source": [
    "import matplotlib.pyplot as plt\n",
    "acc = history.history['acc']\n",
    "val_acc = history.history['val_acc']\n",
    "loss = history.history['loss']\n",
    "val_loss = history.history['val_loss']\n",
    "\n",
    "epochs = range(len(acc))\n",
    "\n",
    "plt.plot(epochs, acc, 'bo', label='Training accuracy')\n",
    "plt.plot(epochs, val_acc, 'b', label='Validation accuracy')\n",
    "plt.title('Training and validation accuracy')\n",
    "\n",
    "plt.figure()\n",
    "\n",
    "plt.plot(epochs, loss, 'bo', label='Training Loss')\n",
    "plt.plot(epochs, val_loss, 'b', label='Validation Loss')\n",
    "plt.title('Training and validation loss')\n",
    "plt.legend()\n",
    "\n",
    "plt.show()\n",
    "\n"
   ]
  }
 ],
 "metadata": {
  "instance_type": "ml.g4dn.xlarge",
  "kernelspec": {
   "display_name": "Python 3",
   "language": "python",
   "name": "python3"
  },
  "language_info": {
   "codemirror_mode": {
    "name": "ipython",
    "version": 3
   },
   "file_extension": ".py",
   "mimetype": "text/x-python",
   "name": "python",
   "nbconvert_exporter": "python",
   "pygments_lexer": "ipython3",
   "version": "3.8.8"
  }
 },
 "nbformat": 4,
 "nbformat_minor": 4
}
