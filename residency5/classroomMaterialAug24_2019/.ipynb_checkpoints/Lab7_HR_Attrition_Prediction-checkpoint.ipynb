{
 "cells": [
  {
   "cell_type": "markdown",
   "metadata": {},
   "source": [
    "# HR - Attrition Analytics"
   ]
  },
  {
   "cell_type": "markdown",
   "metadata": {
    "collapsed": true
   },
   "source": [
    "Human Resources are critical resources of any organiazation. Organizations spend huge amount \n",
    "of time and money to hire and nuture their employees. It is a huge loss for companies if employees \n",
    "leave, especially the key resources. So if HR can predict weather employees are at risk for leaving \n",
    "the company, it will allow them to identify the attrition risks and help understand and provie necessary \n",
    "support to retain those employees or do preventive hiring to minimize the impact to the orgranization."
   ]
  },
  {
   "cell_type": "markdown",
   "metadata": {},
   "source": [
    "# Why are our best and most experienced employees leaving prematurely?"
   ]
  },
  {
   "cell_type": "markdown",
   "metadata": {
    "collapsed": true
   },
   "source": [
    "Fields in the dataset include:\n",
    "\n",
    "1. Employee satisfaction level\n",
    "2. Last evaluation\n",
    "3. Number of projects\n",
    "4. Average monthly hours\n",
    "5. Time spent at the company\n",
    "6. Whether they have had a work accident\n",
    "7. Whether they have had a promotion in the last 5 years\n",
    "8. Department\n",
    "9. Salary\n",
    "10. Whether the employee has left"
   ]
  },
  {
   "cell_type": "code",
   "execution_count": 1,
   "metadata": {},
   "outputs": [],
   "source": [
    "import pandas as pd\n",
    "import numpy as np"
   ]
  },
  {
   "cell_type": "code",
   "execution_count": 3,
   "metadata": {},
   "outputs": [],
   "source": [
    "data = pd.read_csv( 'HR_Perf.csv' )"
   ]
  },
  {
   "cell_type": "markdown",
   "metadata": {
    "collapsed": true
   },
   "source": [
    "Separate data into train and test sets ( 70:30). Use random seed as 7 "
   ]
  },
  {
   "cell_type": "markdown",
   "metadata": {
    "collapsed": true
   },
   "source": [
    "# Build the following classification models and compare performance:\n",
    "1. Logistic regression\n",
    "2. Naive Bayes\n",
    "3. KNN Classifier\n",
    "4. Decision Tree Classifier\n",
    "5. Random Forest Classifier\n",
    "6. Support Vector Classifier"
   ]
  },
  {
   "cell_type": "markdown",
   "metadata": {},
   "source": [
    "# Build the following classification models by considering 90% of variance in the data by using PCA and compare performance:\n",
    "1. Logistic regression\n",
    "2. Naive Bayes\n",
    "3. KNN Classifier\n",
    "4. Decision Tree Classifier\n",
    "5. Random Forest Classifier\n",
    "6. Support Vector Classifier"
   ]
  },
  {
   "cell_type": "markdown",
   "metadata": {},
   "source": [
    "# Build the following classification models by considering 95% of variance in the data by using PCA and compare performance:\n",
    "1. Logistic regression\n",
    "2. Naive Bayes\n",
    "3. KNN Classifier\n",
    "4. Decision Tree Classifier\n",
    "5. Random Forest Classifier\n",
    "6. Support Vector Classifier"
   ]
  },
  {
   "cell_type": "markdown",
   "metadata": {},
   "source": [
    "# Any observations?"
   ]
  },
  {
   "cell_type": "code",
   "execution_count": null,
   "metadata": {},
   "outputs": [],
   "source": []
  }
 ],
 "metadata": {
  "kernelspec": {
   "display_name": "Python 3",
   "language": "python",
   "name": "python3"
  },
  "language_info": {
   "codemirror_mode": {
    "name": "ipython",
    "version": 3
   },
   "file_extension": ".py",
   "mimetype": "text/x-python",
   "name": "python",
   "nbconvert_exporter": "python",
   "pygments_lexer": "ipython3",
   "version": "3.7.3"
  }
 },
 "nbformat": 4,
 "nbformat_minor": 2
}
