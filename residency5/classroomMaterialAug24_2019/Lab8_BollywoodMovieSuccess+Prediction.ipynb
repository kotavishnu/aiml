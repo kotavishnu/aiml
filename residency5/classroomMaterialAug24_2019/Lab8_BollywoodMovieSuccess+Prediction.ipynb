{
 "cells": [
  {
   "cell_type": "markdown",
   "metadata": {},
   "source": [
    "# Predict Bollywood movie success"
   ]
  },
  {
   "cell_type": "code",
   "execution_count": 1,
   "metadata": {},
   "outputs": [],
   "source": [
    "import warnings\n",
    "warnings.filterwarnings('ignore')\n",
    "import numpy as np\n",
    "import pandas as pd\n",
    "data = pd.read_csv(\"BollywoodBoxOfficeSuccess.csv\", encoding=\"cp1252\")"
   ]
  },
  {
   "cell_type": "code",
   "execution_count": 2,
   "metadata": {},
   "outputs": [
    {
     "data": {
      "text/plain": [
       "Index(['Movie_Name', 'Release_Date(N/LW/Festive)', 'Genre-Defind',\n",
       "       'Movie_Content', 'Dir_CAT', 'LEAD_ACTOR_CAT', 'Item_Song(Y/N)',\n",
       "       'Production_House_CAT', 'Music_Dir_CAT', 'Box_Office_Collection',\n",
       "       'Profit', 'Earning_Ratio', 'Budget', 'Youtube_Views', 'Youtube_Likes',\n",
       "       'Youtube_Dislikes', 'Success/Faliure'],\n",
       "      dtype='object')"
      ]
     },
     "execution_count": 2,
     "metadata": {},
     "output_type": "execute_result"
    }
   ],
   "source": [
    "data.columns"
   ]
  },
  {
   "cell_type": "code",
   "execution_count": 3,
   "metadata": {},
   "outputs": [],
   "source": [
    "data.drop('Movie_Name', axis = 1, inplace=True)"
   ]
  },
  {
   "cell_type": "code",
   "execution_count": 4,
   "metadata": {},
   "outputs": [],
   "source": [
    "data_complete = pd.get_dummies(data, drop_first = True)"
   ]
  },
  {
   "cell_type": "code",
   "execution_count": 5,
   "metadata": {},
   "outputs": [
    {
     "data": {
      "text/plain": [
       "Index(['Item_Song(Y/N)', 'Box_Office_Collection', 'Profit', 'Earning_Ratio',\n",
       "       'Budget', 'Youtube_Views', 'Youtube_Likes', 'Youtube_Dislikes',\n",
       "       'Success/Faliure', 'Release_Date(N/LW/Festive)_HS',\n",
       "       'Release_Date(N/LW/Festive)_LW', 'Release_Date(N/LW/Festive)_N',\n",
       "       'Genre-Defind_Action / Sci Fi', 'Genre-Defind_Comedy',\n",
       "       'Genre-Defind_Romance', 'Genre-Defind_Thriller / Suspense / Horror',\n",
       "       'Movie_Content_Art ', 'Movie_Content_Biography',\n",
       "       'Movie_Content_Book / Novel', 'Movie_Content_Masala',\n",
       "       'Movie_Content_Prequel / Sequel', 'Movie_Content_Remake',\n",
       "       'Movie_Content_Satire ', 'Movie_Content_Social Subject', 'Dir_CAT_B',\n",
       "       'Dir_CAT_LK', 'LEAD_ACTOR_CAT_B', 'LEAD_ACTOR_CAT_LK',\n",
       "       'Production_House_CAT_B', 'Production_House_CAT_LK', 'Music_Dir_CAT_B',\n",
       "       'Music_Dir_CAT_LK'],\n",
       "      dtype='object')"
      ]
     },
     "execution_count": 5,
     "metadata": {},
     "output_type": "execute_result"
    }
   ],
   "source": [
    "data_complete.columns"
   ]
  },
  {
   "cell_type": "code",
   "execution_count": 6,
   "metadata": {},
   "outputs": [],
   "source": [
    "x = data_complete.drop('Success/Faliure', axis = 1)\n",
    "y = data_complete[['Success/Faliure']]"
   ]
  },
  {
   "cell_type": "code",
   "execution_count": 7,
   "metadata": {},
   "outputs": [],
   "source": [
    "from sklearn import model_selection\n",
    "from sklearn.linear_model import LogisticRegression\n",
    "\n",
    "import numpy as np\n",
    "from sklearn.model_selection import train_test_split\n",
    "from sklearn.metrics import mean_squared_error,confusion_matrix, classification_report\n",
    "from sklearn import metrics"
   ]
  },
  {
   "cell_type": "code",
   "execution_count": 8,
   "metadata": {},
   "outputs": [],
   "source": [
    "import warnings\n",
    "warnings.filterwarnings('ignore')"
   ]
  },
  {
   "cell_type": "markdown",
   "metadata": {
    "collapsed": true
   },
   "source": [
    "Separate data into train and test sets ( 70:30). Use random seed as 7 "
   ]
  },
  {
   "cell_type": "markdown",
   "metadata": {
    "collapsed": true
   },
   "source": [
    "# Build the following classification models and compare performance:\n",
    "1. Logistic regression\n",
    "2. Naive Bayes\n",
    "3. KNN Classifier\n",
    "4. Decision Tree Classifier\n",
    "5. Random Forest Classifier\n",
    "6. Support Vector Classifier"
   ]
  },
  {
   "cell_type": "markdown",
   "metadata": {},
   "source": [
    "# Build the following classification models by considering 90% of variance in the data by using PCA and compare performance:\n",
    "1. Logistic regression\n",
    "2. Naive Bayes\n",
    "3. KNN Classifier\n",
    "4. Decision Tree Classifier\n",
    "5. Random Forest Classifier\n",
    "6. Support Vector Classifier"
   ]
  },
  {
   "cell_type": "markdown",
   "metadata": {},
   "source": [
    "# Build the following classification models by considering 95% of variance in the data by using PCA and compare performance:\n",
    "1. Logistic regression\n",
    "2. Naive Bayes\n",
    "3. KNN Classifier\n",
    "4. Decision Tree Classifier\n",
    "5. Random Forest Classifier\n",
    "6. Support Vector Classifier"
   ]
  },
  {
   "cell_type": "markdown",
   "metadata": {},
   "source": [
    "# Any observations?"
   ]
  },
  {
   "cell_type": "code",
   "execution_count": null,
   "metadata": {},
   "outputs": [],
   "source": []
  }
 ],
 "metadata": {
  "kernelspec": {
   "display_name": "Python 3",
   "language": "python",
   "name": "python3"
  },
  "language_info": {
   "codemirror_mode": {
    "name": "ipython",
    "version": 3
   },
   "file_extension": ".py",
   "mimetype": "text/x-python",
   "name": "python",
   "nbconvert_exporter": "python",
   "pygments_lexer": "ipython3",
   "version": "3.6.7"
  }
 },
 "nbformat": 4,
 "nbformat_minor": 2
}
