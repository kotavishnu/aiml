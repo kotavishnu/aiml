{
 "cells": [
  {
   "cell_type": "code",
   "execution_count": null,
   "metadata": {},
   "outputs": [],
   "source": [
    "#Case Study-Titan Insurance Company-"
   ]
  },
  {
   "cell_type": "code",
   "execution_count": 22,
   "metadata": {},
   "outputs": [],
   "source": [
    "import numpy as np\n",
    "import pandas as pd\n",
    "import matplotlib.pyplot as plt\n",
    "from scipy.stats import ttest_1samp, ttest_ind, mannwhitneyu, levene, shapiro,wilcoxon\n",
    "from statsmodels.stats.power import ttest_power"
   ]
  },
  {
   "cell_type": "code",
   "execution_count": 23,
   "metadata": {},
   "outputs": [
    {
     "data": {
      "text/html": [
       "<div>\n",
       "<style scoped>\n",
       "    .dataframe tbody tr th:only-of-type {\n",
       "        vertical-align: middle;\n",
       "    }\n",
       "\n",
       "    .dataframe tbody tr th {\n",
       "        vertical-align: top;\n",
       "    }\n",
       "\n",
       "    .dataframe thead th {\n",
       "        text-align: right;\n",
       "    }\n",
       "</style>\n",
       "<table border=\"1\" class=\"dataframe\">\n",
       "  <thead>\n",
       "    <tr style=\"text-align: right;\">\n",
       "      <th></th>\n",
       "      <th>sales_person</th>\n",
       "      <th>old_scheme</th>\n",
       "      <th>new_scheme</th>\n",
       "    </tr>\n",
       "  </thead>\n",
       "  <tbody>\n",
       "    <tr>\n",
       "      <th>0</th>\n",
       "      <td>1</td>\n",
       "      <td>57</td>\n",
       "      <td>62</td>\n",
       "    </tr>\n",
       "    <tr>\n",
       "      <th>1</th>\n",
       "      <td>2</td>\n",
       "      <td>103</td>\n",
       "      <td>122</td>\n",
       "    </tr>\n",
       "    <tr>\n",
       "      <th>2</th>\n",
       "      <td>3</td>\n",
       "      <td>59</td>\n",
       "      <td>54</td>\n",
       "    </tr>\n",
       "    <tr>\n",
       "      <th>3</th>\n",
       "      <td>4</td>\n",
       "      <td>75</td>\n",
       "      <td>82</td>\n",
       "    </tr>\n",
       "    <tr>\n",
       "      <th>4</th>\n",
       "      <td>5</td>\n",
       "      <td>84</td>\n",
       "      <td>84</td>\n",
       "    </tr>\n",
       "  </tbody>\n",
       "</table>\n",
       "</div>"
      ],
      "text/plain": [
       "   sales_person  old_scheme  new_scheme\n",
       "0             1          57          62\n",
       "1             2         103         122\n",
       "2             3          59          54\n",
       "3             4          75          82\n",
       "4             5          84          84"
      ]
     },
     "execution_count": 23,
     "metadata": {},
     "output_type": "execute_result"
    }
   ],
   "source": [
    "sales_df = pd.read_csv('sales_scheme.csv',delimiter=',')\n",
    "sales_df.head()"
   ]
  },
  {
   "cell_type": "code",
   "execution_count": 24,
   "metadata": {},
   "outputs": [],
   "source": [
    "# two-sample t-test\n",
    "# null hypothesis: the new scheme has significant outputs on sales\n",
    "# this test assumes the two groups have the same variance..."
   ]
  },
  {
   "cell_type": "code",
   "execution_count": 31,
   "metadata": {},
   "outputs": [
    {
     "name": "stdout",
     "output_type": "stream",
     "text": [
      "[[ 57]\n",
      " [103]\n",
      " [ 59]\n",
      " [ 75]\n",
      " [ 84]\n",
      " [ 73]\n",
      " [ 35]\n",
      " [110]\n",
      " [ 44]\n",
      " [ 82]\n",
      " [ 67]\n",
      " [ 64]\n",
      " [ 78]\n",
      " [ 53]\n",
      " [ 41]\n",
      " [ 39]\n",
      " [ 80]\n",
      " [ 87]\n",
      " [ 73]\n",
      " [ 65]\n",
      " [ 28]\n",
      " [ 62]\n",
      " [ 49]\n",
      " [ 84]\n",
      " [ 63]\n",
      " [ 77]\n",
      " [ 67]\n",
      " [101]\n",
      " [ 91]\n",
      " [ 50]]\n"
     ]
    }
   ],
   "source": [
    "old_scheme = np.array(sales_df[['old_scheme']])\n",
    "new_scheme =np.array( sales_df[['new_scheme']])\n",
    "print(old_scheme)"
   ]
  },
  {
   "cell_type": "code",
   "execution_count": 32,
   "metadata": {},
   "outputs": [
    {
     "name": "stdout",
     "output_type": "stream",
     "text": [
      "[-0.69370676] [0.49063516]\n"
     ]
    }
   ],
   "source": [
    "t_statistic, p_value = ttest_ind(old_scheme, new_scheme)\n",
    "print(t_statistic, p_value)"
   ]
  },
  {
   "cell_type": "code",
   "execution_count": 33,
   "metadata": {},
   "outputs": [
    {
     "name": "stdout",
     "output_type": "stream",
     "text": [
      "[1.55591438] [0.13057554]\n"
     ]
    }
   ],
   "source": [
    "t_statistic, p_value = ttest_1samp(new_scheme - old_scheme, 0)\n",
    "print(t_statistic, p_value)"
   ]
  },
  {
   "cell_type": "code",
   "execution_count": 34,
   "metadata": {},
   "outputs": [],
   "source": [
    "# p_value > 0.05 => null hypothesis is accepted:\n",
    "# they have the significant output on the sales at the 5% significance level"
   ]
  },
  {
   "cell_type": "code",
   "execution_count": 35,
   "metadata": {},
   "outputs": [
    {
     "name": "stdout",
     "output_type": "stream",
     "text": [
      "paired t-test p-value= [0.13057554]\n"
     ]
    }
   ],
   "source": [
    "# p < 0.05 => alternative hypothesis:\n",
    "# the difference in mean is not equal to 0\n",
    "print (\"paired t-test p-value=\", p_value)"
   ]
  },
  {
   "cell_type": "code",
   "execution_count": 45,
   "metadata": {},
   "outputs": [
    {
     "name": "stdout",
     "output_type": "stream",
     "text": [
      "[[ 57]\n",
      " [103]\n",
      " [ 59]\n",
      " [ 75]\n",
      " [ 84]\n",
      " [ 73]\n",
      " [ 35]\n",
      " [110]\n",
      " [ 44]\n",
      " [ 82]\n",
      " [ 67]\n",
      " [ 64]\n",
      " [ 78]\n",
      " [ 53]\n",
      " [ 41]\n",
      " [ 39]\n",
      " [ 80]\n",
      " [ 87]\n",
      " [ 73]\n",
      " [ 65]\n",
      " [ 28]\n",
      " [ 62]\n",
      " [ 49]\n",
      " [ 84]\n",
      " [ 63]\n",
      " [ 77]\n",
      " [ 67]\n",
      " [101]\n",
      " [ 91]\n",
      " [ 50]]\n"
     ]
    }
   ],
   "source": [
    "old_scheme = np.array(sales_df[['old_scheme']])\n",
    "new_scheme = np.array(sales_df[['new_scheme']])\n",
    "print(old_scheme)"
   ]
  },
  {
   "cell_type": "code",
   "execution_count": 47,
   "metadata": {},
   "outputs": [
    {
     "data": {
      "text/plain": [
       "2"
      ]
     },
     "execution_count": 47,
     "metadata": {},
     "output_type": "execute_result"
    }
   ],
   "source": [
    "old_scheme.ndim\n"
   ]
  },
  {
   "cell_type": "code",
   "execution_count": 52,
   "metadata": {},
   "outputs": [
    {
     "name": "stdout",
     "output_type": "stream",
     "text": [
      "[ 57 103  59  75  84  73  35 110  44  82  67  64  78  53  41  39  80  87\n",
      "  73  65  28  62  49  84  63  77  67 101  91  50]\n"
     ]
    }
   ],
   "source": [
    "print(old_scheme.flatten())\n",
    "old_scheme=old_scheme.flatten()\n",
    "new_scheme=new_scheme.flatten()"
   ]
  },
  {
   "cell_type": "code",
   "execution_count": 53,
   "metadata": {},
   "outputs": [
    {
     "name": "stdout",
     "output_type": "stream",
     "text": [
      "paired wilcoxon-test p-value= 0.06116952762758769\n"
     ]
    }
   ],
   "source": [
    "# alternative to paired t-test when data has an ordinary scale or when not\n",
    "# normally distributed\n",
    "z_statistic, p_value = wilcoxon(new_scheme - old_scheme)\n",
    "\n",
    "print (\"paired wilcoxon-test p-value=\", p_value)"
   ]
  },
  {
   "cell_type": "code",
   "execution_count": 55,
   "metadata": {},
   "outputs": [
    {
     "data": {
      "text/plain": [
       "LeveneResult(statistic=1.063061539437244, pvalue=0.30679836081811235)"
      ]
     },
     "execution_count": 55,
     "metadata": {},
     "output_type": "execute_result"
    }
   ],
   "source": [
    "# For checking equality of variance between groups\n",
    "# Null Hypothesis: Variances are equal\n",
    "levene(old_scheme,new_scheme)"
   ]
  },
  {
   "cell_type": "code",
   "execution_count": 56,
   "metadata": {},
   "outputs": [
    {
     "data": {
      "text/plain": [
       "(0.9687567353248596, 0.5057420134544373)"
      ]
     },
     "execution_count": 56,
     "metadata": {},
     "output_type": "execute_result"
    }
   ],
   "source": [
    "# For checking Normality distribution of each distribution\n",
    "# Null Hypothesis: Distribution is Normal\n",
    "shapiro(new_scheme)"
   ]
  },
  {
   "cell_type": "code",
   "execution_count": 57,
   "metadata": {},
   "outputs": [
    {
     "data": {
      "text/plain": [
       "-0.13441726595582315"
      ]
     },
     "execution_count": 57,
     "metadata": {},
     "output_type": "execute_result"
    }
   ],
   "source": [
    "# Calculating Power of Test\n",
    "# Compute the difference in Means between 2 sample means and divide by pooled Standard Deviation \n",
    "# number of Observations/tuples\n",
    "# Set the alpha value to 0.05 and alternative values 'two-sided' , 'larger' , 'smaller'\n",
    "(np.mean(old_scheme) - np.mean(new_scheme)) / np.sqrt(((11-1)*np.var(old_scheme)+(11-1)*np.var(new_scheme)) / 11+11-2)\n",
    "\n"
   ]
  },
  {
   "cell_type": "code",
   "execution_count": 58,
   "metadata": {},
   "outputs": [
    {
     "name": "stdout",
     "output_type": "stream",
     "text": [
      "0.7392948947066131\n"
     ]
    }
   ],
   "source": [
    "print(ttest_power(0.87, nobs=11, alpha=0.05, alternative='two-sided'))"
   ]
  },
  {
   "cell_type": "code",
   "execution_count": 59,
   "metadata": {},
   "outputs": [
    {
     "data": {
      "text/plain": [
       "-0.11969291612453788"
      ]
     },
     "execution_count": 59,
     "metadata": {},
     "output_type": "execute_result"
    }
   ],
   "source": [
    "# Caculating power of test for the energ dataset\n",
    "\n",
    "(np.mean(old_scheme) - np.mean(new_scheme)) / np.sqrt(((9-1)*np.var(old_scheme)+(13-1)*np.var(new_scheme)) / 9+13-2)"
   ]
  },
  {
   "cell_type": "code",
   "execution_count": null,
   "metadata": {},
   "outputs": [],
   "source": []
  }
 ],
 "metadata": {
  "kernelspec": {
   "display_name": "Python 3",
   "language": "python",
   "name": "python3"
  },
  "language_info": {
   "codemirror_mode": {
    "name": "ipython",
    "version": 3
   },
   "file_extension": ".py",
   "mimetype": "text/x-python",
   "name": "python",
   "nbconvert_exporter": "python",
   "pygments_lexer": "ipython3",
   "version": "3.7.0"
  }
 },
 "nbformat": 4,
 "nbformat_minor": 2
}
