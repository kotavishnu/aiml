{
 "cells": [
  {
   "cell_type": "markdown",
   "metadata": {},
   "source": [
    "Data Set - http://www.stat.ufl.edu/~winner/data/airq402.dat\n",
    "\n",
    "Data Description - http://www.stat.ufl.edu/~winner/data/airq402.txt\n",
    "\n",
    "Assignment Expectations/Steps -\n",
    "\n",
    "Import and store the data in a data frame. (2.5 points)\n",
    "Remove the outliers from the data (5 points)\n",
    "Treat “Average Fare” – 3rdColumn as your Dependent Variable and Rest of the columns as Independent Variable. (2.5 points)\n",
    "Drop the independent variables which has less than 0.1 correlation with the dependent variable (5 points)\n",
    "Create scatter Plot of Independent Variable vs Dependent Variable. (2.5 points)\n",
    "Divide the data set into training and test data set and build a Multiple Linear Regression model. (5 points)\n",
    "Print the coefficients & intercepts of the linear regression model (5 points)\n",
    "Print the accuracy of the overall model (2.5 points)"
   ]
  },
  {
   "cell_type": "markdown",
   "metadata": {},
   "source": [
    "Dataset:   airq402.dat\n",
    "\n",
    "Source: U.S. Department of Transportation\n",
    "\n",
    "Description: Airfsres and passengers for U.S. Domestic Routes\n",
    "for 4th Quarter of 2002.\n",
    "\n",
    "Variables/Columns\n",
    "\n",
    "City1   1-3\n",
    "City2   5-7\n",
    "Average Fare    11-17\n",
    "Distance      20-23\n",
    "Average weekly passengers   26-33\n",
    "market leading airline    36-37\n",
    "market share     40-45\n",
    "Average fare    48-54\n",
    "Low price airline   57-58\n",
    "market share    61-66\n",
    "price     69-75"
   ]
  },
  {
   "cell_type": "code",
   "execution_count": 1,
   "metadata": {},
   "outputs": [],
   "source": [
    "import pandas as pd\n",
    "import numpy as np\n",
    "import seaborn as sns\n",
    "import matplotlib.pyplot as plt\n",
    "import statsmodels.api as sm\n",
    "from sklearn.model_selection import train_test_split\n",
    "from scipy.stats import ttest_1samp, ttest_ind, mannwhitneyu, levene, shapiro, f_oneway,binom\n",
    "from sklearn.linear_model import LinearRegression"
   ]
  },
  {
   "cell_type": "code",
   "execution_count": 2,
   "metadata": {},
   "outputs": [
    {
     "data": {
      "text/html": [
       "<div>\n",
       "<style scoped>\n",
       "    .dataframe tbody tr th:only-of-type {\n",
       "        vertical-align: middle;\n",
       "    }\n",
       "\n",
       "    .dataframe tbody tr th {\n",
       "        vertical-align: top;\n",
       "    }\n",
       "\n",
       "    .dataframe thead th {\n",
       "        text-align: right;\n",
       "    }\n",
       "</style>\n",
       "<table border=\"1\" class=\"dataframe\">\n",
       "  <thead>\n",
       "    <tr style=\"text-align: right;\">\n",
       "      <th></th>\n",
       "      <th>CITY1</th>\n",
       "      <th>CITY2</th>\n",
       "      <th>AVG_FARE_1</th>\n",
       "      <th>DISTANCE</th>\n",
       "      <th>AVG_WEEK_PASNGR</th>\n",
       "      <th>MKT_LEAD_AIRLINE</th>\n",
       "      <th>MKT_SHARE_1</th>\n",
       "      <th>AVG_FARE_2</th>\n",
       "      <th>LOW_PRICE_AIR</th>\n",
       "      <th>MKT_SHARE_2</th>\n",
       "      <th>PRICE</th>\n",
       "    </tr>\n",
       "  </thead>\n",
       "  <tbody>\n",
       "    <tr>\n",
       "      <th>0</th>\n",
       "      <td>CAK</td>\n",
       "      <td>ATL</td>\n",
       "      <td>114.47</td>\n",
       "      <td>528</td>\n",
       "      <td>424.56</td>\n",
       "      <td>FL</td>\n",
       "      <td>70.19</td>\n",
       "      <td>111.03</td>\n",
       "      <td>FL</td>\n",
       "      <td>70.19</td>\n",
       "      <td>111.03</td>\n",
       "    </tr>\n",
       "    <tr>\n",
       "      <th>1</th>\n",
       "      <td>CAK</td>\n",
       "      <td>MCO</td>\n",
       "      <td>122.47</td>\n",
       "      <td>860</td>\n",
       "      <td>276.84</td>\n",
       "      <td>FL</td>\n",
       "      <td>75.10</td>\n",
       "      <td>123.09</td>\n",
       "      <td>DL</td>\n",
       "      <td>17.23</td>\n",
       "      <td>118.94</td>\n",
       "    </tr>\n",
       "    <tr>\n",
       "      <th>2</th>\n",
       "      <td>ALB</td>\n",
       "      <td>ATL</td>\n",
       "      <td>214.42</td>\n",
       "      <td>852</td>\n",
       "      <td>215.76</td>\n",
       "      <td>DL</td>\n",
       "      <td>78.89</td>\n",
       "      <td>223.98</td>\n",
       "      <td>CO</td>\n",
       "      <td>2.77</td>\n",
       "      <td>167.12</td>\n",
       "    </tr>\n",
       "    <tr>\n",
       "      <th>3</th>\n",
       "      <td>ALB</td>\n",
       "      <td>BWI</td>\n",
       "      <td>69.40</td>\n",
       "      <td>288</td>\n",
       "      <td>606.84</td>\n",
       "      <td>WN</td>\n",
       "      <td>96.97</td>\n",
       "      <td>68.86</td>\n",
       "      <td>WN</td>\n",
       "      <td>96.97</td>\n",
       "      <td>68.86</td>\n",
       "    </tr>\n",
       "    <tr>\n",
       "      <th>4</th>\n",
       "      <td>ALB</td>\n",
       "      <td>ORD</td>\n",
       "      <td>158.13</td>\n",
       "      <td>723</td>\n",
       "      <td>313.04</td>\n",
       "      <td>UA</td>\n",
       "      <td>39.79</td>\n",
       "      <td>161.36</td>\n",
       "      <td>WN</td>\n",
       "      <td>15.34</td>\n",
       "      <td>145.42</td>\n",
       "    </tr>\n",
       "  </tbody>\n",
       "</table>\n",
       "</div>"
      ],
      "text/plain": [
       "  CITY1 CITY2  AVG_FARE_1  DISTANCE  AVG_WEEK_PASNGR MKT_LEAD_AIRLINE  \\\n",
       "0   CAK   ATL      114.47       528           424.56               FL   \n",
       "1   CAK   MCO      122.47       860           276.84               FL   \n",
       "2   ALB   ATL      214.42       852           215.76               DL   \n",
       "3   ALB   BWI       69.40       288           606.84               WN   \n",
       "4   ALB   ORD      158.13       723           313.04               UA   \n",
       "\n",
       "   MKT_SHARE_1  AVG_FARE_2 LOW_PRICE_AIR  MKT_SHARE_2   PRICE  \n",
       "0        70.19      111.03            FL        70.19  111.03  \n",
       "1        75.10      123.09            DL        17.23  118.94  \n",
       "2        78.89      223.98            CO         2.77  167.12  \n",
       "3        96.97       68.86            WN        96.97   68.86  \n",
       "4        39.79      161.36            WN        15.34  145.42  "
      ]
     },
     "execution_count": 2,
     "metadata": {},
     "output_type": "execute_result"
    }
   ],
   "source": [
    "fares = pd.read_csv(\"airq402.dat\",delimiter='\\s+',header=None, names=(['CITY1','CITY2','AVG_FARE_1','DISTANCE','AVG_WEEK_PASNGR','MKT_LEAD_AIRLINE','MKT_SHARE_1','AVG_FARE_2','LOW_PRICE_AIR','MKT_SHARE_2','PRICE']))\n",
    "                 \n",
    "fares.head()\n"
   ]
  },
  {
   "cell_type": "code",
   "execution_count": 3,
   "metadata": {},
   "outputs": [
    {
     "data": {
      "text/plain": [
       "(1000, 11)"
      ]
     },
     "execution_count": 3,
     "metadata": {},
     "output_type": "execute_result"
    }
   ],
   "source": [
    "fares.shape\n"
   ]
  },
  {
   "cell_type": "code",
   "execution_count": 4,
   "metadata": {},
   "outputs": [
    {
     "data": {
      "text/html": [
       "<div>\n",
       "<style scoped>\n",
       "    .dataframe tbody tr th:only-of-type {\n",
       "        vertical-align: middle;\n",
       "    }\n",
       "\n",
       "    .dataframe tbody tr th {\n",
       "        vertical-align: top;\n",
       "    }\n",
       "\n",
       "    .dataframe thead th {\n",
       "        text-align: right;\n",
       "    }\n",
       "</style>\n",
       "<table border=\"1\" class=\"dataframe\">\n",
       "  <thead>\n",
       "    <tr style=\"text-align: right;\">\n",
       "      <th></th>\n",
       "      <th>count</th>\n",
       "      <th>mean</th>\n",
       "      <th>std</th>\n",
       "      <th>min</th>\n",
       "      <th>25%</th>\n",
       "      <th>50%</th>\n",
       "      <th>75%</th>\n",
       "      <th>max</th>\n",
       "    </tr>\n",
       "  </thead>\n",
       "  <tbody>\n",
       "    <tr>\n",
       "      <th>AVG_FARE_1</th>\n",
       "      <td>1000.0</td>\n",
       "      <td>163.37542</td>\n",
       "      <td>55.365470</td>\n",
       "      <td>50.52</td>\n",
       "      <td>125.9750</td>\n",
       "      <td>161.345</td>\n",
       "      <td>197.3925</td>\n",
       "      <td>401.23</td>\n",
       "    </tr>\n",
       "    <tr>\n",
       "      <th>DISTANCE</th>\n",
       "      <td>1000.0</td>\n",
       "      <td>1056.97300</td>\n",
       "      <td>643.203251</td>\n",
       "      <td>108.00</td>\n",
       "      <td>553.5000</td>\n",
       "      <td>919.000</td>\n",
       "      <td>1452.5000</td>\n",
       "      <td>2724.00</td>\n",
       "    </tr>\n",
       "    <tr>\n",
       "      <th>AVG_WEEK_PASNGR</th>\n",
       "      <td>1000.0</td>\n",
       "      <td>672.27914</td>\n",
       "      <td>766.519254</td>\n",
       "      <td>181.41</td>\n",
       "      <td>257.1975</td>\n",
       "      <td>404.780</td>\n",
       "      <td>769.9125</td>\n",
       "      <td>8950.76</td>\n",
       "    </tr>\n",
       "    <tr>\n",
       "      <th>MKT_SHARE_1</th>\n",
       "      <td>1000.0</td>\n",
       "      <td>60.12859</td>\n",
       "      <td>19.367779</td>\n",
       "      <td>17.68</td>\n",
       "      <td>46.5100</td>\n",
       "      <td>59.240</td>\n",
       "      <td>73.5100</td>\n",
       "      <td>100.00</td>\n",
       "    </tr>\n",
       "    <tr>\n",
       "      <th>AVG_FARE_2</th>\n",
       "      <td>1000.0</td>\n",
       "      <td>166.64756</td>\n",
       "      <td>62.660140</td>\n",
       "      <td>50.52</td>\n",
       "      <td>124.0850</td>\n",
       "      <td>161.400</td>\n",
       "      <td>202.9775</td>\n",
       "      <td>490.03</td>\n",
       "    </tr>\n",
       "    <tr>\n",
       "      <th>MKT_SHARE_2</th>\n",
       "      <td>1000.0</td>\n",
       "      <td>34.55148</td>\n",
       "      <td>27.096999</td>\n",
       "      <td>1.06</td>\n",
       "      <td>13.1950</td>\n",
       "      <td>26.140</td>\n",
       "      <td>52.9725</td>\n",
       "      <td>100.00</td>\n",
       "    </tr>\n",
       "    <tr>\n",
       "      <th>PRICE</th>\n",
       "      <td>1000.0</td>\n",
       "      <td>143.19309</td>\n",
       "      <td>47.229184</td>\n",
       "      <td>49.61</td>\n",
       "      <td>113.7675</td>\n",
       "      <td>137.825</td>\n",
       "      <td>168.5300</td>\n",
       "      <td>387.94</td>\n",
       "    </tr>\n",
       "  </tbody>\n",
       "</table>\n",
       "</div>"
      ],
      "text/plain": [
       "                  count        mean         std     min       25%      50%  \\\n",
       "AVG_FARE_1       1000.0   163.37542   55.365470   50.52  125.9750  161.345   \n",
       "DISTANCE         1000.0  1056.97300  643.203251  108.00  553.5000  919.000   \n",
       "AVG_WEEK_PASNGR  1000.0   672.27914  766.519254  181.41  257.1975  404.780   \n",
       "MKT_SHARE_1      1000.0    60.12859   19.367779   17.68   46.5100   59.240   \n",
       "AVG_FARE_2       1000.0   166.64756   62.660140   50.52  124.0850  161.400   \n",
       "MKT_SHARE_2      1000.0    34.55148   27.096999    1.06   13.1950   26.140   \n",
       "PRICE            1000.0   143.19309   47.229184   49.61  113.7675  137.825   \n",
       "\n",
       "                       75%      max  \n",
       "AVG_FARE_1        197.3925   401.23  \n",
       "DISTANCE         1452.5000  2724.00  \n",
       "AVG_WEEK_PASNGR   769.9125  8950.76  \n",
       "MKT_SHARE_1        73.5100   100.00  \n",
       "AVG_FARE_2        202.9775   490.03  \n",
       "MKT_SHARE_2        52.9725   100.00  \n",
       "PRICE             168.5300   387.94  "
      ]
     },
     "execution_count": 4,
     "metadata": {},
     "output_type": "execute_result"
    }
   ],
   "source": [
    "fares.describe().T"
   ]
  },
  {
   "cell_type": "code",
   "execution_count": 5,
   "metadata": {},
   "outputs": [
    {
     "data": {
      "text/plain": [
       "CITY1                object\n",
       "CITY2                object\n",
       "AVG_FARE_1          float64\n",
       "DISTANCE              int64\n",
       "AVG_WEEK_PASNGR     float64\n",
       "MKT_LEAD_AIRLINE     object\n",
       "MKT_SHARE_1         float64\n",
       "AVG_FARE_2          float64\n",
       "LOW_PRICE_AIR        object\n",
       "MKT_SHARE_2         float64\n",
       "PRICE               float64\n",
       "dtype: object"
      ]
     },
     "execution_count": 5,
     "metadata": {},
     "output_type": "execute_result"
    }
   ],
   "source": [
    "fares.dtypes\n"
   ]
  },
  {
   "cell_type": "code",
   "execution_count": 6,
   "metadata": {},
   "outputs": [],
   "source": [
    "from sklearn import preprocessing\n",
    "#le = preprocessing.LabelEncoder()\n",
    "\n",
    "for c in fares.columns:\n",
    "        if fares[c].dtype == 'object':\n",
    "            lbl = preprocessing.LabelEncoder()\n",
    "            lbl.fit(list(fares[c].values))\n",
    "            fares[c] = lbl.transform(list(fares[c].values))"
   ]
  },
  {
   "cell_type": "code",
   "execution_count": 7,
   "metadata": {},
   "outputs": [
    {
     "data": {
      "text/html": [
       "<div>\n",
       "<style scoped>\n",
       "    .dataframe tbody tr th:only-of-type {\n",
       "        vertical-align: middle;\n",
       "    }\n",
       "\n",
       "    .dataframe tbody tr th {\n",
       "        vertical-align: top;\n",
       "    }\n",
       "\n",
       "    .dataframe thead th {\n",
       "        text-align: right;\n",
       "    }\n",
       "</style>\n",
       "<table border=\"1\" class=\"dataframe\">\n",
       "  <thead>\n",
       "    <tr style=\"text-align: right;\">\n",
       "      <th></th>\n",
       "      <th>count</th>\n",
       "      <th>mean</th>\n",
       "      <th>std</th>\n",
       "      <th>min</th>\n",
       "      <th>25%</th>\n",
       "      <th>50%</th>\n",
       "      <th>75%</th>\n",
       "      <th>max</th>\n",
       "    </tr>\n",
       "  </thead>\n",
       "  <tbody>\n",
       "    <tr>\n",
       "      <th>CITY1</th>\n",
       "      <td>1000.0</td>\n",
       "      <td>35.66600</td>\n",
       "      <td>23.275270</td>\n",
       "      <td>0.00</td>\n",
       "      <td>14.0000</td>\n",
       "      <td>31.000</td>\n",
       "      <td>55.2500</td>\n",
       "      <td>89.00</td>\n",
       "    </tr>\n",
       "    <tr>\n",
       "      <th>CITY2</th>\n",
       "      <td>1000.0</td>\n",
       "      <td>50.20100</td>\n",
       "      <td>22.355634</td>\n",
       "      <td>0.00</td>\n",
       "      <td>33.0000</td>\n",
       "      <td>52.500</td>\n",
       "      <td>72.0000</td>\n",
       "      <td>84.00</td>\n",
       "    </tr>\n",
       "    <tr>\n",
       "      <th>AVG_FARE_1</th>\n",
       "      <td>1000.0</td>\n",
       "      <td>163.37542</td>\n",
       "      <td>55.365470</td>\n",
       "      <td>50.52</td>\n",
       "      <td>125.9750</td>\n",
       "      <td>161.345</td>\n",
       "      <td>197.3925</td>\n",
       "      <td>401.23</td>\n",
       "    </tr>\n",
       "    <tr>\n",
       "      <th>DISTANCE</th>\n",
       "      <td>1000.0</td>\n",
       "      <td>1056.97300</td>\n",
       "      <td>643.203251</td>\n",
       "      <td>108.00</td>\n",
       "      <td>553.5000</td>\n",
       "      <td>919.000</td>\n",
       "      <td>1452.5000</td>\n",
       "      <td>2724.00</td>\n",
       "    </tr>\n",
       "    <tr>\n",
       "      <th>AVG_WEEK_PASNGR</th>\n",
       "      <td>1000.0</td>\n",
       "      <td>672.27914</td>\n",
       "      <td>766.519254</td>\n",
       "      <td>181.41</td>\n",
       "      <td>257.1975</td>\n",
       "      <td>404.780</td>\n",
       "      <td>769.9125</td>\n",
       "      <td>8950.76</td>\n",
       "    </tr>\n",
       "    <tr>\n",
       "      <th>MKT_LEAD_AIRLINE</th>\n",
       "      <td>1000.0</td>\n",
       "      <td>8.14700</td>\n",
       "      <td>5.363222</td>\n",
       "      <td>0.00</td>\n",
       "      <td>3.7500</td>\n",
       "      <td>10.000</td>\n",
       "      <td>14.0000</td>\n",
       "      <td>15.00</td>\n",
       "    </tr>\n",
       "    <tr>\n",
       "      <th>MKT_SHARE_1</th>\n",
       "      <td>1000.0</td>\n",
       "      <td>60.12859</td>\n",
       "      <td>19.367779</td>\n",
       "      <td>17.68</td>\n",
       "      <td>46.5100</td>\n",
       "      <td>59.240</td>\n",
       "      <td>73.5100</td>\n",
       "      <td>100.00</td>\n",
       "    </tr>\n",
       "    <tr>\n",
       "      <th>AVG_FARE_2</th>\n",
       "      <td>1000.0</td>\n",
       "      <td>166.64756</td>\n",
       "      <td>62.660140</td>\n",
       "      <td>50.52</td>\n",
       "      <td>124.0850</td>\n",
       "      <td>161.400</td>\n",
       "      <td>202.9775</td>\n",
       "      <td>490.03</td>\n",
       "    </tr>\n",
       "    <tr>\n",
       "      <th>LOW_PRICE_AIR</th>\n",
       "      <td>1000.0</td>\n",
       "      <td>10.07900</td>\n",
       "      <td>6.065274</td>\n",
       "      <td>0.00</td>\n",
       "      <td>6.0000</td>\n",
       "      <td>10.000</td>\n",
       "      <td>16.0000</td>\n",
       "      <td>18.00</td>\n",
       "    </tr>\n",
       "    <tr>\n",
       "      <th>MKT_SHARE_2</th>\n",
       "      <td>1000.0</td>\n",
       "      <td>34.55148</td>\n",
       "      <td>27.096999</td>\n",
       "      <td>1.06</td>\n",
       "      <td>13.1950</td>\n",
       "      <td>26.140</td>\n",
       "      <td>52.9725</td>\n",
       "      <td>100.00</td>\n",
       "    </tr>\n",
       "    <tr>\n",
       "      <th>PRICE</th>\n",
       "      <td>1000.0</td>\n",
       "      <td>143.19309</td>\n",
       "      <td>47.229184</td>\n",
       "      <td>49.61</td>\n",
       "      <td>113.7675</td>\n",
       "      <td>137.825</td>\n",
       "      <td>168.5300</td>\n",
       "      <td>387.94</td>\n",
       "    </tr>\n",
       "  </tbody>\n",
       "</table>\n",
       "</div>"
      ],
      "text/plain": [
       "                   count        mean         std     min       25%      50%  \\\n",
       "CITY1             1000.0    35.66600   23.275270    0.00   14.0000   31.000   \n",
       "CITY2             1000.0    50.20100   22.355634    0.00   33.0000   52.500   \n",
       "AVG_FARE_1        1000.0   163.37542   55.365470   50.52  125.9750  161.345   \n",
       "DISTANCE          1000.0  1056.97300  643.203251  108.00  553.5000  919.000   \n",
       "AVG_WEEK_PASNGR   1000.0   672.27914  766.519254  181.41  257.1975  404.780   \n",
       "MKT_LEAD_AIRLINE  1000.0     8.14700    5.363222    0.00    3.7500   10.000   \n",
       "MKT_SHARE_1       1000.0    60.12859   19.367779   17.68   46.5100   59.240   \n",
       "AVG_FARE_2        1000.0   166.64756   62.660140   50.52  124.0850  161.400   \n",
       "LOW_PRICE_AIR     1000.0    10.07900    6.065274    0.00    6.0000   10.000   \n",
       "MKT_SHARE_2       1000.0    34.55148   27.096999    1.06   13.1950   26.140   \n",
       "PRICE             1000.0   143.19309   47.229184   49.61  113.7675  137.825   \n",
       "\n",
       "                        75%      max  \n",
       "CITY1               55.2500    89.00  \n",
       "CITY2               72.0000    84.00  \n",
       "AVG_FARE_1         197.3925   401.23  \n",
       "DISTANCE          1452.5000  2724.00  \n",
       "AVG_WEEK_PASNGR    769.9125  8950.76  \n",
       "MKT_LEAD_AIRLINE    14.0000    15.00  \n",
       "MKT_SHARE_1         73.5100   100.00  \n",
       "AVG_FARE_2         202.9775   490.03  \n",
       "LOW_PRICE_AIR       16.0000    18.00  \n",
       "MKT_SHARE_2         52.9725   100.00  \n",
       "PRICE              168.5300   387.94  "
      ]
     },
     "execution_count": 7,
     "metadata": {},
     "output_type": "execute_result"
    }
   ],
   "source": [
    "fares.describe().T"
   ]
  },
  {
   "cell_type": "code",
   "execution_count": 8,
   "metadata": {},
   "outputs": [
    {
     "data": {
      "text/plain": [
       "CITY1               0\n",
       "CITY2               0\n",
       "AVG_FARE_1          0\n",
       "DISTANCE            0\n",
       "AVG_WEEK_PASNGR     0\n",
       "MKT_LEAD_AIRLINE    0\n",
       "MKT_SHARE_1         0\n",
       "AVG_FARE_2          0\n",
       "LOW_PRICE_AIR       0\n",
       "MKT_SHARE_2         0\n",
       "PRICE               0\n",
       "dtype: int64"
      ]
     },
     "execution_count": 8,
     "metadata": {},
     "output_type": "execute_result"
    }
   ],
   "source": [
    "fares.isnull().sum()"
   ]
  },
  {
   "cell_type": "code",
   "execution_count": 9,
   "metadata": {},
   "outputs": [
    {
     "data": {
      "text/plain": [
       "<matplotlib.axes._subplots.AxesSubplot at 0x235c2abec50>"
      ]
     },
     "execution_count": 9,
     "metadata": {},
     "output_type": "execute_result"
    },
    {
     "data": {
      "image/png": "[encoded data removed]",
      "text/plain": [
       "<Figure size 432x288 with 1 Axes>"
      ]
     },
     "metadata": {
      "needs_background": "light"
     },
     "output_type": "display_data"
    }
   ],
   "source": [
    "%matplotlib inline\n",
    "#fig1, ax1 = plt.subplots()\n",
    "#ax1.set_title('Basic Plot')\n",
    "#ax1.boxplot(fares[['DISTANCE']])\n",
    "#plt.show()\n",
    "#fares[['DISTANCE']].boxplot(figsize=(16,12))\n",
    "fares[['DISTANCE']].plot.box()"
   ]
  },
  {
   "cell_type": "code",
   "execution_count": 10,
   "metadata": {},
   "outputs": [],
   "source": [
    "#import seaborn as sns\n",
    "#sns.pairplot(fares.iloc[2:,:], hue = \"AVG_FARE_1\", diag_kind=\"auto\")"
   ]
  },
  {
   "cell_type": "code",
   "execution_count": 11,
   "metadata": {},
   "outputs": [
    {
     "data": {
      "text/plain": [
       "<matplotlib.axes._subplots.AxesSubplot at 0x235c2dd16a0>"
      ]
     },
     "execution_count": 11,
     "metadata": {},
     "output_type": "execute_result"
    },
    {
     "data": {
      "image/png": "[encoded data removed]",
      "text/plain": [
       "<Figure size 432x288 with 1 Axes>"
      ]
     },
     "metadata": {
      "needs_background": "light"
     },
     "output_type": "display_data"
    }
   ],
   "source": [
    "fares[\"DISTANCE\"].hist()"
   ]
  },
  {
   "cell_type": "markdown",
   "metadata": {},
   "source": [
    "Distance has more outlier as \n",
    "75% quartile is 1452.5000 and\n",
    "Max is 2724.00\n",
    "So this has scope to remove outliers"
   ]
  },
  {
   "cell_type": "code",
   "execution_count": 12,
   "metadata": {},
   "outputs": [],
   "source": [
    "def remove_outlier(df_in, col_name,value):\n",
    "    q1 = df_in[col_name].quantile(0.25)\n",
    "    q3 = df_in[col_name].quantile(0.75)\n",
    "    iqr = q3-q1 #Interquartile range\n",
    "    fence_low  = q1-1.5*iqr\n",
    "    fence_high = q3*1.5\n",
    "    df_out = df_in.loc[ (df_in[col_name] < value)]\n",
    "    return df_out\n",
    "fares_new=remove_outlier(fares,\"DISTANCE\",1500)"
   ]
  },
  {
   "cell_type": "code",
   "execution_count": 13,
   "metadata": {},
   "outputs": [
    {
     "data": {
      "text/plain": [
       "(763, 11)"
      ]
     },
     "execution_count": 13,
     "metadata": {},
     "output_type": "execute_result"
    }
   ],
   "source": [
    "fares_new.shape"
   ]
  },
  {
   "cell_type": "code",
   "execution_count": 14,
   "metadata": {},
   "outputs": [
    {
     "data": {
      "text/html": [
       "<div>\n",
       "<style scoped>\n",
       "    .dataframe tbody tr th:only-of-type {\n",
       "        vertical-align: middle;\n",
       "    }\n",
       "\n",
       "    .dataframe tbody tr th {\n",
       "        vertical-align: top;\n",
       "    }\n",
       "\n",
       "    .dataframe thead th {\n",
       "        text-align: right;\n",
       "    }\n",
       "</style>\n",
       "<table border=\"1\" class=\"dataframe\">\n",
       "  <thead>\n",
       "    <tr style=\"text-align: right;\">\n",
       "      <th></th>\n",
       "      <th>CITY1</th>\n",
       "      <th>CITY2</th>\n",
       "      <th>AVG_FARE_1</th>\n",
       "      <th>DISTANCE</th>\n",
       "      <th>AVG_WEEK_PASNGR</th>\n",
       "      <th>MKT_LEAD_AIRLINE</th>\n",
       "      <th>MKT_SHARE_1</th>\n",
       "      <th>AVG_FARE_2</th>\n",
       "      <th>LOW_PRICE_AIR</th>\n",
       "      <th>MKT_SHARE_2</th>\n",
       "      <th>PRICE</th>\n",
       "    </tr>\n",
       "  </thead>\n",
       "  <tbody>\n",
       "    <tr>\n",
       "      <th>995</th>\n",
       "      <td>86</td>\n",
       "      <td>82</td>\n",
       "      <td>136.16</td>\n",
       "      <td>1104</td>\n",
       "      <td>184.34</td>\n",
       "      <td>13</td>\n",
       "      <td>33.37</td>\n",
       "      <td>135.82</td>\n",
       "      <td>6</td>\n",
       "      <td>28.65</td>\n",
       "      <td>118.51</td>\n",
       "    </tr>\n",
       "    <tr>\n",
       "      <th>996</th>\n",
       "      <td>87</td>\n",
       "      <td>82</td>\n",
       "      <td>83.28</td>\n",
       "      <td>200</td>\n",
       "      <td>232.71</td>\n",
       "      <td>6</td>\n",
       "      <td>99.57</td>\n",
       "      <td>82.55</td>\n",
       "      <td>8</td>\n",
       "      <td>99.57</td>\n",
       "      <td>82.55</td>\n",
       "    </tr>\n",
       "    <tr>\n",
       "      <th>997</th>\n",
       "      <td>88</td>\n",
       "      <td>25</td>\n",
       "      <td>159.97</td>\n",
       "      <td>814</td>\n",
       "      <td>843.80</td>\n",
       "      <td>13</td>\n",
       "      <td>46.19</td>\n",
       "      <td>159.65</td>\n",
       "      <td>6</td>\n",
       "      <td>13.89</td>\n",
       "      <td>159.02</td>\n",
       "    </tr>\n",
       "    <tr>\n",
       "      <th>998</th>\n",
       "      <td>88</td>\n",
       "      <td>54</td>\n",
       "      <td>73.57</td>\n",
       "      <td>174</td>\n",
       "      <td>214.45</td>\n",
       "      <td>14</td>\n",
       "      <td>99.74</td>\n",
       "      <td>73.44</td>\n",
       "      <td>17</td>\n",
       "      <td>99.74</td>\n",
       "      <td>73.44</td>\n",
       "    </tr>\n",
       "    <tr>\n",
       "      <th>999</th>\n",
       "      <td>38</td>\n",
       "      <td>54</td>\n",
       "      <td>126.67</td>\n",
       "      <td>859</td>\n",
       "      <td>475.65</td>\n",
       "      <td>13</td>\n",
       "      <td>56.28</td>\n",
       "      <td>129.92</td>\n",
       "      <td>6</td>\n",
       "      <td>38.57</td>\n",
       "      <td>121.94</td>\n",
       "    </tr>\n",
       "  </tbody>\n",
       "</table>\n",
       "</div>"
      ],
      "text/plain": [
       "     CITY1  CITY2  AVG_FARE_1  DISTANCE  AVG_WEEK_PASNGR  MKT_LEAD_AIRLINE  \\\n",
       "995     86     82      136.16      1104           184.34                13   \n",
       "996     87     82       83.28       200           232.71                 6   \n",
       "997     88     25      159.97       814           843.80                13   \n",
       "998     88     54       73.57       174           214.45                14   \n",
       "999     38     54      126.67       859           475.65                13   \n",
       "\n",
       "     MKT_SHARE_1  AVG_FARE_2  LOW_PRICE_AIR  MKT_SHARE_2   PRICE  \n",
       "995        33.37      135.82              6        28.65  118.51  \n",
       "996        99.57       82.55              8        99.57   82.55  \n",
       "997        46.19      159.65              6        13.89  159.02  \n",
       "998        99.74       73.44             17        99.74   73.44  \n",
       "999        56.28      129.92              6        38.57  121.94  "
      ]
     },
     "execution_count": 14,
     "metadata": {},
     "output_type": "execute_result"
    }
   ],
   "source": [
    "fares_new.tail()"
   ]
  },
  {
   "cell_type": "code",
   "execution_count": 15,
   "metadata": {},
   "outputs": [
    {
     "data": {
      "text/plain": [
       "<matplotlib.axes._subplots.AxesSubplot at 0x235c2e5fbe0>"
      ]
     },
     "execution_count": 15,
     "metadata": {},
     "output_type": "execute_result"
    },
    {
     "data": {
      "image/png": "[encoded data removed]",
      "text/plain": [
       "<Figure size 432x288 with 1 Axes>"
      ]
     },
     "metadata": {
      "needs_background": "light"
     },
     "output_type": "display_data"
    }
   ],
   "source": [
    "fares_new[['DISTANCE']].plot.box()"
   ]
  },
  {
   "cell_type": "code",
   "execution_count": 16,
   "metadata": {},
   "outputs": [
    {
     "data": {
      "text/html": [
       "<div>\n",
       "<style scoped>\n",
       "    .dataframe tbody tr th:only-of-type {\n",
       "        vertical-align: middle;\n",
       "    }\n",
       "\n",
       "    .dataframe tbody tr th {\n",
       "        vertical-align: top;\n",
       "    }\n",
       "\n",
       "    .dataframe thead th {\n",
       "        text-align: right;\n",
       "    }\n",
       "</style>\n",
       "<table border=\"1\" class=\"dataframe\">\n",
       "  <thead>\n",
       "    <tr style=\"text-align: right;\">\n",
       "      <th></th>\n",
       "      <th>count</th>\n",
       "      <th>mean</th>\n",
       "      <th>std</th>\n",
       "      <th>min</th>\n",
       "      <th>25%</th>\n",
       "      <th>50%</th>\n",
       "      <th>75%</th>\n",
       "      <th>max</th>\n",
       "    </tr>\n",
       "  </thead>\n",
       "  <tbody>\n",
       "    <tr>\n",
       "      <th>DISTANCE</th>\n",
       "      <td>763.0</td>\n",
       "      <td>751.70249</td>\n",
       "      <td>335.797108</td>\n",
       "      <td>108.0</td>\n",
       "      <td>471.5</td>\n",
       "      <td>732.0</td>\n",
       "      <td>1011.5</td>\n",
       "      <td>1495.0</td>\n",
       "    </tr>\n",
       "  </tbody>\n",
       "</table>\n",
       "</div>"
      ],
      "text/plain": [
       "          count       mean         std    min    25%    50%     75%     max\n",
       "DISTANCE  763.0  751.70249  335.797108  108.0  471.5  732.0  1011.5  1495.0"
      ]
     },
     "execution_count": 16,
     "metadata": {},
     "output_type": "execute_result"
    }
   ],
   "source": [
    "fares_new[['DISTANCE']].describe().T"
   ]
  },
  {
   "cell_type": "code",
   "execution_count": 17,
   "metadata": {},
   "outputs": [
    {
     "data": {
      "text/plain": [
       "<matplotlib.axes._subplots.AxesSubplot at 0x235c2edc128>"
      ]
     },
     "execution_count": 17,
     "metadata": {},
     "output_type": "execute_result"
    },
    {
     "data": {
      "image/png": "[encoded data removed]",
      "text/plain": [
       "<Figure size 432x288 with 1 Axes>"
      ]
     },
     "metadata": {
      "needs_background": "light"
     },
     "output_type": "display_data"
    }
   ],
   "source": [
    "fares_new[['AVG_WEEK_PASNGR']].plot.box()"
   ]
  },
  {
   "cell_type": "markdown",
   "metadata": {},
   "source": [
    "#Lot of outliers from the box plot , this is the possible candidate to treat outliers"
   ]
  },
  {
   "cell_type": "markdown",
   "metadata": {},
   "source": [
    "#One of the option is to remove but depends on business requirement"
   ]
  },
  {
   "cell_type": "code",
   "execution_count": 18,
   "metadata": {},
   "outputs": [
    {
     "data": {
      "text/plain": [
       "<matplotlib.axes._subplots.AxesSubplot at 0x235c2f320b8>"
      ]
     },
     "execution_count": 18,
     "metadata": {},
     "output_type": "execute_result"
    },
    {
     "data": {
      "image/png": "[encoded data removed]",
      "text/plain": [
       "<Figure size 432x288 with 1 Axes>"
      ]
     },
     "metadata": {
      "needs_background": "light"
     },
     "output_type": "display_data"
    }
   ],
   "source": [
    "fares_new=remove_outlier(fares,\"AVG_WEEK_PASNGR\",1500)\n",
    "fares_new[['AVG_WEEK_PASNGR']].plot.box()"
   ]
  },
  {
   "cell_type": "code",
   "execution_count": 19,
   "metadata": {},
   "outputs": [
    {
     "data": {
      "text/plain": [
       "array([[<matplotlib.axes._subplots.AxesSubplot object at 0x00000235C2F6F358>]],\n",
       "      dtype=object)"
      ]
     },
     "execution_count": 19,
     "metadata": {},
     "output_type": "execute_result"
    },
    {
     "data": {
      "image/png": "[encoded data removed]",
      "text/plain": [
       "<Figure size 432x288 with 1 Axes>"
      ]
     },
     "metadata": {
      "needs_background": "light"
     },
     "output_type": "display_data"
    }
   ],
   "source": [
    "fares_new[['AVG_WEEK_PASNGR']].hist()"
   ]
  },
  {
   "cell_type": "markdown",
   "metadata": {},
   "source": [
    "Splitting the data in to features and target, Variables X and y"
   ]
  },
  {
   "cell_type": "code",
   "execution_count": 20,
   "metadata": {},
   "outputs": [],
   "source": [
    "X=fares.drop(['AVG_FARE_1'],axis=1)\n",
    "y=fares['AVG_FARE_1']"
   ]
  },
  {
   "cell_type": "code",
   "execution_count": 21,
   "metadata": {},
   "outputs": [
    {
     "data": {
      "text/html": [
       "<div>\n",
       "<style scoped>\n",
       "    .dataframe tbody tr th:only-of-type {\n",
       "        vertical-align: middle;\n",
       "    }\n",
       "\n",
       "    .dataframe tbody tr th {\n",
       "        vertical-align: top;\n",
       "    }\n",
       "\n",
       "    .dataframe thead th {\n",
       "        text-align: right;\n",
       "    }\n",
       "</style>\n",
       "<table border=\"1\" class=\"dataframe\">\n",
       "  <thead>\n",
       "    <tr style=\"text-align: right;\">\n",
       "      <th></th>\n",
       "      <th>CITY1</th>\n",
       "      <th>CITY2</th>\n",
       "      <th>DISTANCE</th>\n",
       "      <th>AVG_WEEK_PASNGR</th>\n",
       "      <th>MKT_LEAD_AIRLINE</th>\n",
       "      <th>MKT_SHARE_1</th>\n",
       "      <th>AVG_FARE_2</th>\n",
       "      <th>LOW_PRICE_AIR</th>\n",
       "      <th>MKT_SHARE_2</th>\n",
       "      <th>PRICE</th>\n",
       "    </tr>\n",
       "  </thead>\n",
       "  <tbody>\n",
       "    <tr>\n",
       "      <th>0</th>\n",
       "      <td>16</td>\n",
       "      <td>0</td>\n",
       "      <td>528</td>\n",
       "      <td>424.56</td>\n",
       "      <td>6</td>\n",
       "      <td>70.19</td>\n",
       "      <td>111.03</td>\n",
       "      <td>8</td>\n",
       "      <td>70.19</td>\n",
       "      <td>111.03</td>\n",
       "    </tr>\n",
       "    <tr>\n",
       "      <th>1</th>\n",
       "      <td>16</td>\n",
       "      <td>40</td>\n",
       "      <td>860</td>\n",
       "      <td>276.84</td>\n",
       "      <td>6</td>\n",
       "      <td>75.10</td>\n",
       "      <td>123.09</td>\n",
       "      <td>6</td>\n",
       "      <td>17.23</td>\n",
       "      <td>118.94</td>\n",
       "    </tr>\n",
       "    <tr>\n",
       "      <th>2</th>\n",
       "      <td>2</td>\n",
       "      <td>0</td>\n",
       "      <td>852</td>\n",
       "      <td>215.76</td>\n",
       "      <td>4</td>\n",
       "      <td>78.89</td>\n",
       "      <td>223.98</td>\n",
       "      <td>5</td>\n",
       "      <td>2.77</td>\n",
       "      <td>167.12</td>\n",
       "    </tr>\n",
       "    <tr>\n",
       "      <th>3</th>\n",
       "      <td>2</td>\n",
       "      <td>7</td>\n",
       "      <td>288</td>\n",
       "      <td>606.84</td>\n",
       "      <td>14</td>\n",
       "      <td>96.97</td>\n",
       "      <td>68.86</td>\n",
       "      <td>17</td>\n",
       "      <td>96.97</td>\n",
       "      <td>68.86</td>\n",
       "    </tr>\n",
       "    <tr>\n",
       "      <th>4</th>\n",
       "      <td>2</td>\n",
       "      <td>52</td>\n",
       "      <td>723</td>\n",
       "      <td>313.04</td>\n",
       "      <td>12</td>\n",
       "      <td>39.79</td>\n",
       "      <td>161.36</td>\n",
       "      <td>17</td>\n",
       "      <td>15.34</td>\n",
       "      <td>145.42</td>\n",
       "    </tr>\n",
       "  </tbody>\n",
       "</table>\n",
       "</div>"
      ],
      "text/plain": [
       "   CITY1  CITY2  DISTANCE  AVG_WEEK_PASNGR  MKT_LEAD_AIRLINE  MKT_SHARE_1  \\\n",
       "0     16      0       528           424.56                 6        70.19   \n",
       "1     16     40       860           276.84                 6        75.10   \n",
       "2      2      0       852           215.76                 4        78.89   \n",
       "3      2      7       288           606.84                14        96.97   \n",
       "4      2     52       723           313.04                12        39.79   \n",
       "\n",
       "   AVG_FARE_2  LOW_PRICE_AIR  MKT_SHARE_2   PRICE  \n",
       "0      111.03              8        70.19  111.03  \n",
       "1      123.09              6        17.23  118.94  \n",
       "2      223.98              5         2.77  167.12  \n",
       "3       68.86             17        96.97   68.86  \n",
       "4      161.36             17        15.34  145.42  "
      ]
     },
     "execution_count": 21,
     "metadata": {},
     "output_type": "execute_result"
    }
   ],
   "source": [
    "X.head()"
   ]
  },
  {
   "cell_type": "code",
   "execution_count": 22,
   "metadata": {},
   "outputs": [],
   "source": [
    "X_train, X_test, y_train, y_test = train_test_split(X, y, test_size=0.2, random_state=0)"
   ]
  },
  {
   "cell_type": "code",
   "execution_count": 23,
   "metadata": {},
   "outputs": [
    {
     "data": {
      "text/plain": [
       "LinearRegression(copy_X=True, fit_intercept=True, n_jobs=None,\n",
       "         normalize=False)"
      ]
     },
     "execution_count": 23,
     "metadata": {},
     "output_type": "execute_result"
    }
   ],
   "source": [
    "regressor = LinearRegression()  \n",
    "regressor.fit(X_train, y_train)"
   ]
  },
  {
   "cell_type": "code",
   "execution_count": 24,
   "metadata": {
    "scrolled": true
   },
   "outputs": [
    {
     "data": {
      "text/plain": [
       "MKT_LEAD_AIRLINE   -0.313072\n",
       "MKT_SHARE_2        -0.069819\n",
       "CITY2              -0.033477\n",
       "AVG_WEEK_PASNGR    -0.001317\n",
       "DISTANCE            0.002816\n",
       "CITY1               0.012607\n",
       "MKT_SHARE_1         0.065772\n",
       "LOW_PRICE_AIR       0.190512\n",
       "PRICE               0.214385\n",
       "AVG_FARE_2          0.700174\n",
       "Name: Coefficient, dtype: float64"
      ]
     },
     "execution_count": 24,
     "metadata": {},
     "output_type": "execute_result"
    }
   ],
   "source": [
    "coeff_df = pd.DataFrame(regressor.coef_, X.columns, columns=['Coefficient'])  \n",
    "coeff_df['Coefficient'].sort_values()"
   ]
  },
  {
   "cell_type": "code",
   "execution_count": 25,
   "metadata": {},
   "outputs": [
    {
     "data": {
      "text/html": [
       "<div>\n",
       "<style scoped>\n",
       "    .dataframe tbody tr th:only-of-type {\n",
       "        vertical-align: middle;\n",
       "    }\n",
       "\n",
       "    .dataframe tbody tr th {\n",
       "        vertical-align: top;\n",
       "    }\n",
       "\n",
       "    .dataframe thead th {\n",
       "        text-align: right;\n",
       "    }\n",
       "</style>\n",
       "<table border=\"1\" class=\"dataframe\">\n",
       "  <thead>\n",
       "    <tr style=\"text-align: right;\">\n",
       "      <th></th>\n",
       "      <th>AVG_FARE_1</th>\n",
       "      <th>AVG_FARE_2</th>\n",
       "      <th>LOW_PRICE_AIR</th>\n",
       "      <th>PRICE</th>\n",
       "    </tr>\n",
       "  </thead>\n",
       "  <tbody>\n",
       "    <tr>\n",
       "      <th>0</th>\n",
       "      <td>114.47</td>\n",
       "      <td>111.03</td>\n",
       "      <td>8</td>\n",
       "      <td>111.03</td>\n",
       "    </tr>\n",
       "    <tr>\n",
       "      <th>1</th>\n",
       "      <td>122.47</td>\n",
       "      <td>123.09</td>\n",
       "      <td>6</td>\n",
       "      <td>118.94</td>\n",
       "    </tr>\n",
       "    <tr>\n",
       "      <th>2</th>\n",
       "      <td>214.42</td>\n",
       "      <td>223.98</td>\n",
       "      <td>5</td>\n",
       "      <td>167.12</td>\n",
       "    </tr>\n",
       "    <tr>\n",
       "      <th>3</th>\n",
       "      <td>69.40</td>\n",
       "      <td>68.86</td>\n",
       "      <td>17</td>\n",
       "      <td>68.86</td>\n",
       "    </tr>\n",
       "    <tr>\n",
       "      <th>4</th>\n",
       "      <td>158.13</td>\n",
       "      <td>161.36</td>\n",
       "      <td>17</td>\n",
       "      <td>145.42</td>\n",
       "    </tr>\n",
       "  </tbody>\n",
       "</table>\n",
       "</div>"
      ],
      "text/plain": [
       "   AVG_FARE_1  AVG_FARE_2  LOW_PRICE_AIR   PRICE\n",
       "0      114.47      111.03              8  111.03\n",
       "1      122.47      123.09              6  118.94\n",
       "2      214.42      223.98              5  167.12\n",
       "3       69.40       68.86             17   68.86\n",
       "4      158.13      161.36             17  145.42"
      ]
     },
     "execution_count": 25,
     "metadata": {},
     "output_type": "execute_result"
    }
   ],
   "source": [
    "fares_new=fares.drop(['MKT_LEAD_AIRLINE','MKT_SHARE_2','CITY2','AVG_WEEK_PASNGR','DISTANCE','CITY1','MKT_SHARE_1'], axis=1)\n",
    "fares_new.head()"
   ]
  },
  {
   "cell_type": "code",
   "execution_count": 26,
   "metadata": {},
   "outputs": [],
   "source": [
    "import seaborn as sns\n",
    "#sns.pairplot(fares_new.iloc[:,:], hue = \"AVG_FARE_1\")"
   ]
  },
  {
   "cell_type": "code",
   "execution_count": 27,
   "metadata": {},
   "outputs": [
    {
     "data": {
      "text/plain": [
       "<seaborn.axisgrid.PairGrid at 0x235c2ff1a90>"
      ]
     },
     "execution_count": 27,
     "metadata": {},
     "output_type": "execute_result"
    },
    {
     "data": {
      "image/png": "[encoded data removed]",
      "text/plain": [
       "<Figure size 720x720 with 20 Axes>"
      ]
     },
     "metadata": {
      "needs_background": "light"
     },
     "output_type": "display_data"
    }
   ],
   "source": [
    "sns.pairplot(fares_new)"
   ]
  },
  {
   "cell_type": "code",
   "execution_count": 30,
   "metadata": {},
   "outputs": [],
   "source": [
    "X=fares_new.drop(['AVG_FARE_1'],axis=1)\n",
    "y=fares_new['AVG_FARE_1']"
   ]
  },
  {
   "cell_type": "code",
   "execution_count": 31,
   "metadata": {},
   "outputs": [],
   "source": [
    "X_train, X_test, y_train, y_test = train_test_split(X, y, test_size=0.2, random_state=0)"
   ]
  },
  {
   "cell_type": "code",
   "execution_count": 32,
   "metadata": {},
   "outputs": [
    {
     "data": {
      "text/plain": [
       "LinearRegression(copy_X=True, fit_intercept=True, n_jobs=None,\n",
       "         normalize=False)"
      ]
     },
     "execution_count": 32,
     "metadata": {},
     "output_type": "execute_result"
    }
   ],
   "source": [
    "regressor = LinearRegression()  \n",
    "regressor.fit(X_train, y_train)"
   ]
  },
  {
   "cell_type": "code",
   "execution_count": 33,
   "metadata": {},
   "outputs": [
    {
     "data": {
      "text/plain": [
       "LOW_PRICE_AIR    0.071951\n",
       "PRICE            0.199716\n",
       "AVG_FARE_2       0.742361\n",
       "Name: Coefficient, dtype: float64"
      ]
     },
     "execution_count": 33,
     "metadata": {},
     "output_type": "execute_result"
    }
   ],
   "source": [
    "coeff_df = pd.DataFrame(regressor.coef_, X.columns, columns=['Coefficient'])  \n",
    "coeff_df['Coefficient'].sort_values()"
   ]
  },
  {
   "cell_type": "code",
   "execution_count": 34,
   "metadata": {},
   "outputs": [
    {
     "name": "stdout",
     "output_type": "stream",
     "text": [
      "Intercept: \n",
      " 10.171616346522882\n",
      "Coefficients: \n",
      " [0.74236149 0.07195085 0.1997157 ]\n"
     ]
    }
   ],
   "source": [
    "print('Intercept: \\n', regressor.intercept_)\n",
    "print('Coefficients: \\n', regressor.coef_)"
   ]
  },
  {
   "cell_type": "code",
   "execution_count": 35,
   "metadata": {},
   "outputs": [
    {
     "name": "stdout",
     "output_type": "stream",
     "text": [
      "coefficient of determination: 0.9739334283105063\n"
     ]
    }
   ],
   "source": [
    "r_sq = regressor.score(X_train, y_train)\n",
    "print('coefficient of determination:',r_sq)"
   ]
  },
  {
   "cell_type": "code",
   "execution_count": 37,
   "metadata": {},
   "outputs": [
    {
     "name": "stdout",
     "output_type": "stream",
     "text": [
      "predicted response:\n",
      "[129.37523367 103.53405627 159.40794385 209.76628745 165.71612666\n",
      " 102.43700619 210.95652845  85.73409204  82.87959815 131.70023051\n",
      "  86.29933836 200.51130721 196.44523883  85.31687348 145.72886852\n",
      " 221.54290135 126.84104602 103.43408153 175.13462817 186.55212426\n",
      " 137.17920007 189.13084629 184.61404524 166.93221881 123.11819069\n",
      " 246.6891993  134.90673855  89.54950467 346.43679035 125.73478295\n",
      " 172.3904674  192.99363591  91.87643534 189.13660496  88.56032362\n",
      "  81.88099632 165.14703974 145.66413393 128.32952798 187.6467316\n",
      "  67.06128582  88.51569539 167.85792856 182.79343872 247.88783379\n",
      " 210.66448452  91.37018929 144.48360251 107.78894434 118.76331842\n",
      " 170.75053752 106.19683388 187.41198373 172.0770027  156.89589859\n",
      " 214.09302235 153.53220853 184.89809515 110.88251886 188.46769431\n",
      " 174.96825338 175.22146586 232.29093361 154.52024568 195.3772418\n",
      " 171.60117399 162.75838539 135.20598076 190.80212428 154.11052527\n",
      " 220.48961074 224.87264429  75.0415159  166.44345953  83.19048362\n",
      " 229.04207094 194.88633741 219.3997036  162.53552564 161.43875487\n",
      "  81.66431857 187.32758232 126.39414368 138.39934698 110.58608839\n",
      " 146.39444249 132.00633364 252.13378213 190.43097736 109.6156344\n",
      " 170.59138096 222.44870436 259.78970961 136.93396055 149.38881699\n",
      " 241.37445406 125.59326359 130.33630702 178.29526532  80.79760755\n",
      " 203.28983443  85.30073653 224.52004313 261.40664151 172.55746207\n",
      " 129.53862076 157.3435625  213.52373447 167.60213604 270.92865033\n",
      " 126.27332407 159.77523947 208.50157332 138.57700923 198.29689037\n",
      " 168.19564467 120.7227245  225.07826557 128.02558765 126.58983225\n",
      " 196.77718073 141.85704574 231.09981492 102.39001681 206.1762479\n",
      " 125.60951501 162.02586816 158.67786026 131.75335957 202.91196422\n",
      " 167.22741595 109.1729726  167.49298473 185.10813742 167.47416688\n",
      " 151.5214111  178.13985377 131.68861751 162.03318035 142.16864195\n",
      " 157.5491625  125.23315202 129.20010054 167.60967426 148.43163223\n",
      " 285.91590492 217.10146163 252.06168778 254.45980358 231.57108015\n",
      " 189.73682401 206.53737339 206.2784201  160.3311795  190.8603715\n",
      " 147.46083859 141.70287486 149.89269516 110.98176081 184.99800857\n",
      " 161.82300617  83.04453206  86.53050263  79.31854636  88.07986425\n",
      " 109.7099566  190.7196302  162.27960989 185.39271328 208.77090936\n",
      " 150.87861544 125.59337807  77.63222818 171.6737889  179.85150332\n",
      " 193.33713453 176.22097199 156.51235154 203.68373938 151.45231878\n",
      " 134.14301578 131.40425905 193.99992912 179.30802949 348.57762626\n",
      " 244.44148169 175.86382542 155.39095348 218.79320464 133.57755268\n",
      " 208.54974426 262.75275011 131.74150187 138.52863434 187.34854649\n",
      " 110.43948209 231.48943195 282.82789411 158.9106128  173.21504627]\n"
     ]
    }
   ],
   "source": [
    "y_pred = regressor.predict(X_test)\n",
    "print('predicted response:', y_pred, sep='\\n')"
   ]
  },
  {
   "cell_type": "code",
   "execution_count": 39,
   "metadata": {},
   "outputs": [
    {
     "data": {
      "text/plain": [
       "LOW_PRICE_AIR    0.071951\n",
       "PRICE            0.199716\n",
       "AVG_FARE_2       0.742361\n",
       "Name: Coefficient, dtype: float64"
      ]
     },
     "execution_count": 39,
     "metadata": {},
     "output_type": "execute_result"
    }
   ],
   "source": [
    "coeff_df['Coefficient'].sort_values()"
   ]
  },
  {
   "cell_type": "code",
   "execution_count": 41,
   "metadata": {},
   "outputs": [
    {
     "name": "stdout",
     "output_type": "stream",
     "text": [
      "predicted response:\n",
      "993    129.375210\n",
      "859    103.534037\n",
      "298    159.407916\n",
      "553    209.766216\n",
      "672    165.716091\n",
      "971    102.436988\n",
      "27     210.956487\n",
      "231     85.734079\n",
      "306     82.879586\n",
      "706    131.700203\n",
      "496     86.299326\n",
      "558    200.511254\n",
      "784    196.445203\n",
      "239     85.316859\n",
      "578    145.728842\n",
      "55     221.542823\n",
      "906    126.841022\n",
      "175    103.434062\n",
      "14     175.134585\n",
      "77     186.552072\n",
      "31     137.179169\n",
      "481    189.130791\n",
      "310    184.613985\n",
      "311    166.932172\n",
      "883    123.118169\n",
      "788    246.689139\n",
      "45     134.906712\n",
      "103     89.549491\n",
      "760    346.436707\n",
      "1      125.734759\n",
      "          ...    \n",
      "945    150.878588\n",
      "795    125.593357\n",
      "145     77.632217\n",
      "826    171.673759\n",
      "492    179.851465\n",
      "751    193.337068\n",
      "240    176.220932\n",
      "648    156.512324\n",
      "886    203.683683\n",
      "144    151.452285\n",
      "767    134.142984\n",
      "999    131.404233\n",
      "467    193.999875\n",
      "315    179.307997\n",
      "989    348.577479\n",
      "922    244.441435\n",
      "717    175.863783\n",
      "458    155.390908\n",
      "773    218.793136\n",
      "204    133.577527\n",
      "834    208.549675\n",
      "832    262.752668\n",
      "435    131.741466\n",
      "5      138.528606\n",
      "769    187.348513\n",
      "679    110.439462\n",
      "722    231.489372\n",
      "215    282.827839\n",
      "653    158.910572\n",
      "150    173.215013\n",
      "Length: 200, dtype: float64\n"
     ]
    }
   ],
   "source": [
    "y_pred = regressor.intercept_ + 0.071951 * X_test.LOW_PRICE_AIR+0.199716*X_test.PRICE+0.742361*X_test.AVG_FARE_2\n",
    "print('predicted response:', y_pred, sep='\\n')"
   ]
  },
  {
   "cell_type": "code",
   "execution_count": 46,
   "metadata": {},
   "outputs": [],
   "source": [
    "df = pd.DataFrame({'Actual': y_test, 'Predicted': y_pred})\n",
    "df1=df.head(25)"
   ]
  },
  {
   "cell_type": "code",
   "execution_count": 47,
   "metadata": {},
   "outputs": [
    {
     "data": {
      "image/png": "[encoded data removed]",
      "text/plain": [
       "<Figure size 720x576 with 1 Axes>"
      ]
     },
     "metadata": {
      "needs_background": "light"
     },
     "output_type": "display_data"
    }
   ],
   "source": [
    "df1.plot(kind='bar',figsize=(10,8))\n",
    "plt.grid(which='major', linestyle='-', linewidth='0.5', color='green')\n",
    "plt.grid(which='minor', linestyle=':', linewidth='0.5', color='black')\n",
    "plt.show()"
   ]
  },
  {
   "cell_type": "code",
   "execution_count": 49,
   "metadata": {},
   "outputs": [
    {
     "name": "stdout",
     "output_type": "stream",
     "text": [
      "Mean Absolute Error: 6.439719463821832\n",
      "Mean Squared Error: 86.78581420239125\n",
      "Root Mean Squared Error: 9.315890413824716\n"
     ]
    }
   ],
   "source": [
    "from sklearn import metrics\n",
    "print('Mean Absolute Error:', metrics.mean_absolute_error(y_test, y_pred))  \n",
    "print('Mean Squared Error:', metrics.mean_squared_error(y_test, y_pred))  \n",
    "print('Root Mean Squared Error:', np.sqrt(metrics.mean_squared_error(y_test, y_pred)))"
   ]
  },
  {
   "cell_type": "code",
   "execution_count": 52,
   "metadata": {},
   "outputs": [
    {
     "data": {
      "text/plain": [
       "<seaborn.axisgrid.PairGrid at 0x235c4b85940>"
      ]
     },
     "execution_count": 52,
     "metadata": {},
     "output_type": "execute_result"
    },
    {
     "data": {
      "image/png": "[encoded data removed]",
      "text/plain": [
       "<Figure size 540x180 with 3 Axes>"
      ]
     },
     "metadata": {
      "needs_background": "light"
     },
     "output_type": "display_data"
    }
   ],
   "source": [
    "sns.pairplot(fares_new, x_vars=['AVG_FARE_2','LOW_PRICE_AIR','PRICE'], y_vars='AVG_FARE_1')"
   ]
  },
  {
   "cell_type": "code",
   "execution_count": 56,
   "metadata": {},
   "outputs": [
    {
     "data": {
      "text/plain": [
       "0.9739334283105063"
      ]
     },
     "execution_count": 56,
     "metadata": {},
     "output_type": "execute_result"
    }
   ],
   "source": [
    "regressor.score(X_train,y_train)"
   ]
  },
  {
   "cell_type": "code",
   "execution_count": 57,
   "metadata": {},
   "outputs": [
    {
     "data": {
      "text/plain": [
       "0.967802881033672"
      ]
     },
     "execution_count": 57,
     "metadata": {},
     "output_type": "execute_result"
    }
   ],
   "source": [
    "regressor.score(X_test,y_test)"
   ]
  },
  {
   "cell_type": "markdown",
   "metadata": {},
   "source": [
    "Training Score is : 0.9739334283105063"
   ]
  },
  {
   "cell_type": "markdown",
   "metadata": {},
   "source": [
    "Test Score is  : 0.967802881033672"
   ]
  },
  {
   "cell_type": "markdown",
   "metadata": {},
   "source": [
    "Model score is stable in Training and testing"
   ]
  }
 ],
 "metadata": {
  "kernelspec": {
   "display_name": "Python 3",
   "language": "python",
   "name": "python3"
  },
  "language_info": {
   "codemirror_mode": {
    "name": "ipython",
    "version": 3
   },
   "file_extension": ".py",
   "mimetype": "text/x-python",
   "name": "python",
   "nbconvert_exporter": "python",
   "pygments_lexer": "ipython3",
   "version": "3.7.0"
  }
 },
 "nbformat": 4,
 "nbformat_minor": 2
}
