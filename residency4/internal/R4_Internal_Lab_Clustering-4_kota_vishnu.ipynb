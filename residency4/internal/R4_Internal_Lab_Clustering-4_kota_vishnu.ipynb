{
 "cells": [
  {
   "cell_type": "markdown",
   "metadata": {},
   "source": [
    "### The data set has information about features of silhouette extracted from the images of different cars\n",
    "\n",
    "Four \"Corgie\" model vehicles were used for the experiment: a double decker bus, Cheverolet van, Saab 9000 and an Opel Manta 400 cars. This particular combination of vehicles was chosen with the expectation that the bus, van and either one of the cars would be readily distinguishable, but it would be more difficult to distinguish between the cars.\n",
    "\n"
   ]
  },
  {
   "cell_type": "markdown",
   "metadata": {},
   "source": [
    "### 1. Read the dataset using function .dropna() - to avoid dealing with NAs as of now"
   ]
  },
  {
   "cell_type": "code",
   "execution_count": 1,
   "metadata": {},
   "outputs": [],
   "source": [
    "import numpy as np\n",
    "import pandas as pd\n",
    "import matplotlib.pyplot as plt \n",
    "from scipy.stats import zscore\n",
    "import seaborn as sns\n",
    "%matplotlib inline"
   ]
  },
  {
   "cell_type": "code",
   "execution_count": 2,
   "metadata": {},
   "outputs": [],
   "source": [
    "# reading the CSV file into pandas dataframe\n",
    "vehicle_df = pd.read_csv(\"vehicle.csv\") "
   ]
  },
  {
   "cell_type": "code",
   "execution_count": 3,
   "metadata": {},
   "outputs": [
    {
     "name": "stdout",
     "output_type": "stream",
     "text": [
      "<class 'pandas.core.frame.DataFrame'>\n",
      "RangeIndex: 846 entries, 0 to 845\n",
      "Data columns (total 19 columns):\n",
      "compactness                    846 non-null int64\n",
      "circularity                    841 non-null float64\n",
      "distance_circularity           842 non-null float64\n",
      "radius_ratio                   840 non-null float64\n",
      "pr.axis_aspect_ratio           844 non-null float64\n",
      "max.length_aspect_ratio        846 non-null int64\n",
      "scatter_ratio                  845 non-null float64\n",
      "elongatedness                  845 non-null float64\n",
      "pr.axis_rectangularity         843 non-null float64\n",
      "max.length_rectangularity      846 non-null int64\n",
      "scaled_variance                843 non-null float64\n",
      "scaled_variance.1              844 non-null float64\n",
      "scaled_radius_of_gyration      844 non-null float64\n",
      "scaled_radius_of_gyration.1    842 non-null float64\n",
      "skewness_about                 840 non-null float64\n",
      "skewness_about.1               845 non-null float64\n",
      "skewness_about.2               845 non-null float64\n",
      "hollows_ratio                  846 non-null int64\n",
      "class                          846 non-null object\n",
      "dtypes: float64(14), int64(4), object(1)\n",
      "memory usage: 125.7+ KB\n"
     ]
    }
   ],
   "source": [
    "vehicle_df.info()"
   ]
  },
  {
   "cell_type": "code",
   "execution_count": 4,
   "metadata": {},
   "outputs": [
    {
     "data": {
      "text/html": [
       "<div>\n",
       "<style scoped>\n",
       "    .dataframe tbody tr th:only-of-type {\n",
       "        vertical-align: middle;\n",
       "    }\n",
       "\n",
       "    .dataframe tbody tr th {\n",
       "        vertical-align: top;\n",
       "    }\n",
       "\n",
       "    .dataframe thead th {\n",
       "        text-align: right;\n",
       "    }\n",
       "</style>\n",
       "<table border=\"1\" class=\"dataframe\">\n",
       "  <thead>\n",
       "    <tr style=\"text-align: right;\">\n",
       "      <th></th>\n",
       "      <th>count</th>\n",
       "      <th>mean</th>\n",
       "      <th>std</th>\n",
       "      <th>min</th>\n",
       "      <th>25%</th>\n",
       "      <th>50%</th>\n",
       "      <th>75%</th>\n",
       "      <th>max</th>\n",
       "    </tr>\n",
       "  </thead>\n",
       "  <tbody>\n",
       "    <tr>\n",
       "      <th>compactness</th>\n",
       "      <td>846.0</td>\n",
       "      <td>93.678487</td>\n",
       "      <td>8.234474</td>\n",
       "      <td>73.0</td>\n",
       "      <td>87.00</td>\n",
       "      <td>93.0</td>\n",
       "      <td>100.0</td>\n",
       "      <td>119.0</td>\n",
       "    </tr>\n",
       "    <tr>\n",
       "      <th>circularity</th>\n",
       "      <td>841.0</td>\n",
       "      <td>44.828775</td>\n",
       "      <td>6.152172</td>\n",
       "      <td>33.0</td>\n",
       "      <td>40.00</td>\n",
       "      <td>44.0</td>\n",
       "      <td>49.0</td>\n",
       "      <td>59.0</td>\n",
       "    </tr>\n",
       "    <tr>\n",
       "      <th>distance_circularity</th>\n",
       "      <td>842.0</td>\n",
       "      <td>82.110451</td>\n",
       "      <td>15.778292</td>\n",
       "      <td>40.0</td>\n",
       "      <td>70.00</td>\n",
       "      <td>80.0</td>\n",
       "      <td>98.0</td>\n",
       "      <td>112.0</td>\n",
       "    </tr>\n",
       "    <tr>\n",
       "      <th>radius_ratio</th>\n",
       "      <td>840.0</td>\n",
       "      <td>168.888095</td>\n",
       "      <td>33.520198</td>\n",
       "      <td>104.0</td>\n",
       "      <td>141.00</td>\n",
       "      <td>167.0</td>\n",
       "      <td>195.0</td>\n",
       "      <td>333.0</td>\n",
       "    </tr>\n",
       "    <tr>\n",
       "      <th>pr.axis_aspect_ratio</th>\n",
       "      <td>844.0</td>\n",
       "      <td>61.678910</td>\n",
       "      <td>7.891463</td>\n",
       "      <td>47.0</td>\n",
       "      <td>57.00</td>\n",
       "      <td>61.0</td>\n",
       "      <td>65.0</td>\n",
       "      <td>138.0</td>\n",
       "    </tr>\n",
       "    <tr>\n",
       "      <th>max.length_aspect_ratio</th>\n",
       "      <td>846.0</td>\n",
       "      <td>8.567376</td>\n",
       "      <td>4.601217</td>\n",
       "      <td>2.0</td>\n",
       "      <td>7.00</td>\n",
       "      <td>8.0</td>\n",
       "      <td>10.0</td>\n",
       "      <td>55.0</td>\n",
       "    </tr>\n",
       "    <tr>\n",
       "      <th>scatter_ratio</th>\n",
       "      <td>845.0</td>\n",
       "      <td>168.901775</td>\n",
       "      <td>33.214848</td>\n",
       "      <td>112.0</td>\n",
       "      <td>147.00</td>\n",
       "      <td>157.0</td>\n",
       "      <td>198.0</td>\n",
       "      <td>265.0</td>\n",
       "    </tr>\n",
       "    <tr>\n",
       "      <th>elongatedness</th>\n",
       "      <td>845.0</td>\n",
       "      <td>40.933728</td>\n",
       "      <td>7.816186</td>\n",
       "      <td>26.0</td>\n",
       "      <td>33.00</td>\n",
       "      <td>43.0</td>\n",
       "      <td>46.0</td>\n",
       "      <td>61.0</td>\n",
       "    </tr>\n",
       "    <tr>\n",
       "      <th>pr.axis_rectangularity</th>\n",
       "      <td>843.0</td>\n",
       "      <td>20.582444</td>\n",
       "      <td>2.592933</td>\n",
       "      <td>17.0</td>\n",
       "      <td>19.00</td>\n",
       "      <td>20.0</td>\n",
       "      <td>23.0</td>\n",
       "      <td>29.0</td>\n",
       "    </tr>\n",
       "    <tr>\n",
       "      <th>max.length_rectangularity</th>\n",
       "      <td>846.0</td>\n",
       "      <td>147.998818</td>\n",
       "      <td>14.515652</td>\n",
       "      <td>118.0</td>\n",
       "      <td>137.00</td>\n",
       "      <td>146.0</td>\n",
       "      <td>159.0</td>\n",
       "      <td>188.0</td>\n",
       "    </tr>\n",
       "    <tr>\n",
       "      <th>scaled_variance</th>\n",
       "      <td>843.0</td>\n",
       "      <td>188.631079</td>\n",
       "      <td>31.411004</td>\n",
       "      <td>130.0</td>\n",
       "      <td>167.00</td>\n",
       "      <td>179.0</td>\n",
       "      <td>217.0</td>\n",
       "      <td>320.0</td>\n",
       "    </tr>\n",
       "    <tr>\n",
       "      <th>scaled_variance.1</th>\n",
       "      <td>844.0</td>\n",
       "      <td>439.494076</td>\n",
       "      <td>176.666903</td>\n",
       "      <td>184.0</td>\n",
       "      <td>318.00</td>\n",
       "      <td>363.5</td>\n",
       "      <td>587.0</td>\n",
       "      <td>1018.0</td>\n",
       "    </tr>\n",
       "    <tr>\n",
       "      <th>scaled_radius_of_gyration</th>\n",
       "      <td>844.0</td>\n",
       "      <td>174.709716</td>\n",
       "      <td>32.584808</td>\n",
       "      <td>109.0</td>\n",
       "      <td>149.00</td>\n",
       "      <td>173.5</td>\n",
       "      <td>198.0</td>\n",
       "      <td>268.0</td>\n",
       "    </tr>\n",
       "    <tr>\n",
       "      <th>scaled_radius_of_gyration.1</th>\n",
       "      <td>842.0</td>\n",
       "      <td>72.447743</td>\n",
       "      <td>7.486190</td>\n",
       "      <td>59.0</td>\n",
       "      <td>67.00</td>\n",
       "      <td>71.5</td>\n",
       "      <td>75.0</td>\n",
       "      <td>135.0</td>\n",
       "    </tr>\n",
       "    <tr>\n",
       "      <th>skewness_about</th>\n",
       "      <td>840.0</td>\n",
       "      <td>6.364286</td>\n",
       "      <td>4.920649</td>\n",
       "      <td>0.0</td>\n",
       "      <td>2.00</td>\n",
       "      <td>6.0</td>\n",
       "      <td>9.0</td>\n",
       "      <td>22.0</td>\n",
       "    </tr>\n",
       "    <tr>\n",
       "      <th>skewness_about.1</th>\n",
       "      <td>845.0</td>\n",
       "      <td>12.602367</td>\n",
       "      <td>8.936081</td>\n",
       "      <td>0.0</td>\n",
       "      <td>5.00</td>\n",
       "      <td>11.0</td>\n",
       "      <td>19.0</td>\n",
       "      <td>41.0</td>\n",
       "    </tr>\n",
       "    <tr>\n",
       "      <th>skewness_about.2</th>\n",
       "      <td>845.0</td>\n",
       "      <td>188.919527</td>\n",
       "      <td>6.155809</td>\n",
       "      <td>176.0</td>\n",
       "      <td>184.00</td>\n",
       "      <td>188.0</td>\n",
       "      <td>193.0</td>\n",
       "      <td>206.0</td>\n",
       "    </tr>\n",
       "    <tr>\n",
       "      <th>hollows_ratio</th>\n",
       "      <td>846.0</td>\n",
       "      <td>195.632388</td>\n",
       "      <td>7.438797</td>\n",
       "      <td>181.0</td>\n",
       "      <td>190.25</td>\n",
       "      <td>197.0</td>\n",
       "      <td>201.0</td>\n",
       "      <td>211.0</td>\n",
       "    </tr>\n",
       "  </tbody>\n",
       "</table>\n",
       "</div>"
      ],
      "text/plain": [
       "                             count        mean         std    min     25%  \\\n",
       "compactness                  846.0   93.678487    8.234474   73.0   87.00   \n",
       "circularity                  841.0   44.828775    6.152172   33.0   40.00   \n",
       "distance_circularity         842.0   82.110451   15.778292   40.0   70.00   \n",
       "radius_ratio                 840.0  168.888095   33.520198  104.0  141.00   \n",
       "pr.axis_aspect_ratio         844.0   61.678910    7.891463   47.0   57.00   \n",
       "max.length_aspect_ratio      846.0    8.567376    4.601217    2.0    7.00   \n",
       "scatter_ratio                845.0  168.901775   33.214848  112.0  147.00   \n",
       "elongatedness                845.0   40.933728    7.816186   26.0   33.00   \n",
       "pr.axis_rectangularity       843.0   20.582444    2.592933   17.0   19.00   \n",
       "max.length_rectangularity    846.0  147.998818   14.515652  118.0  137.00   \n",
       "scaled_variance              843.0  188.631079   31.411004  130.0  167.00   \n",
       "scaled_variance.1            844.0  439.494076  176.666903  184.0  318.00   \n",
       "scaled_radius_of_gyration    844.0  174.709716   32.584808  109.0  149.00   \n",
       "scaled_radius_of_gyration.1  842.0   72.447743    7.486190   59.0   67.00   \n",
       "skewness_about               840.0    6.364286    4.920649    0.0    2.00   \n",
       "skewness_about.1             845.0   12.602367    8.936081    0.0    5.00   \n",
       "skewness_about.2             845.0  188.919527    6.155809  176.0  184.00   \n",
       "hollows_ratio                846.0  195.632388    7.438797  181.0  190.25   \n",
       "\n",
       "                               50%    75%     max  \n",
       "compactness                   93.0  100.0   119.0  \n",
       "circularity                   44.0   49.0    59.0  \n",
       "distance_circularity          80.0   98.0   112.0  \n",
       "radius_ratio                 167.0  195.0   333.0  \n",
       "pr.axis_aspect_ratio          61.0   65.0   138.0  \n",
       "max.length_aspect_ratio        8.0   10.0    55.0  \n",
       "scatter_ratio                157.0  198.0   265.0  \n",
       "elongatedness                 43.0   46.0    61.0  \n",
       "pr.axis_rectangularity        20.0   23.0    29.0  \n",
       "max.length_rectangularity    146.0  159.0   188.0  \n",
       "scaled_variance              179.0  217.0   320.0  \n",
       "scaled_variance.1            363.5  587.0  1018.0  \n",
       "scaled_radius_of_gyration    173.5  198.0   268.0  \n",
       "scaled_radius_of_gyration.1   71.5   75.0   135.0  \n",
       "skewness_about                 6.0    9.0    22.0  \n",
       "skewness_about.1              11.0   19.0    41.0  \n",
       "skewness_about.2             188.0  193.0   206.0  \n",
       "hollows_ratio                197.0  201.0   211.0  "
      ]
     },
     "execution_count": 4,
     "metadata": {},
     "output_type": "execute_result"
    }
   ],
   "source": [
    "vehicle_df.describe().T"
   ]
  },
  {
   "cell_type": "markdown",
   "metadata": {},
   "source": [
    "### 2. Print/ Plot the dependent (categorical variable) - Class column"
   ]
  },
  {
   "cell_type": "markdown",
   "metadata": {},
   "source": [
    "Since the variable is categorical, you can use value_counts function"
   ]
  },
  {
   "cell_type": "code",
   "execution_count": 5,
   "metadata": {},
   "outputs": [
    {
     "data": {
      "text/plain": [
       "car    429\n",
       "bus    218\n",
       "van    199\n",
       "Name: class, dtype: int64"
      ]
     },
     "execution_count": 5,
     "metadata": {},
     "output_type": "execute_result"
    }
   ],
   "source": [
    "vehicle_df['class'].value_counts()"
   ]
  },
  {
   "cell_type": "code",
   "execution_count": 25,
   "metadata": {},
   "outputs": [
    {
     "data": {
      "text/html": [
       "<div>\n",
       "<style scoped>\n",
       "    .dataframe tbody tr th:only-of-type {\n",
       "        vertical-align: middle;\n",
       "    }\n",
       "\n",
       "    .dataframe tbody tr th {\n",
       "        vertical-align: top;\n",
       "    }\n",
       "\n",
       "    .dataframe thead th {\n",
       "        text-align: right;\n",
       "    }\n",
       "</style>\n",
       "<table border=\"1\" class=\"dataframe\">\n",
       "  <thead>\n",
       "    <tr style=\"text-align: right;\">\n",
       "      <th></th>\n",
       "      <th>compactness</th>\n",
       "      <th>circularity</th>\n",
       "      <th>distance_circularity</th>\n",
       "      <th>radius_ratio</th>\n",
       "      <th>pr.axis_aspect_ratio</th>\n",
       "      <th>max.length_aspect_ratio</th>\n",
       "      <th>scatter_ratio</th>\n",
       "      <th>elongatedness</th>\n",
       "      <th>pr.axis_rectangularity</th>\n",
       "      <th>max.length_rectangularity</th>\n",
       "      <th>scaled_variance</th>\n",
       "      <th>scaled_variance.1</th>\n",
       "      <th>scaled_radius_of_gyration</th>\n",
       "      <th>scaled_radius_of_gyration.1</th>\n",
       "      <th>skewness_about</th>\n",
       "      <th>skewness_about.1</th>\n",
       "      <th>skewness_about.2</th>\n",
       "      <th>hollows_ratio</th>\n",
       "      <th>class</th>\n",
       "    </tr>\n",
       "  </thead>\n",
       "  <tbody>\n",
       "    <tr>\n",
       "      <th>0</th>\n",
       "      <td>95</td>\n",
       "      <td>48.0</td>\n",
       "      <td>83.0</td>\n",
       "      <td>178.0</td>\n",
       "      <td>72.0</td>\n",
       "      <td>10</td>\n",
       "      <td>162.0</td>\n",
       "      <td>42.0</td>\n",
       "      <td>20.0</td>\n",
       "      <td>159</td>\n",
       "      <td>176.0</td>\n",
       "      <td>379.0</td>\n",
       "      <td>184.0</td>\n",
       "      <td>70.0</td>\n",
       "      <td>6.0</td>\n",
       "      <td>16.0</td>\n",
       "      <td>187.0</td>\n",
       "      <td>197</td>\n",
       "      <td>van</td>\n",
       "    </tr>\n",
       "    <tr>\n",
       "      <th>1</th>\n",
       "      <td>91</td>\n",
       "      <td>41.0</td>\n",
       "      <td>84.0</td>\n",
       "      <td>141.0</td>\n",
       "      <td>57.0</td>\n",
       "      <td>9</td>\n",
       "      <td>149.0</td>\n",
       "      <td>45.0</td>\n",
       "      <td>19.0</td>\n",
       "      <td>143</td>\n",
       "      <td>170.0</td>\n",
       "      <td>330.0</td>\n",
       "      <td>158.0</td>\n",
       "      <td>72.0</td>\n",
       "      <td>9.0</td>\n",
       "      <td>14.0</td>\n",
       "      <td>189.0</td>\n",
       "      <td>199</td>\n",
       "      <td>van</td>\n",
       "    </tr>\n",
       "    <tr>\n",
       "      <th>2</th>\n",
       "      <td>104</td>\n",
       "      <td>50.0</td>\n",
       "      <td>106.0</td>\n",
       "      <td>209.0</td>\n",
       "      <td>66.0</td>\n",
       "      <td>10</td>\n",
       "      <td>207.0</td>\n",
       "      <td>32.0</td>\n",
       "      <td>23.0</td>\n",
       "      <td>158</td>\n",
       "      <td>223.0</td>\n",
       "      <td>635.0</td>\n",
       "      <td>220.0</td>\n",
       "      <td>73.0</td>\n",
       "      <td>14.0</td>\n",
       "      <td>9.0</td>\n",
       "      <td>188.0</td>\n",
       "      <td>196</td>\n",
       "      <td>car</td>\n",
       "    </tr>\n",
       "    <tr>\n",
       "      <th>3</th>\n",
       "      <td>93</td>\n",
       "      <td>41.0</td>\n",
       "      <td>82.0</td>\n",
       "      <td>159.0</td>\n",
       "      <td>63.0</td>\n",
       "      <td>9</td>\n",
       "      <td>144.0</td>\n",
       "      <td>46.0</td>\n",
       "      <td>19.0</td>\n",
       "      <td>143</td>\n",
       "      <td>160.0</td>\n",
       "      <td>309.0</td>\n",
       "      <td>127.0</td>\n",
       "      <td>63.0</td>\n",
       "      <td>6.0</td>\n",
       "      <td>10.0</td>\n",
       "      <td>199.0</td>\n",
       "      <td>207</td>\n",
       "      <td>van</td>\n",
       "    </tr>\n",
       "    <tr>\n",
       "      <th>4</th>\n",
       "      <td>85</td>\n",
       "      <td>44.0</td>\n",
       "      <td>70.0</td>\n",
       "      <td>205.0</td>\n",
       "      <td>103.0</td>\n",
       "      <td>52</td>\n",
       "      <td>149.0</td>\n",
       "      <td>45.0</td>\n",
       "      <td>19.0</td>\n",
       "      <td>144</td>\n",
       "      <td>241.0</td>\n",
       "      <td>325.0</td>\n",
       "      <td>188.0</td>\n",
       "      <td>127.0</td>\n",
       "      <td>9.0</td>\n",
       "      <td>11.0</td>\n",
       "      <td>180.0</td>\n",
       "      <td>183</td>\n",
       "      <td>bus</td>\n",
       "    </tr>\n",
       "  </tbody>\n",
       "</table>\n",
       "</div>"
      ],
      "text/plain": [
       "   compactness  circularity  distance_circularity  radius_ratio  \\\n",
       "0           95         48.0                  83.0         178.0   \n",
       "1           91         41.0                  84.0         141.0   \n",
       "2          104         50.0                 106.0         209.0   \n",
       "3           93         41.0                  82.0         159.0   \n",
       "4           85         44.0                  70.0         205.0   \n",
       "\n",
       "   pr.axis_aspect_ratio  max.length_aspect_ratio  scatter_ratio  \\\n",
       "0                  72.0                       10          162.0   \n",
       "1                  57.0                        9          149.0   \n",
       "2                  66.0                       10          207.0   \n",
       "3                  63.0                        9          144.0   \n",
       "4                 103.0                       52          149.0   \n",
       "\n",
       "   elongatedness  pr.axis_rectangularity  max.length_rectangularity  \\\n",
       "0           42.0                    20.0                        159   \n",
       "1           45.0                    19.0                        143   \n",
       "2           32.0                    23.0                        158   \n",
       "3           46.0                    19.0                        143   \n",
       "4           45.0                    19.0                        144   \n",
       "\n",
       "   scaled_variance  scaled_variance.1  scaled_radius_of_gyration  \\\n",
       "0            176.0              379.0                      184.0   \n",
       "1            170.0              330.0                      158.0   \n",
       "2            223.0              635.0                      220.0   \n",
       "3            160.0              309.0                      127.0   \n",
       "4            241.0              325.0                      188.0   \n",
       "\n",
       "   scaled_radius_of_gyration.1  skewness_about  skewness_about.1  \\\n",
       "0                         70.0             6.0              16.0   \n",
       "1                         72.0             9.0              14.0   \n",
       "2                         73.0            14.0               9.0   \n",
       "3                         63.0             6.0              10.0   \n",
       "4                        127.0             9.0              11.0   \n",
       "\n",
       "   skewness_about.2  hollows_ratio class  \n",
       "0             187.0            197   van  \n",
       "1             189.0            199   van  \n",
       "2             188.0            196   car  \n",
       "3             199.0            207   van  \n",
       "4             180.0            183   bus  "
      ]
     },
     "execution_count": 25,
     "metadata": {},
     "output_type": "execute_result"
    }
   ],
   "source": [
    "vehicle_df.head()"
   ]
  },
  {
   "cell_type": "markdown",
   "metadata": {},
   "source": [
    "### Check for any missing values in the data "
   ]
  },
  {
   "cell_type": "code",
   "execution_count": 19,
   "metadata": {},
   "outputs": [
    {
     "data": {
      "text/plain": [
       "compactness                    0\n",
       "circularity                    5\n",
       "distance_circularity           4\n",
       "radius_ratio                   6\n",
       "pr.axis_aspect_ratio           2\n",
       "max.length_aspect_ratio        0\n",
       "scatter_ratio                  1\n",
       "elongatedness                  1\n",
       "pr.axis_rectangularity         3\n",
       "max.length_rectangularity      0\n",
       "scaled_variance                3\n",
       "scaled_variance.1              2\n",
       "scaled_radius_of_gyration      2\n",
       "scaled_radius_of_gyration.1    4\n",
       "skewness_about                 6\n",
       "skewness_about.1               1\n",
       "skewness_about.2               1\n",
       "hollows_ratio                  0\n",
       "class                          0\n",
       "dtype: int64"
      ]
     },
     "execution_count": 19,
     "metadata": {},
     "output_type": "execute_result"
    }
   ],
   "source": [
    "vehicle_df.isnull().sum()"
   ]
  },
  {
   "cell_type": "code",
   "execution_count": 13,
   "metadata": {},
   "outputs": [
    {
     "data": {
      "text/plain": [
       "5"
      ]
     },
     "execution_count": 13,
     "metadata": {},
     "output_type": "execute_result"
    }
   ],
   "source": [
    "vehicle_df['circularity'].isnull().sum()"
   ]
  },
  {
   "cell_type": "code",
   "execution_count": 15,
   "metadata": {},
   "outputs": [
    {
     "data": {
      "text/plain": [
       "0      False\n",
       "1      False\n",
       "2      False\n",
       "3      False\n",
       "4      False\n",
       "5       True\n",
       "6      False\n",
       "7      False\n",
       "8      False\n",
       "9      False\n",
       "10     False\n",
       "11     False\n",
       "12     False\n",
       "13     False\n",
       "14     False\n",
       "15     False\n",
       "16     False\n",
       "17     False\n",
       "18     False\n",
       "19     False\n",
       "20     False\n",
       "21     False\n",
       "22     False\n",
       "23     False\n",
       "24     False\n",
       "25     False\n",
       "26     False\n",
       "27     False\n",
       "28     False\n",
       "29     False\n",
       "       ...  \n",
       "816    False\n",
       "817    False\n",
       "818    False\n",
       "819    False\n",
       "820    False\n",
       "821    False\n",
       "822    False\n",
       "823    False\n",
       "824    False\n",
       "825    False\n",
       "826    False\n",
       "827    False\n",
       "828    False\n",
       "829    False\n",
       "830    False\n",
       "831    False\n",
       "832    False\n",
       "833    False\n",
       "834    False\n",
       "835    False\n",
       "836    False\n",
       "837    False\n",
       "838    False\n",
       "839    False\n",
       "840    False\n",
       "841    False\n",
       "842    False\n",
       "843    False\n",
       "844    False\n",
       "845    False\n",
       "Name: circularity, Length: 846, dtype: bool"
      ]
     },
     "execution_count": 15,
     "metadata": {},
     "output_type": "execute_result"
    }
   ],
   "source": [
    "vehicle_df['circularity'].isnull().fillna(0.0)"
   ]
  },
  {
   "cell_type": "code",
   "execution_count": 20,
   "metadata": {},
   "outputs": [],
   "source": [
    "vehicle_df=vehicle_df.fillna(0.0)"
   ]
  },
  {
   "cell_type": "code",
   "execution_count": 21,
   "metadata": {},
   "outputs": [
    {
     "data": {
      "text/plain": [
       "compactness                    0\n",
       "circularity                    0\n",
       "distance_circularity           0\n",
       "radius_ratio                   0\n",
       "pr.axis_aspect_ratio           0\n",
       "max.length_aspect_ratio        0\n",
       "scatter_ratio                  0\n",
       "elongatedness                  0\n",
       "pr.axis_rectangularity         0\n",
       "max.length_rectangularity      0\n",
       "scaled_variance                0\n",
       "scaled_variance.1              0\n",
       "scaled_radius_of_gyration      0\n",
       "scaled_radius_of_gyration.1    0\n",
       "skewness_about                 0\n",
       "skewness_about.1               0\n",
       "skewness_about.2               0\n",
       "hollows_ratio                  0\n",
       "class                          0\n",
       "dtype: int64"
      ]
     },
     "execution_count": 21,
     "metadata": {},
     "output_type": "execute_result"
    }
   ],
   "source": [
    "vehicle_df.isnull().sum()"
   ]
  },
  {
   "cell_type": "code",
   "execution_count": 22,
   "metadata": {},
   "outputs": [
    {
     "data": {
      "text/plain": [
       "car    429\n",
       "bus    218\n",
       "van    199\n",
       "Name: class, dtype: int64"
      ]
     },
     "execution_count": 22,
     "metadata": {},
     "output_type": "execute_result"
    }
   ],
   "source": [
    "vehicle_df['class'].value_counts()"
   ]
  },
  {
   "cell_type": "code",
   "execution_count": 36,
   "metadata": {},
   "outputs": [
    {
     "data": {
      "text/plain": [
       "Index(['compactness', 'circularity', 'distance_circularity', 'radius_ratio',\n",
       "       'pr.axis_aspect_ratio', 'max.length_aspect_ratio', 'scatter_ratio',\n",
       "       'elongatedness', 'pr.axis_rectangularity', 'max.length_rectangularity',\n",
       "       'scaled_variance', 'scaled_variance.1', 'scaled_radius_of_gyration',\n",
       "       'scaled_radius_of_gyration.1', 'skewness_about', 'skewness_about.1',\n",
       "       'skewness_about.2', 'hollows_ratio', 'class'],\n",
       "      dtype='object')"
      ]
     },
     "execution_count": 36,
     "metadata": {},
     "output_type": "execute_result"
    }
   ],
   "source": [
    "vehicle_df.columns"
   ]
  },
  {
   "cell_type": "markdown",
   "metadata": {},
   "source": [
    "### 3. Standardize the data "
   ]
  },
  {
   "cell_type": "code",
   "execution_count": 28,
   "metadata": {},
   "outputs": [],
   "source": [
    "# import labelencoder\n",
    "from sklearn.preprocessing import LabelEncoder\n",
    "# instantiate labelencoder object\n",
    "le = LabelEncoder()"
   ]
  },
  {
   "cell_type": "code",
   "execution_count": 31,
   "metadata": {},
   "outputs": [],
   "source": [
    "vehicle_df['class']=le.fit_transform(vehicle_df['class'])"
   ]
  },
  {
   "cell_type": "code",
   "execution_count": 72,
   "metadata": {},
   "outputs": [],
   "source": [
    "from scipy.stats import zscore\n",
    "vehicle_df_std=vehicle_df.apply(zscore)\n",
    "vehicle_df_std=pd.DataFrame(vehicle_df_std)\n",
    "vehicle_df_std_1=pd.DataFrame(vehicle_df_std)"
   ]
  },
  {
   "cell_type": "code",
   "execution_count": 39,
   "metadata": {},
   "outputs": [
    {
     "data": {
      "text/html": [
       "<div>\n",
       "<style scoped>\n",
       "    .dataframe tbody tr th:only-of-type {\n",
       "        vertical-align: middle;\n",
       "    }\n",
       "\n",
       "    .dataframe tbody tr th {\n",
       "        vertical-align: top;\n",
       "    }\n",
       "\n",
       "    .dataframe thead th {\n",
       "        text-align: right;\n",
       "    }\n",
       "</style>\n",
       "<table border=\"1\" class=\"dataframe\">\n",
       "  <thead>\n",
       "    <tr style=\"text-align: right;\">\n",
       "      <th></th>\n",
       "      <th>compactness</th>\n",
       "      <th>circularity</th>\n",
       "      <th>distance_circularity</th>\n",
       "      <th>radius_ratio</th>\n",
       "      <th>pr.axis_aspect_ratio</th>\n",
       "      <th>max.length_aspect_ratio</th>\n",
       "      <th>scatter_ratio</th>\n",
       "      <th>elongatedness</th>\n",
       "      <th>pr.axis_rectangularity</th>\n",
       "      <th>max.length_rectangularity</th>\n",
       "      <th>scaled_variance</th>\n",
       "      <th>scaled_variance.1</th>\n",
       "      <th>scaled_radius_of_gyration</th>\n",
       "      <th>scaled_radius_of_gyration.1</th>\n",
       "      <th>skewness_about</th>\n",
       "      <th>skewness_about.1</th>\n",
       "      <th>skewness_about.2</th>\n",
       "      <th>hollows_ratio</th>\n",
       "      <th>class</th>\n",
       "    </tr>\n",
       "  </thead>\n",
       "  <tbody>\n",
       "    <tr>\n",
       "      <th>0</th>\n",
       "      <td>0.160580</td>\n",
       "      <td>0.488951</td>\n",
       "      <td>0.076470</td>\n",
       "      <td>0.284286</td>\n",
       "      <td>1.241960</td>\n",
       "      <td>0.311542</td>\n",
       "      <td>-0.198998</td>\n",
       "      <td>0.140516</td>\n",
       "      <td>-0.178035</td>\n",
       "      <td>0.758332</td>\n",
       "      <td>-0.359415</td>\n",
       "      <td>-0.334694</td>\n",
       "      <td>0.288657</td>\n",
       "      <td>-0.234766</td>\n",
       "      <td>-0.064746</td>\n",
       "      <td>0.381885</td>\n",
       "      <td>-0.189712</td>\n",
       "      <td>0.183957</td>\n",
       "      <td>1.457086</td>\n",
       "    </tr>\n",
       "    <tr>\n",
       "      <th>1</th>\n",
       "      <td>-0.325470</td>\n",
       "      <td>-0.507116</td>\n",
       "      <td>0.136316</td>\n",
       "      <td>-0.735976</td>\n",
       "      <td>-0.537879</td>\n",
       "      <td>0.094079</td>\n",
       "      <td>-0.584991</td>\n",
       "      <td>0.518700</td>\n",
       "      <td>-0.527497</td>\n",
       "      <td>-0.344578</td>\n",
       "      <td>-0.539691</td>\n",
       "      <td>-0.610532</td>\n",
       "      <td>-0.484799</td>\n",
       "      <td>-0.011732</td>\n",
       "      <td>0.543864</td>\n",
       "      <td>0.158072</td>\n",
       "      <td>0.033976</td>\n",
       "      <td>0.452977</td>\n",
       "      <td>1.457086</td>\n",
       "    </tr>\n",
       "    <tr>\n",
       "      <th>2</th>\n",
       "      <td>1.254193</td>\n",
       "      <td>0.773541</td>\n",
       "      <td>1.452926</td>\n",
       "      <td>1.139100</td>\n",
       "      <td>0.530024</td>\n",
       "      <td>0.311542</td>\n",
       "      <td>1.137132</td>\n",
       "      <td>-1.120101</td>\n",
       "      <td>0.870349</td>\n",
       "      <td>0.689401</td>\n",
       "      <td>1.052745</td>\n",
       "      <td>1.106421</td>\n",
       "      <td>1.359595</td>\n",
       "      <td>0.099786</td>\n",
       "      <td>1.558214</td>\n",
       "      <td>-0.401462</td>\n",
       "      <td>-0.077868</td>\n",
       "      <td>0.049447</td>\n",
       "      <td>0.032005</td>\n",
       "    </tr>\n",
       "    <tr>\n",
       "      <th>3</th>\n",
       "      <td>-0.082445</td>\n",
       "      <td>-0.507116</td>\n",
       "      <td>0.016624</td>\n",
       "      <td>-0.239632</td>\n",
       "      <td>0.174057</td>\n",
       "      <td>0.094079</td>\n",
       "      <td>-0.733450</td>\n",
       "      <td>0.644762</td>\n",
       "      <td>-0.527497</td>\n",
       "      <td>-0.344578</td>\n",
       "      <td>-0.840150</td>\n",
       "      <td>-0.728748</td>\n",
       "      <td>-1.406996</td>\n",
       "      <td>-1.015388</td>\n",
       "      <td>-0.064746</td>\n",
       "      <td>-0.289555</td>\n",
       "      <td>1.152416</td>\n",
       "      <td>1.529056</td>\n",
       "      <td>1.457086</td>\n",
       "    </tr>\n",
       "    <tr>\n",
       "      <th>4</th>\n",
       "      <td>-1.054545</td>\n",
       "      <td>-0.080230</td>\n",
       "      <td>-0.701527</td>\n",
       "      <td>1.028802</td>\n",
       "      <td>4.920292</td>\n",
       "      <td>9.444962</td>\n",
       "      <td>-0.584991</td>\n",
       "      <td>0.518700</td>\n",
       "      <td>-0.527497</td>\n",
       "      <td>-0.275646</td>\n",
       "      <td>1.593572</td>\n",
       "      <td>-0.638679</td>\n",
       "      <td>0.407650</td>\n",
       "      <td>6.121723</td>\n",
       "      <td>0.543864</td>\n",
       "      <td>-0.177649</td>\n",
       "      <td>-0.972619</td>\n",
       "      <td>-1.699181</td>\n",
       "      <td>-1.393075</td>\n",
       "    </tr>\n",
       "    <tr>\n",
       "      <th>5</th>\n",
       "      <td>1.618730</td>\n",
       "      <td>-6.341220</td>\n",
       "      <td>1.452926</td>\n",
       "      <td>0.118838</td>\n",
       "      <td>-1.368470</td>\n",
       "      <td>-0.558308</td>\n",
       "      <td>2.562337</td>\n",
       "      <td>-1.876471</td>\n",
       "      <td>2.617656</td>\n",
       "      <td>1.447652</td>\n",
       "      <td>2.765364</td>\n",
       "      <td>2.919073</td>\n",
       "      <td>2.668520</td>\n",
       "      <td>1.437994</td>\n",
       "      <td>-0.267616</td>\n",
       "      <td>-0.401462</td>\n",
       "      <td>-0.860775</td>\n",
       "      <td>-1.699181</td>\n",
       "      <td>-1.393075</td>\n",
       "    </tr>\n",
       "    <tr>\n",
       "      <th>6</th>\n",
       "      <td>0.403605</td>\n",
       "      <td>-0.222525</td>\n",
       "      <td>-0.521989</td>\n",
       "      <td>0.146413</td>\n",
       "      <td>0.411368</td>\n",
       "      <td>-0.558308</td>\n",
       "      <td>-0.466224</td>\n",
       "      <td>0.140516</td>\n",
       "      <td>-0.527497</td>\n",
       "      <td>-0.344578</td>\n",
       "      <td>-0.359415</td>\n",
       "      <td>-0.436022</td>\n",
       "      <td>-0.068323</td>\n",
       "      <td>-0.680836</td>\n",
       "      <td>1.355344</td>\n",
       "      <td>-1.296716</td>\n",
       "      <td>1.264260</td>\n",
       "      <td>1.125526</td>\n",
       "      <td>-1.393075</td>\n",
       "    </tr>\n",
       "    <tr>\n",
       "      <th>7</th>\n",
       "      <td>-0.446982</td>\n",
       "      <td>-0.222525</td>\n",
       "      <td>-0.940911</td>\n",
       "      <td>-0.294781</td>\n",
       "      <td>0.411368</td>\n",
       "      <td>0.094079</td>\n",
       "      <td>-0.941293</td>\n",
       "      <td>0.896885</td>\n",
       "      <td>-0.876958</td>\n",
       "      <td>-0.137782</td>\n",
       "      <td>-0.780058</td>\n",
       "      <td>-0.886370</td>\n",
       "      <td>-0.306309</td>\n",
       "      <td>-0.569319</td>\n",
       "      <td>-0.673356</td>\n",
       "      <td>-1.072903</td>\n",
       "      <td>0.481352</td>\n",
       "      <td>0.856507</td>\n",
       "      <td>1.457086</td>\n",
       "    </tr>\n",
       "    <tr>\n",
       "      <th>8</th>\n",
       "      <td>-0.933032</td>\n",
       "      <td>-1.503182</td>\n",
       "      <td>-1.180294</td>\n",
       "      <td>-0.763551</td>\n",
       "      <td>-0.063255</td>\n",
       "      <td>-0.340845</td>\n",
       "      <td>-1.386669</td>\n",
       "      <td>1.653255</td>\n",
       "      <td>-1.226420</td>\n",
       "      <td>-1.447489</td>\n",
       "      <td>-1.411023</td>\n",
       "      <td>-1.212873</td>\n",
       "      <td>-1.853220</td>\n",
       "      <td>-0.903871</td>\n",
       "      <td>-0.876225</td>\n",
       "      <td>0.158072</td>\n",
       "      <td>1.264260</td>\n",
       "      <td>1.663566</td>\n",
       "      <td>1.457086</td>\n",
       "    </tr>\n",
       "    <tr>\n",
       "      <th>9</th>\n",
       "      <td>-0.082445</td>\n",
       "      <td>-0.080230</td>\n",
       "      <td>0.974158</td>\n",
       "      <td>-4.624002</td>\n",
       "      <td>0.055401</td>\n",
       "      <td>0.529004</td>\n",
       "      <td>0.424529</td>\n",
       "      <td>-0.615854</td>\n",
       "      <td>0.520888</td>\n",
       "      <td>-0.137782</td>\n",
       "      <td>0.421780</td>\n",
       "      <td>0.374605</td>\n",
       "      <td>-0.663288</td>\n",
       "      <td>-0.903871</td>\n",
       "      <td>-0.470486</td>\n",
       "      <td>0.158072</td>\n",
       "      <td>0.705040</td>\n",
       "      <td>1.125526</td>\n",
       "      <td>0.032005</td>\n",
       "    </tr>\n",
       "  </tbody>\n",
       "</table>\n",
       "</div>"
      ],
      "text/plain": [
       "   compactness  circularity  distance_circularity  radius_ratio  \\\n",
       "0     0.160580     0.488951              0.076470      0.284286   \n",
       "1    -0.325470    -0.507116              0.136316     -0.735976   \n",
       "2     1.254193     0.773541              1.452926      1.139100   \n",
       "3    -0.082445    -0.507116              0.016624     -0.239632   \n",
       "4    -1.054545    -0.080230             -0.701527      1.028802   \n",
       "5     1.618730    -6.341220              1.452926      0.118838   \n",
       "6     0.403605    -0.222525             -0.521989      0.146413   \n",
       "7    -0.446982    -0.222525             -0.940911     -0.294781   \n",
       "8    -0.933032    -1.503182             -1.180294     -0.763551   \n",
       "9    -0.082445    -0.080230              0.974158     -4.624002   \n",
       "\n",
       "   pr.axis_aspect_ratio  max.length_aspect_ratio  scatter_ratio  \\\n",
       "0              1.241960                 0.311542      -0.198998   \n",
       "1             -0.537879                 0.094079      -0.584991   \n",
       "2              0.530024                 0.311542       1.137132   \n",
       "3              0.174057                 0.094079      -0.733450   \n",
       "4              4.920292                 9.444962      -0.584991   \n",
       "5             -1.368470                -0.558308       2.562337   \n",
       "6              0.411368                -0.558308      -0.466224   \n",
       "7              0.411368                 0.094079      -0.941293   \n",
       "8             -0.063255                -0.340845      -1.386669   \n",
       "9              0.055401                 0.529004       0.424529   \n",
       "\n",
       "   elongatedness  pr.axis_rectangularity  max.length_rectangularity  \\\n",
       "0       0.140516               -0.178035                   0.758332   \n",
       "1       0.518700               -0.527497                  -0.344578   \n",
       "2      -1.120101                0.870349                   0.689401   \n",
       "3       0.644762               -0.527497                  -0.344578   \n",
       "4       0.518700               -0.527497                  -0.275646   \n",
       "5      -1.876471                2.617656                   1.447652   \n",
       "6       0.140516               -0.527497                  -0.344578   \n",
       "7       0.896885               -0.876958                  -0.137782   \n",
       "8       1.653255               -1.226420                  -1.447489   \n",
       "9      -0.615854                0.520888                  -0.137782   \n",
       "\n",
       "   scaled_variance  scaled_variance.1  scaled_radius_of_gyration  \\\n",
       "0        -0.359415          -0.334694                   0.288657   \n",
       "1        -0.539691          -0.610532                  -0.484799   \n",
       "2         1.052745           1.106421                   1.359595   \n",
       "3        -0.840150          -0.728748                  -1.406996   \n",
       "4         1.593572          -0.638679                   0.407650   \n",
       "5         2.765364           2.919073                   2.668520   \n",
       "6        -0.359415          -0.436022                  -0.068323   \n",
       "7        -0.780058          -0.886370                  -0.306309   \n",
       "8        -1.411023          -1.212873                  -1.853220   \n",
       "9         0.421780           0.374605                  -0.663288   \n",
       "\n",
       "   scaled_radius_of_gyration.1  skewness_about  skewness_about.1  \\\n",
       "0                    -0.234766       -0.064746          0.381885   \n",
       "1                    -0.011732        0.543864          0.158072   \n",
       "2                     0.099786        1.558214         -0.401462   \n",
       "3                    -1.015388       -0.064746         -0.289555   \n",
       "4                     6.121723        0.543864         -0.177649   \n",
       "5                     1.437994       -0.267616         -0.401462   \n",
       "6                    -0.680836        1.355344         -1.296716   \n",
       "7                    -0.569319       -0.673356         -1.072903   \n",
       "8                    -0.903871       -0.876225          0.158072   \n",
       "9                    -0.903871       -0.470486          0.158072   \n",
       "\n",
       "   skewness_about.2  hollows_ratio     class  \n",
       "0         -0.189712       0.183957  1.457086  \n",
       "1          0.033976       0.452977  1.457086  \n",
       "2         -0.077868       0.049447  0.032005  \n",
       "3          1.152416       1.529056  1.457086  \n",
       "4         -0.972619      -1.699181 -1.393075  \n",
       "5         -0.860775      -1.699181 -1.393075  \n",
       "6          1.264260       1.125526 -1.393075  \n",
       "7          0.481352       0.856507  1.457086  \n",
       "8          1.264260       1.663566  1.457086  \n",
       "9          0.705040       1.125526  0.032005  "
      ]
     },
     "execution_count": 39,
     "metadata": {},
     "output_type": "execute_result"
    }
   ],
   "source": [
    "vehicle_df_std.head(10)"
   ]
  },
  {
   "cell_type": "markdown",
   "metadata": {},
   "source": [
    "Since the dimensions of the data are not really known to us, it would be wise to standardize the data using z scores before we go for any clustering methods.\n",
    "You can use zscore function to do this"
   ]
  },
  {
   "cell_type": "code",
   "execution_count": 42,
   "metadata": {},
   "outputs": [],
   "source": [
    "from sklearn.cluster import KMeans"
   ]
  },
  {
   "cell_type": "markdown",
   "metadata": {},
   "source": [
    "### K - Means Clustering"
   ]
  },
  {
   "cell_type": "code",
   "execution_count": 59,
   "metadata": {},
   "outputs": [],
   "source": [
    "km = KMeans(n_clusters=3)\n",
    "km.fit(vehicle_df_std)\n",
    "vehicle_df_std['clusteredLables']=km.predict(vehicle_df_std)"
   ]
  },
  {
   "cell_type": "code",
   "execution_count": 60,
   "metadata": {},
   "outputs": [
    {
     "data": {
      "text/plain": [
       "array([[<matplotlib.axes._subplots.AxesSubplot object at 0x0000026C68C636D8>,\n",
       "        <matplotlib.axes._subplots.AxesSubplot object at 0x0000026C68E58CC0>,\n",
       "        <matplotlib.axes._subplots.AxesSubplot object at 0x0000026C702170F0>,\n",
       "        <matplotlib.axes._subplots.AxesSubplot object at 0x0000026C702454E0>,\n",
       "        <matplotlib.axes._subplots.AxesSubplot object at 0x0000026C719388D0>],\n",
       "       [<matplotlib.axes._subplots.AxesSubplot object at 0x0000026C71938908>,\n",
       "        <matplotlib.axes._subplots.AxesSubplot object at 0x0000026C63E5B0F0>,\n",
       "        <matplotlib.axes._subplots.AxesSubplot object at 0x0000026C63E634E0>,\n",
       "        <matplotlib.axes._subplots.AxesSubplot object at 0x0000026C692EB8D0>,\n",
       "        <matplotlib.axes._subplots.AxesSubplot object at 0x0000026C692EACC0>],\n",
       "       [<matplotlib.axes._subplots.AxesSubplot object at 0x0000026C692240F0>,\n",
       "        <matplotlib.axes._subplots.AxesSubplot object at 0x0000026C67A054E0>,\n",
       "        <matplotlib.axes._subplots.AxesSubplot object at 0x0000026C6FE018D0>,\n",
       "        <matplotlib.axes._subplots.AxesSubplot object at 0x0000026C6FDDCCC0>,\n",
       "        <matplotlib.axes._subplots.AxesSubplot object at 0x0000026C68FAA0F0>],\n",
       "       [<matplotlib.axes._subplots.AxesSubplot object at 0x0000026C695C94E0>,\n",
       "        <matplotlib.axes._subplots.AxesSubplot object at 0x0000026C68EDB8D0>,\n",
       "        <matplotlib.axes._subplots.AxesSubplot object at 0x0000026C68ED5CC0>,\n",
       "        <matplotlib.axes._subplots.AxesSubplot object at 0x0000026C690210B8>,\n",
       "        <matplotlib.axes._subplots.AxesSubplot object at 0x0000026C639A14A8>],\n",
       "       [<matplotlib.axes._subplots.AxesSubplot object at 0x0000026C639A8898>,\n",
       "        <matplotlib.axes._subplots.AxesSubplot object at 0x0000026C69063C88>,\n",
       "        <matplotlib.axes._subplots.AxesSubplot object at 0x0000026C6393A0B8>,\n",
       "        <matplotlib.axes._subplots.AxesSubplot object at 0x0000026C701C34A8>,\n",
       "        <matplotlib.axes._subplots.AxesSubplot object at 0x0000026C70197898>],\n",
       "       [<matplotlib.axes._subplots.AxesSubplot object at 0x0000026C6A2C9C88>,\n",
       "        <matplotlib.axes._subplots.AxesSubplot object at 0x0000026C636F50B8>,\n",
       "        <matplotlib.axes._subplots.AxesSubplot object at 0x0000026C636F34A8>,\n",
       "        <matplotlib.axes._subplots.AxesSubplot object at 0x0000026C77535898>,\n",
       "        <matplotlib.axes._subplots.AxesSubplot object at 0x0000026C63DCFCC0>]],\n",
       "      dtype=object)"
      ]
     },
     "execution_count": 60,
     "metadata": {},
     "output_type": "execute_result"
    },
    {
     "data": {
      "text/plain": [
       "<Figure size 21600x14400 with 0 Axes>"
      ]
     },
     "metadata": {},
     "output_type": "display_data"
    },
    {
     "data": {
      "image/png": "[encoded data removed]",
      "text/plain": [
       "<Figure size 1080x720 with 30 Axes>"
      ]
     },
     "metadata": {
      "needs_background": "light"
     },
     "output_type": "display_data"
    }
   ],
   "source": [
    "plt.figure(figsize=(300,200))\n",
    "#plt.boxplot(vehicle_df_std)\n",
    "vehicle_df_std.boxplot(by = 'class',  figsize=(15, 10))\n",
    "#sns.boxplot(orient=\"h\", palette=\"Set2\",data=vehicle_df_std)"
   ]
  },
  {
   "cell_type": "code",
   "execution_count": 61,
   "metadata": {},
   "outputs": [
    {
     "data": {
      "text/plain": [
       "<matplotlib.axes._subplots.AxesSubplot at 0x26c6387ab00>"
      ]
     },
     "execution_count": 61,
     "metadata": {},
     "output_type": "execute_result"
    },
    {
     "data": {
      "image/png": "[encoded data removed]",
      "text/plain": [
       "<Figure size 432x288 with 1 Axes>"
      ]
     },
     "metadata": {
      "needs_background": "light"
     },
     "output_type": "display_data"
    }
   ],
   "source": [
    "vehicle_df_std[\"clusteredLables\"].hist()"
   ]
  },
  {
   "cell_type": "code",
   "execution_count": 62,
   "metadata": {},
   "outputs": [
    {
     "data": {
      "text/plain": [
       " 0.032005    429\n",
       "-1.393075    218\n",
       " 1.457086    199\n",
       "Name: class, dtype: int64"
      ]
     },
     "execution_count": 62,
     "metadata": {},
     "output_type": "execute_result"
    }
   ],
   "source": [
    "vehicle_df_std[\"class\"].value_counts()"
   ]
  },
  {
   "cell_type": "markdown",
   "metadata": {},
   "source": [
    "### 4. Assign a dummy array called distortion"
   ]
  },
  {
   "cell_type": "code",
   "execution_count": 63,
   "metadata": {},
   "outputs": [],
   "source": [
    "sse_df=pd.DataFrame(columns=['K','SSE'])\n"
   ]
  },
  {
   "cell_type": "code",
   "execution_count": 58,
   "metadata": {},
   "outputs": [
    {
     "data": {
      "text/plain": [
       "<matplotlib.axes._subplots.AxesSubplot at 0x26c68a9d5c0>"
      ]
     },
     "execution_count": 58,
     "metadata": {},
     "output_type": "execute_result"
    },
    {
     "data": {
      "image/png": "[encoded data removed]",
      "text/plain": [
       "<Figure size 432x288 with 1 Axes>"
      ]
     },
     "metadata": {
      "needs_background": "light"
     },
     "output_type": "display_data"
    }
   ],
   "source": []
  },
  {
   "cell_type": "markdown",
   "metadata": {},
   "source": [
    "You can later use this array to plot the elbow plot"
   ]
  },
  {
   "cell_type": "code",
   "execution_count": null,
   "metadata": {},
   "outputs": [],
   "source": []
  },
  {
   "cell_type": "markdown",
   "metadata": {},
   "source": [
    "### 5. Calculating distortion - C distance"
   ]
  },
  {
   "cell_type": "code",
   "execution_count": 66,
   "metadata": {},
   "outputs": [],
   "source": [
    "for i in range(2,11):\n",
    "    km= KMeans(n_clusters=i)\n",
    "    km.fit(vehicle_df_std)\n",
    "    vehicle_df_std['k_'+str(i)]=km.predict(vehicle_df_std)\n",
    "    sse_df.loc[sse_df.shape[0]]=[i,km.inertia_]"
   ]
  },
  {
   "cell_type": "markdown",
   "metadata": {},
   "source": [
    "Iterating values of k from 1 to 10 fit K means model\n",
    "Using c distance - Get the measure for Sum of squares error."
   ]
  },
  {
   "cell_type": "code",
   "execution_count": null,
   "metadata": {},
   "outputs": [],
   "source": []
  },
  {
   "cell_type": "code",
   "execution_count": null,
   "metadata": {},
   "outputs": [],
   "source": []
  },
  {
   "cell_type": "markdown",
   "metadata": {},
   "source": [
    "### 6. Plotting Elbow/ Scree Plot"
   ]
  },
  {
   "cell_type": "code",
   "execution_count": 67,
   "metadata": {},
   "outputs": [
    {
     "name": "stderr",
     "output_type": "stream",
     "text": [
      "C:\\Users\\kotav\\Anaconda3\\lib\\site-packages\\scipy\\stats\\stats.py:1713: FutureWarning: Using a non-tuple sequence for multidimensional indexing is deprecated; use `arr[tuple(seq)]` instead of `arr[seq]`. In the future this will be interpreted as an array index, `arr[np.array(seq)]`, which will result either in an error or a different result.\n",
      "  return np.add.reduce(sorted[indexer] * weights, axis=axis) / sumval\n"
     ]
    },
    {
     "data": {
      "text/plain": [
       "<matplotlib.axes._subplots.AxesSubplot at 0x26c638c0400>"
      ]
     },
     "execution_count": 67,
     "metadata": {},
     "output_type": "execute_result"
    },
    {
     "data": {
      "image/png": "[encoded data removed]",
      "text/plain": [
       "<Figure size 432x288 with 1 Axes>"
      ]
     },
     "metadata": {
      "needs_background": "light"
     },
     "output_type": "display_data"
    }
   ],
   "source": [
    "sns.lineplot(x=\"K\",y=\"SSE\", data=sse_df)"
   ]
  },
  {
   "cell_type": "markdown",
   "metadata": {},
   "source": [
    "Use Matplotlib to plot the scree plot - Note: Scree plot plots distortion vs the no of clusters"
   ]
  },
  {
   "cell_type": "code",
   "execution_count": null,
   "metadata": {},
   "outputs": [],
   "source": []
  },
  {
   "cell_type": "markdown",
   "metadata": {},
   "source": [
    "### Find out the optimal value of K"
   ]
  },
  {
   "cell_type": "code",
   "execution_count": 73,
   "metadata": {},
   "outputs": [],
   "source": [
    "km = KMeans(n_clusters=4)\n",
    "km.fit(vehicle_df_std_1)\n",
    "vehicle_df_std_1['clusteredLables']=km.predict(vehicle_df_std_1)"
   ]
  },
  {
   "cell_type": "code",
   "execution_count": 74,
   "metadata": {},
   "outputs": [
    {
     "data": {
      "text/plain": [
       "array([[<matplotlib.axes._subplots.AxesSubplot object at 0x0000026C668002E8>,\n",
       "        <matplotlib.axes._subplots.AxesSubplot object at 0x0000026C667C97B8>,\n",
       "        <matplotlib.axes._subplots.AxesSubplot object at 0x0000026C667F8AC8>,\n",
       "        <matplotlib.axes._subplots.AxesSubplot object at 0x0000026C66AA99E8>],\n",
       "       [<matplotlib.axes._subplots.AxesSubplot object at 0x0000026C661E2DD8>,\n",
       "        <matplotlib.axes._subplots.AxesSubplot object at 0x0000026C661E2E10>,\n",
       "        <matplotlib.axes._subplots.AxesSubplot object at 0x0000026C6622A5F8>,\n",
       "        <matplotlib.axes._subplots.AxesSubplot object at 0x0000026C662509E8>],\n",
       "       [<matplotlib.axes._subplots.AxesSubplot object at 0x0000026C6627BDD8>,\n",
       "        <matplotlib.axes._subplots.AxesSubplot object at 0x0000026C662AD208>,\n",
       "        <matplotlib.axes._subplots.AxesSubplot object at 0x0000026C662D35F8>,\n",
       "        <matplotlib.axes._subplots.AxesSubplot object at 0x0000026C662FB9E8>],\n",
       "       [<matplotlib.axes._subplots.AxesSubplot object at 0x0000026C66324DD8>,\n",
       "        <matplotlib.axes._subplots.AxesSubplot object at 0x0000026C66356208>,\n",
       "        <matplotlib.axes._subplots.AxesSubplot object at 0x0000026C6637E5F8>,\n",
       "        <matplotlib.axes._subplots.AxesSubplot object at 0x0000026C663A79B0>],\n",
       "       [<matplotlib.axes._subplots.AxesSubplot object at 0x0000026C663D0DA0>,\n",
       "        <matplotlib.axes._subplots.AxesSubplot object at 0x0000026C663FF1D0>,\n",
       "        <matplotlib.axes._subplots.AxesSubplot object at 0x0000026C664275C0>,\n",
       "        <matplotlib.axes._subplots.AxesSubplot object at 0x0000026C664519B0>]],\n",
       "      dtype=object)"
      ]
     },
     "execution_count": 74,
     "metadata": {},
     "output_type": "execute_result"
    },
    {
     "data": {
      "image/png": "[encoded data removed]",
      "text/plain": [
       "<Figure size 1080x720 with 20 Axes>"
      ]
     },
     "metadata": {
      "needs_background": "light"
     },
     "output_type": "display_data"
    }
   ],
   "source": [
    "vehicle_df_std_1.boxplot(by = 'class',  figsize=(15, 10))"
   ]
  },
  {
   "cell_type": "markdown",
   "metadata": {},
   "source": [
    "### Using optimal value of K - Cluster the data. \n",
    "Note: Since the data has more than 2 dimension we cannot visualize the data. As an alternative, we can observe the centroids and note how they are distributed across different dimensions"
   ]
  },
  {
   "cell_type": "code",
   "execution_count": null,
   "metadata": {},
   "outputs": [],
   "source": [
    "#Optimal K is 4"
   ]
  },
  {
   "cell_type": "markdown",
   "metadata": {},
   "source": [
    "You can use kmeans.cluster_centers_ function to pull the centroid information from the instance"
   ]
  },
  {
   "cell_type": "code",
   "execution_count": 70,
   "metadata": {},
   "outputs": [
    {
     "data": {
      "text/html": [
       "<div>\n",
       "<style scoped>\n",
       "    .dataframe tbody tr th:only-of-type {\n",
       "        vertical-align: middle;\n",
       "    }\n",
       "\n",
       "    .dataframe tbody tr th {\n",
       "        vertical-align: top;\n",
       "    }\n",
       "\n",
       "    .dataframe thead th {\n",
       "        text-align: right;\n",
       "    }\n",
       "</style>\n",
       "<table border=\"1\" class=\"dataframe\">\n",
       "  <thead>\n",
       "    <tr style=\"text-align: right;\">\n",
       "      <th></th>\n",
       "      <th>compactness</th>\n",
       "      <th>circularity</th>\n",
       "      <th>distance_circularity</th>\n",
       "      <th>radius_ratio</th>\n",
       "      <th>pr.axis_aspect_ratio</th>\n",
       "      <th>max.length_aspect_ratio</th>\n",
       "      <th>scatter_ratio</th>\n",
       "      <th>elongatedness</th>\n",
       "      <th>pr.axis_rectangularity</th>\n",
       "      <th>max.length_rectangularity</th>\n",
       "      <th>...</th>\n",
       "      <th>clusteredLables</th>\n",
       "      <th>k_2</th>\n",
       "      <th>k_3</th>\n",
       "      <th>k_4</th>\n",
       "      <th>k_5</th>\n",
       "      <th>k_6</th>\n",
       "      <th>k_7</th>\n",
       "      <th>k_8</th>\n",
       "      <th>k_9</th>\n",
       "      <th>k_10</th>\n",
       "    </tr>\n",
       "  </thead>\n",
       "  <tbody>\n",
       "    <tr>\n",
       "      <th>0</th>\n",
       "      <td>0.160580</td>\n",
       "      <td>0.488951</td>\n",
       "      <td>0.076470</td>\n",
       "      <td>0.284286</td>\n",
       "      <td>1.241960</td>\n",
       "      <td>0.311542</td>\n",
       "      <td>-0.198998</td>\n",
       "      <td>0.140516</td>\n",
       "      <td>-0.178035</td>\n",
       "      <td>0.758332</td>\n",
       "      <td>...</td>\n",
       "      <td>2</td>\n",
       "      <td>0</td>\n",
       "      <td>0</td>\n",
       "      <td>1</td>\n",
       "      <td>2</td>\n",
       "      <td>0</td>\n",
       "      <td>6</td>\n",
       "      <td>6</td>\n",
       "      <td>0</td>\n",
       "      <td>5</td>\n",
       "    </tr>\n",
       "    <tr>\n",
       "      <th>1</th>\n",
       "      <td>-0.325470</td>\n",
       "      <td>-0.507116</td>\n",
       "      <td>0.136316</td>\n",
       "      <td>-0.735976</td>\n",
       "      <td>-0.537879</td>\n",
       "      <td>0.094079</td>\n",
       "      <td>-0.584991</td>\n",
       "      <td>0.518700</td>\n",
       "      <td>-0.527497</td>\n",
       "      <td>-0.344578</td>\n",
       "      <td>...</td>\n",
       "      <td>2</td>\n",
       "      <td>0</td>\n",
       "      <td>0</td>\n",
       "      <td>1</td>\n",
       "      <td>2</td>\n",
       "      <td>0</td>\n",
       "      <td>6</td>\n",
       "      <td>6</td>\n",
       "      <td>0</td>\n",
       "      <td>5</td>\n",
       "    </tr>\n",
       "    <tr>\n",
       "      <th>2</th>\n",
       "      <td>1.254193</td>\n",
       "      <td>0.773541</td>\n",
       "      <td>1.452926</td>\n",
       "      <td>1.139100</td>\n",
       "      <td>0.530024</td>\n",
       "      <td>0.311542</td>\n",
       "      <td>1.137132</td>\n",
       "      <td>-1.120101</td>\n",
       "      <td>0.870349</td>\n",
       "      <td>0.689401</td>\n",
       "      <td>...</td>\n",
       "      <td>3</td>\n",
       "      <td>0</td>\n",
       "      <td>2</td>\n",
       "      <td>2</td>\n",
       "      <td>0</td>\n",
       "      <td>5</td>\n",
       "      <td>0</td>\n",
       "      <td>0</td>\n",
       "      <td>2</td>\n",
       "      <td>7</td>\n",
       "    </tr>\n",
       "    <tr>\n",
       "      <th>3</th>\n",
       "      <td>-0.082445</td>\n",
       "      <td>-0.507116</td>\n",
       "      <td>0.016624</td>\n",
       "      <td>-0.239632</td>\n",
       "      <td>0.174057</td>\n",
       "      <td>0.094079</td>\n",
       "      <td>-0.733450</td>\n",
       "      <td>0.644762</td>\n",
       "      <td>-0.527497</td>\n",
       "      <td>-0.344578</td>\n",
       "      <td>...</td>\n",
       "      <td>1</td>\n",
       "      <td>1</td>\n",
       "      <td>1</td>\n",
       "      <td>3</td>\n",
       "      <td>3</td>\n",
       "      <td>1</td>\n",
       "      <td>1</td>\n",
       "      <td>2</td>\n",
       "      <td>1</td>\n",
       "      <td>6</td>\n",
       "    </tr>\n",
       "    <tr>\n",
       "      <th>4</th>\n",
       "      <td>-1.054545</td>\n",
       "      <td>-0.080230</td>\n",
       "      <td>-0.701527</td>\n",
       "      <td>1.028802</td>\n",
       "      <td>4.920292</td>\n",
       "      <td>9.444962</td>\n",
       "      <td>-0.584991</td>\n",
       "      <td>0.518700</td>\n",
       "      <td>-0.527497</td>\n",
       "      <td>-0.275646</td>\n",
       "      <td>...</td>\n",
       "      <td>2</td>\n",
       "      <td>0</td>\n",
       "      <td>0</td>\n",
       "      <td>1</td>\n",
       "      <td>2</td>\n",
       "      <td>0</td>\n",
       "      <td>3</td>\n",
       "      <td>7</td>\n",
       "      <td>7</td>\n",
       "      <td>8</td>\n",
       "    </tr>\n",
       "  </tbody>\n",
       "</table>\n",
       "<p>5 rows × 29 columns</p>\n",
       "</div>"
      ],
      "text/plain": [
       "   compactness  circularity  distance_circularity  radius_ratio  \\\n",
       "0     0.160580     0.488951              0.076470      0.284286   \n",
       "1    -0.325470    -0.507116              0.136316     -0.735976   \n",
       "2     1.254193     0.773541              1.452926      1.139100   \n",
       "3    -0.082445    -0.507116              0.016624     -0.239632   \n",
       "4    -1.054545    -0.080230             -0.701527      1.028802   \n",
       "\n",
       "   pr.axis_aspect_ratio  max.length_aspect_ratio  scatter_ratio  \\\n",
       "0              1.241960                 0.311542      -0.198998   \n",
       "1             -0.537879                 0.094079      -0.584991   \n",
       "2              0.530024                 0.311542       1.137132   \n",
       "3              0.174057                 0.094079      -0.733450   \n",
       "4              4.920292                 9.444962      -0.584991   \n",
       "\n",
       "   elongatedness  pr.axis_rectangularity  max.length_rectangularity  ...   \\\n",
       "0       0.140516               -0.178035                   0.758332  ...    \n",
       "1       0.518700               -0.527497                  -0.344578  ...    \n",
       "2      -1.120101                0.870349                   0.689401  ...    \n",
       "3       0.644762               -0.527497                  -0.344578  ...    \n",
       "4       0.518700               -0.527497                  -0.275646  ...    \n",
       "\n",
       "   clusteredLables  k_2  k_3  k_4  k_5  k_6  k_7  k_8  k_9  k_10  \n",
       "0                2    0    0    1    2    0    6    6    0     5  \n",
       "1                2    0    0    1    2    0    6    6    0     5  \n",
       "2                3    0    2    2    0    5    0    0    2     7  \n",
       "3                1    1    1    3    3    1    1    2    1     6  \n",
       "4                2    0    0    1    2    0    3    7    7     8  \n",
       "\n",
       "[5 rows x 29 columns]"
      ]
     },
     "execution_count": 70,
     "metadata": {},
     "output_type": "execute_result"
    }
   ],
   "source": [
    "vehicle_df_std_1.head()"
   ]
  },
  {
   "cell_type": "code",
   "execution_count": 79,
   "metadata": {},
   "outputs": [
    {
     "data": {
      "text/plain": [
       "array([2, 2, 1, 2, 3, 1, 2, 2, 2, 2, 2, 2, 2, 2, 2, 1, 0, 2, 1, 1, 0, 0,\n",
       "       2, 2, 1, 2, 0, 1, 1, 0, 2, 2, 2, 1, 2, 2, 0, 3, 1, 0, 1, 0, 2, 2,\n",
       "       1, 2, 2, 0, 2, 2, 0, 2, 1, 2, 1, 2, 2, 2, 1, 0, 1, 0, 0, 0, 2, 0,\n",
       "       2, 1, 2, 1, 2, 1, 2, 0, 2, 1, 2, 2, 1, 0, 0, 1, 2, 0, 2, 1, 2, 0,\n",
       "       2, 0, 1, 2, 1, 2, 0, 1, 0, 0, 1, 0, 3, 2, 2, 0, 1, 2, 1, 0, 0, 1,\n",
       "       2, 2, 0, 0, 2, 2, 1, 1, 0, 2, 0, 2, 2, 0, 2, 2, 0, 0, 2, 1, 1, 2,\n",
       "       2, 0, 1, 3, 2, 2, 0, 2, 2, 0, 1, 0, 2, 1, 2, 2, 2, 2, 1, 2, 2, 1,\n",
       "       2, 1, 2, 0, 2, 0, 0, 1, 2, 0, 1, 1, 2, 1, 0, 0, 1, 1, 2, 1, 2, 2,\n",
       "       2, 2, 2, 0, 1, 0, 2, 0, 1, 2, 2, 2, 1, 2, 1, 2, 2, 1, 2, 0, 1, 0,\n",
       "       0, 0, 2, 2, 1, 1, 2, 2, 2, 0, 0, 1, 2, 2, 2, 1, 0, 2, 0, 1, 0, 2,\n",
       "       1, 2, 1, 0, 0, 2, 1, 2, 1, 0, 0, 0, 0, 1, 2, 2, 2, 0, 1, 0, 2, 2,\n",
       "       0, 1, 0, 0, 2, 2, 1, 0, 0, 1, 2, 2, 2, 1, 2, 2, 1, 1, 0, 2, 2, 2,\n",
       "       1, 0, 0, 2, 2, 0, 0, 2, 2, 2, 1, 2, 0, 0, 1, 2, 2, 0, 0, 1, 0, 2,\n",
       "       2, 0, 1, 0, 2, 3, 2, 2, 1, 2, 1, 0, 2, 2, 1, 2, 2, 2, 0, 2, 1, 1,\n",
       "       1, 1, 1, 2, 2, 1, 0, 0, 0, 2, 0, 1, 1, 1, 0, 1, 2, 0, 1, 2, 2, 2,\n",
       "       2, 1, 1, 0, 1, 1, 0, 1, 2, 2, 2, 0, 0, 1, 1, 1, 1, 2, 2, 2, 1, 0,\n",
       "       2, 0, 2, 2, 2, 1, 2, 1, 1, 1, 2, 2, 0, 1, 2, 0, 0, 2, 2, 2, 2, 2,\n",
       "       0, 1, 1, 0, 0, 1, 0, 1, 0, 1, 2, 2, 2, 2, 3, 1, 0, 2, 2, 2, 2, 2,\n",
       "       1, 2, 2, 2, 1, 2, 1, 2, 1, 2, 0, 0, 2, 2, 2, 0, 0, 2, 2, 1, 2, 2,\n",
       "       0, 0, 0, 1, 2, 0, 2, 2, 1, 2, 1, 2, 1, 1, 0, 0, 1, 2, 0, 0, 2, 1,\n",
       "       1, 2, 0, 1, 1, 0, 1, 1, 1, 2, 2, 2, 2, 2, 1, 0, 0, 2, 1, 2, 2, 1,\n",
       "       2, 0, 1, 0, 0, 1, 1, 2, 2, 1, 1, 1, 0, 1, 1, 2, 1, 0, 1, 1, 2, 2,\n",
       "       2, 0, 1, 2, 0, 1, 1, 2, 0, 1, 1, 2, 1, 2, 0, 1, 1, 1, 0, 0, 1, 1,\n",
       "       1, 2, 2, 1, 0, 2, 1, 2, 0, 0, 2, 1, 0, 2, 2, 0, 2, 3, 1, 2, 1, 1,\n",
       "       2, 0, 2, 1, 1, 0, 0, 2, 1, 2, 1, 1, 2, 2, 2, 2, 2, 2, 0, 2, 2, 1,\n",
       "       0, 0, 2, 0, 1, 2, 1, 0, 0, 1, 1, 2, 1, 2, 2, 2, 1, 2, 0, 2, 1, 2,\n",
       "       2, 2, 1, 1, 1, 1, 2, 0, 0, 2, 1, 1, 1, 2, 1, 0, 2, 1, 0, 0, 0, 2,\n",
       "       0, 2, 2, 2, 2, 2, 2, 2, 1, 2, 2, 1, 2, 2, 2, 0, 1, 2, 0, 2, 0, 2,\n",
       "       2, 0, 0, 1, 1, 2, 2, 1, 0, 1, 2, 2, 1, 2, 0, 1, 0, 1, 0, 0, 2, 0,\n",
       "       2, 1, 1, 2, 1, 2, 2, 2, 2, 0, 1, 2, 1, 0, 2, 2, 2, 0, 2, 2, 2, 1,\n",
       "       2, 1, 0, 2, 2, 2, 2, 1, 2, 0, 1, 2, 1, 2, 2, 1, 0, 1, 0, 2, 2, 2,\n",
       "       2, 1, 2, 0, 2, 1, 0, 1, 2, 2, 1, 2, 2, 0, 2, 2, 0, 2, 1, 1, 2, 2,\n",
       "       1, 1, 3, 2, 2, 2, 1, 1, 1, 1, 2, 1, 2, 2, 1, 1, 2, 1, 2, 1, 2, 2,\n",
       "       1, 2, 0, 1, 1, 1, 2, 1, 0, 0, 1, 1, 1, 2, 1, 2, 2, 1, 2, 0, 2, 0,\n",
       "       2, 1, 2, 0, 2, 2, 2, 0, 1, 0, 0, 2, 1, 1, 0, 1, 1, 0, 2, 2, 1, 2,\n",
       "       0, 1, 1, 0, 2, 2, 1, 1, 1, 0, 1, 2, 2, 1, 0, 0, 1, 0, 1, 2, 0, 2,\n",
       "       1, 1, 2, 0, 2, 1, 1, 2, 2, 0, 2, 2, 1, 0, 2, 1, 0, 0, 1, 0, 2, 0,\n",
       "       0, 0, 2, 1, 1, 2, 0, 1, 2, 1, 1, 0, 2, 1, 0, 2, 2, 2, 1, 2, 0, 1,\n",
       "       2, 2, 2, 2, 2, 2, 2, 1, 2, 0])"
      ]
     },
     "execution_count": 79,
     "metadata": {},
     "output_type": "execute_result"
    }
   ],
   "source": []
  },
  {
   "cell_type": "markdown",
   "metadata": {},
   "source": [
    "### 7. Store the centroids in a dataframe with column names from the original dataset given "
   ]
  },
  {
   "cell_type": "code",
   "execution_count": 81,
   "metadata": {},
   "outputs": [],
   "source": [
    "centers = km.cluster_centers_"
   ]
  },
  {
   "cell_type": "code",
   "execution_count": 84,
   "metadata": {},
   "outputs": [
    {
     "data": {
      "image/png": "[encoded data removed]",
      "text/plain": [
       "<Figure size 432x288 with 1 Axes>"
      ]
     },
     "metadata": {
      "needs_background": "light"
     },
     "output_type": "display_data"
    }
   ],
   "source": [
    "plt.scatter(centers[:,0], centers[:,1],c='black', s=200, alpha=0.5);"
   ]
  },
  {
   "cell_type": "markdown",
   "metadata": {},
   "source": [
    "Hint: Use pd.Dataframe function "
   ]
  },
  {
   "cell_type": "code",
   "execution_count": null,
   "metadata": {},
   "outputs": [],
   "source": []
  },
  {
   "cell_type": "code",
   "execution_count": null,
   "metadata": {},
   "outputs": [],
   "source": []
  },
  {
   "cell_type": "markdown",
   "metadata": {},
   "source": [
    "### Use kmeans.labels_ function to print out the labels of the classes"
   ]
  },
  {
   "cell_type": "code",
   "execution_count": 85,
   "metadata": {},
   "outputs": [
    {
     "data": {
      "text/plain": [
       "array([2, 2, 1, 2, 3, 1, 2, 2, 2, 2, 2, 2, 2, 2, 2, 1, 0, 2, 1, 1, 0, 0,\n",
       "       2, 2, 1, 2, 0, 1, 1, 0, 2, 2, 2, 1, 2, 2, 0, 3, 1, 0, 1, 0, 2, 2,\n",
       "       1, 2, 2, 0, 2, 2, 0, 2, 1, 2, 1, 2, 2, 2, 1, 0, 1, 0, 0, 0, 2, 0,\n",
       "       2, 1, 2, 1, 2, 1, 2, 0, 2, 1, 2, 2, 1, 0, 0, 1, 2, 0, 2, 1, 2, 0,\n",
       "       2, 0, 1, 2, 1, 2, 0, 1, 0, 0, 1, 0, 3, 2, 2, 0, 1, 2, 1, 0, 0, 1,\n",
       "       2, 2, 0, 0, 2, 2, 1, 1, 0, 2, 0, 2, 2, 0, 2, 2, 0, 0, 2, 1, 1, 2,\n",
       "       2, 0, 1, 3, 2, 2, 0, 2, 2, 0, 1, 0, 2, 1, 2, 2, 2, 2, 1, 2, 2, 1,\n",
       "       2, 1, 2, 0, 2, 0, 0, 1, 2, 0, 1, 1, 2, 1, 0, 0, 1, 1, 2, 1, 2, 2,\n",
       "       2, 2, 2, 0, 1, 0, 2, 0, 1, 2, 2, 2, 1, 2, 1, 2, 2, 1, 2, 0, 1, 0,\n",
       "       0, 0, 2, 2, 1, 1, 2, 2, 2, 0, 0, 1, 2, 2, 2, 1, 0, 2, 0, 1, 0, 2,\n",
       "       1, 2, 1, 0, 0, 2, 1, 2, 1, 0, 0, 0, 0, 1, 2, 2, 2, 0, 1, 0, 2, 2,\n",
       "       0, 1, 0, 0, 2, 2, 1, 0, 0, 1, 2, 2, 2, 1, 2, 2, 1, 1, 0, 2, 2, 2,\n",
       "       1, 0, 0, 2, 2, 0, 0, 2, 2, 2, 1, 2, 0, 0, 1, 2, 2, 0, 0, 1, 0, 2,\n",
       "       2, 0, 1, 0, 2, 3, 2, 2, 1, 2, 1, 0, 2, 2, 1, 2, 2, 2, 0, 2, 1, 1,\n",
       "       1, 1, 1, 2, 2, 1, 0, 0, 0, 2, 0, 1, 1, 1, 0, 1, 2, 0, 1, 2, 2, 2,\n",
       "       2, 1, 1, 0, 1, 1, 0, 1, 2, 2, 2, 0, 0, 1, 1, 1, 1, 2, 2, 2, 1, 0,\n",
       "       2, 0, 2, 2, 2, 1, 2, 1, 1, 1, 2, 2, 0, 1, 2, 0, 0, 2, 2, 2, 2, 2,\n",
       "       0, 1, 1, 0, 0, 1, 0, 1, 0, 1, 2, 2, 2, 2, 3, 1, 0, 2, 2, 2, 2, 2,\n",
       "       1, 2, 2, 2, 1, 2, 1, 2, 1, 2, 0, 0, 2, 2, 2, 0, 0, 2, 2, 1, 2, 2,\n",
       "       0, 0, 0, 1, 2, 0, 2, 2, 1, 2, 1, 2, 1, 1, 0, 0, 1, 2, 0, 0, 2, 1,\n",
       "       1, 2, 0, 1, 1, 0, 1, 1, 1, 2, 2, 2, 2, 2, 1, 0, 0, 2, 1, 2, 2, 1,\n",
       "       2, 0, 1, 0, 0, 1, 1, 2, 2, 1, 1, 1, 0, 1, 1, 2, 1, 0, 1, 1, 2, 2,\n",
       "       2, 0, 1, 2, 0, 1, 1, 2, 0, 1, 1, 2, 1, 2, 0, 1, 1, 1, 0, 0, 1, 1,\n",
       "       1, 2, 2, 1, 0, 2, 1, 2, 0, 0, 2, 1, 0, 2, 2, 0, 2, 3, 1, 2, 1, 1,\n",
       "       2, 0, 2, 1, 1, 0, 0, 2, 1, 2, 1, 1, 2, 2, 2, 2, 2, 2, 0, 2, 2, 1,\n",
       "       0, 0, 2, 0, 1, 2, 1, 0, 0, 1, 1, 2, 1, 2, 2, 2, 1, 2, 0, 2, 1, 2,\n",
       "       2, 2, 1, 1, 1, 1, 2, 0, 0, 2, 1, 1, 1, 2, 1, 0, 2, 1, 0, 0, 0, 2,\n",
       "       0, 2, 2, 2, 2, 2, 2, 2, 1, 2, 2, 1, 2, 2, 2, 0, 1, 2, 0, 2, 0, 2,\n",
       "       2, 0, 0, 1, 1, 2, 2, 1, 0, 1, 2, 2, 1, 2, 0, 1, 0, 1, 0, 0, 2, 0,\n",
       "       2, 1, 1, 2, 1, 2, 2, 2, 2, 0, 1, 2, 1, 0, 2, 2, 2, 0, 2, 2, 2, 1,\n",
       "       2, 1, 0, 2, 2, 2, 2, 1, 2, 0, 1, 2, 1, 2, 2, 1, 0, 1, 0, 2, 2, 2,\n",
       "       2, 1, 2, 0, 2, 1, 0, 1, 2, 2, 1, 2, 2, 0, 2, 2, 0, 2, 1, 1, 2, 2,\n",
       "       1, 1, 3, 2, 2, 2, 1, 1, 1, 1, 2, 1, 2, 2, 1, 1, 2, 1, 2, 1, 2, 2,\n",
       "       1, 2, 0, 1, 1, 1, 2, 1, 0, 0, 1, 1, 1, 2, 1, 2, 2, 1, 2, 0, 2, 0,\n",
       "       2, 1, 2, 0, 2, 2, 2, 0, 1, 0, 0, 2, 1, 1, 0, 1, 1, 0, 2, 2, 1, 2,\n",
       "       0, 1, 1, 0, 2, 2, 1, 1, 1, 0, 1, 2, 2, 1, 0, 0, 1, 0, 1, 2, 0, 2,\n",
       "       1, 1, 2, 0, 2, 1, 1, 2, 2, 0, 2, 2, 1, 0, 2, 1, 0, 0, 1, 0, 2, 0,\n",
       "       0, 0, 2, 1, 1, 2, 0, 1, 2, 1, 1, 0, 2, 1, 0, 2, 2, 2, 1, 2, 0, 1,\n",
       "       2, 2, 2, 2, 2, 2, 2, 1, 2, 0])"
      ]
     },
     "execution_count": 85,
     "metadata": {},
     "output_type": "execute_result"
    }
   ],
   "source": [
    "km.labels_"
   ]
  },
  {
   "cell_type": "code",
   "execution_count": null,
   "metadata": {},
   "outputs": [],
   "source": []
  },
  {
   "cell_type": "markdown",
   "metadata": {},
   "source": [
    "## Hierarchical Clustering "
   ]
  },
  {
   "cell_type": "markdown",
   "metadata": {},
   "source": [
    "### 8. Variable creation"
   ]
  },
  {
   "cell_type": "markdown",
   "metadata": {},
   "source": [
    "For Hierarchical clustering, we will create datasets using multivariate normal distribution to visually observe how the clusters are formed at the end"
   ]
  },
  {
   "cell_type": "code",
   "execution_count": null,
   "metadata": {},
   "outputs": [],
   "source": []
  },
  {
   "cell_type": "raw",
   "metadata": {},
   "source": []
  },
  {
   "cell_type": "code",
   "execution_count": 103,
   "metadata": {},
   "outputs": [],
   "source": [
    "a = np.random.multivariate_normal([10, 0], [[3, 1], [1, 4]], size=[100,])\n",
    "b = np.random.multivariate_normal([0, 20], [[3, 1], [1, 4]], size=[50,])\n",
    "c = np.random.multivariate_normal([10, 20], [[3, 1], [1, 4]], size=[100,])\n"
   ]
  },
  {
   "cell_type": "markdown",
   "metadata": {},
   "source": [
    "### 9. Combine all three arrays a,b,c into a dataframe"
   ]
  },
  {
   "cell_type": "code",
   "execution_count": 109,
   "metadata": {},
   "outputs": [
    {
     "data": {
      "text/plain": [
       "(100, 2)"
      ]
     },
     "execution_count": 109,
     "metadata": {},
     "output_type": "execute_result"
    }
   ],
   "source": [
    "a.shape"
   ]
  },
  {
   "cell_type": "code",
   "execution_count": 112,
   "metadata": {},
   "outputs": [],
   "source": [
    "d = np.concatenate((a,b,c),axis=0)"
   ]
  },
  {
   "cell_type": "code",
   "execution_count": 114,
   "metadata": {},
   "outputs": [],
   "source": [
    "df=pd.DataFrame(d)"
   ]
  },
  {
   "cell_type": "code",
   "execution_count": 115,
   "metadata": {},
   "outputs": [
    {
     "data": {
      "text/html": [
       "<div>\n",
       "<style scoped>\n",
       "    .dataframe tbody tr th:only-of-type {\n",
       "        vertical-align: middle;\n",
       "    }\n",
       "\n",
       "    .dataframe tbody tr th {\n",
       "        vertical-align: top;\n",
       "    }\n",
       "\n",
       "    .dataframe thead th {\n",
       "        text-align: right;\n",
       "    }\n",
       "</style>\n",
       "<table border=\"1\" class=\"dataframe\">\n",
       "  <thead>\n",
       "    <tr style=\"text-align: right;\">\n",
       "      <th></th>\n",
       "      <th>0</th>\n",
       "      <th>1</th>\n",
       "    </tr>\n",
       "  </thead>\n",
       "  <tbody>\n",
       "    <tr>\n",
       "      <th>0</th>\n",
       "      <td>12.610050</td>\n",
       "      <td>-1.221534</td>\n",
       "    </tr>\n",
       "    <tr>\n",
       "      <th>1</th>\n",
       "      <td>10.242536</td>\n",
       "      <td>-0.780089</td>\n",
       "    </tr>\n",
       "    <tr>\n",
       "      <th>2</th>\n",
       "      <td>10.872448</td>\n",
       "      <td>1.129029</td>\n",
       "    </tr>\n",
       "    <tr>\n",
       "      <th>3</th>\n",
       "      <td>8.339812</td>\n",
       "      <td>-0.195513</td>\n",
       "    </tr>\n",
       "    <tr>\n",
       "      <th>4</th>\n",
       "      <td>10.327745</td>\n",
       "      <td>-3.231084</td>\n",
       "    </tr>\n",
       "  </tbody>\n",
       "</table>\n",
       "</div>"
      ],
      "text/plain": [
       "           0         1\n",
       "0  12.610050 -1.221534\n",
       "1  10.242536 -0.780089\n",
       "2  10.872448  1.129029\n",
       "3   8.339812 -0.195513\n",
       "4  10.327745 -3.231084"
      ]
     },
     "execution_count": 115,
     "metadata": {},
     "output_type": "execute_result"
    }
   ],
   "source": [
    "df.head()"
   ]
  },
  {
   "cell_type": "code",
   "execution_count": 148,
   "metadata": {},
   "outputs": [],
   "source": [
    "from scipy.stats import zscore\n",
    "df=df.apply(zscore)"
   ]
  },
  {
   "cell_type": "markdown",
   "metadata": {},
   "source": [
    "### 10. Use scatter matrix to print all the 3 distributions"
   ]
  },
  {
   "cell_type": "code",
   "execution_count": 149,
   "metadata": {},
   "outputs": [
    {
     "name": "stderr",
     "output_type": "stream",
     "text": [
      "C:\\Users\\kotav\\Anaconda3\\lib\\site-packages\\seaborn\\axisgrid.py:2065: UserWarning: The `size` parameter has been renamed to `height`; pleaes update your code.\n",
      "  warnings.warn(msg, UserWarning)\n",
      "C:\\Users\\kotav\\Anaconda3\\lib\\site-packages\\scipy\\stats\\stats.py:1713: FutureWarning: Using a non-tuple sequence for multidimensional indexing is deprecated; use `arr[tuple(seq)]` instead of `arr[seq]`. In the future this will be interpreted as an array index, `arr[np.array(seq)]`, which will result either in an error or a different result.\n",
      "  return np.add.reduce(sorted[indexer] * weights, axis=axis) / sumval\n"
     ]
    },
    {
     "data": {
      "text/plain": [
       "<seaborn.axisgrid.PairGrid at 0x26c6d6e3400>"
      ]
     },
     "execution_count": 149,
     "metadata": {},
     "output_type": "execute_result"
    },
    {
     "data": {
      "image/png": "[encoded data removed]",
      "text/plain": [
       "<Figure size 756x1512 with 12 Axes>"
      ]
     },
     "metadata": {
      "needs_background": "light"
     },
     "output_type": "display_data"
    }
   ],
   "source": [
    "sns.pairplot(df, size=7,aspect=0.5 , diag_kind='kde')"
   ]
  },
  {
   "cell_type": "code",
   "execution_count": 150,
   "metadata": {},
   "outputs": [
    {
     "data": {
      "text/plain": [
       "array([1, 1, 1, 1, 1, 1, 1, 1, 1, 1, 1, 1, 1, 1, 1, 1, 1, 1, 1, 1, 1, 1,\n",
       "       1, 1, 1, 1, 1, 1, 1, 1, 1, 1, 1, 1, 1, 1, 1, 1, 1, 1, 1, 1, 1, 1,\n",
       "       1, 1, 1, 1, 1, 1, 1, 1, 1, 1, 1, 1, 1, 1, 1, 1, 1, 1, 1, 1, 1, 1,\n",
       "       1, 1, 1, 1, 1, 1, 1, 1, 1, 1, 1, 1, 1, 1, 1, 1, 1, 1, 1, 1, 1, 1,\n",
       "       1, 1, 1, 1, 1, 1, 1, 1, 1, 1, 1, 1, 2, 2, 2, 2, 2, 2, 2, 2, 2, 2,\n",
       "       2, 2, 2, 2, 2, 2, 2, 2, 2, 2, 2, 2, 2, 2, 2, 2, 2, 2, 2, 2, 2, 2,\n",
       "       2, 2, 2, 2, 2, 2, 0, 2, 2, 2, 2, 2, 2, 2, 0, 2, 2, 2, 0, 0, 0, 0,\n",
       "       0, 0, 0, 0, 0, 0, 0, 0, 0, 0, 0, 0, 0, 0, 0, 0, 0, 0, 0, 0, 0, 0,\n",
       "       0, 0, 0, 0, 0, 0, 0, 0, 0, 0, 0, 0, 0, 0, 0, 0, 0, 0, 0, 0, 0, 0,\n",
       "       0, 0, 0, 0, 0, 0, 0, 0, 0, 0, 0, 0, 0, 0, 0, 0, 0, 0, 0, 0, 0, 0,\n",
       "       0, 0, 0, 0, 0, 0, 0, 0, 0, 0, 0, 0, 0, 0, 0, 0, 0, 0, 0, 0, 0, 0,\n",
       "       0, 0, 0, 0, 0, 0, 0, 0], dtype=int64)"
      ]
     },
     "execution_count": 150,
     "metadata": {},
     "output_type": "execute_result"
    }
   ],
   "source": [
    "from sklearn.cluster import AgglomerativeClustering \n",
    "from scipy.stats import zscore\n",
    "df=df.apply(zscore)\n",
    "model = AgglomerativeClustering(n_clusters=3, affinity='euclidean',  linkage='average')\n",
    "model.fit(df)\n",
    "model.labels_"
   ]
  },
  {
   "cell_type": "code",
   "execution_count": 151,
   "metadata": {},
   "outputs": [],
   "source": [
    "df['labels'] = model.labels_"
   ]
  },
  {
   "cell_type": "code",
   "execution_count": 152,
   "metadata": {},
   "outputs": [
    {
     "data": {
      "text/html": [
       "<div>\n",
       "<style scoped>\n",
       "    .dataframe tbody tr th:only-of-type {\n",
       "        vertical-align: middle;\n",
       "    }\n",
       "\n",
       "    .dataframe tbody tr th {\n",
       "        vertical-align: top;\n",
       "    }\n",
       "\n",
       "    .dataframe thead th {\n",
       "        text-align: right;\n",
       "    }\n",
       "</style>\n",
       "<table border=\"1\" class=\"dataframe\">\n",
       "  <thead>\n",
       "    <tr style=\"text-align: right;\">\n",
       "      <th></th>\n",
       "      <th>0</th>\n",
       "      <th>1</th>\n",
       "    </tr>\n",
       "    <tr>\n",
       "      <th>labels</th>\n",
       "      <th></th>\n",
       "      <th></th>\n",
       "    </tr>\n",
       "  </thead>\n",
       "  <tbody>\n",
       "    <tr>\n",
       "      <th>0</th>\n",
       "      <td>102</td>\n",
       "      <td>102</td>\n",
       "    </tr>\n",
       "    <tr>\n",
       "      <th>1</th>\n",
       "      <td>100</td>\n",
       "      <td>100</td>\n",
       "    </tr>\n",
       "    <tr>\n",
       "      <th>2</th>\n",
       "      <td>48</td>\n",
       "      <td>48</td>\n",
       "    </tr>\n",
       "  </tbody>\n",
       "</table>\n",
       "</div>"
      ],
      "text/plain": [
       "          0    1\n",
       "labels          \n",
       "0       102  102\n",
       "1       100  100\n",
       "2        48   48"
      ]
     },
     "execution_count": 152,
     "metadata": {},
     "output_type": "execute_result"
    }
   ],
   "source": [
    "df.groupby([\"labels\"]).count()"
   ]
  },
  {
   "cell_type": "code",
   "execution_count": 153,
   "metadata": {},
   "outputs": [
    {
     "data": {
      "text/plain": [
       "array([[<matplotlib.axes._subplots.AxesSubplot object at 0x0000026C6F135898>,\n",
       "        <matplotlib.axes._subplots.AxesSubplot object at 0x0000026C6F22C630>,\n",
       "        <matplotlib.axes._subplots.AxesSubplot object at 0x0000026C6F294A20>,\n",
       "        <matplotlib.axes._subplots.AxesSubplot object at 0x0000026C6F2C50F0>],\n",
       "       [<matplotlib.axes._subplots.AxesSubplot object at 0x0000026C6F2EC780>,\n",
       "        <matplotlib.axes._subplots.AxesSubplot object at 0x0000026C6F2EC7B8>,\n",
       "        <matplotlib.axes._subplots.AxesSubplot object at 0x0000026C6F3834E0>,\n",
       "        <matplotlib.axes._subplots.AxesSubplot object at 0x0000026C6F3ACB70>],\n",
       "       [<matplotlib.axes._subplots.AxesSubplot object at 0x0000026C6F45E240>,\n",
       "        <matplotlib.axes._subplots.AxesSubplot object at 0x0000026C6F4838D0>,\n",
       "        <matplotlib.axes._subplots.AxesSubplot object at 0x0000026C6F4AEF60>,\n",
       "        <matplotlib.axes._subplots.AxesSubplot object at 0x0000026C6F51E630>]],\n",
       "      dtype=object)"
      ]
     },
     "execution_count": 153,
     "metadata": {},
     "output_type": "execute_result"
    },
    {
     "data": {
      "image/png": "[encoded data removed]",
      "text/plain": [
       "<Figure size 1080x720 with 12 Axes>"
      ]
     },
     "metadata": {
      "needs_background": "light"
     },
     "output_type": "display_data"
    }
   ],
   "source": [
    "df.boxplot(by = 'labels',  layout=(3,4), figsize=(15, 10))"
   ]
  },
  {
   "cell_type": "markdown",
   "metadata": {},
   "source": [
    "### 11. Find out the linkage matrix"
   ]
  },
  {
   "cell_type": "code",
   "execution_count": 174,
   "metadata": {},
   "outputs": [
    {
     "data": {
      "text/plain": [
       "0.9393848269914785"
      ]
     },
     "execution_count": 174,
     "metadata": {},
     "output_type": "execute_result"
    }
   ],
   "source": [
    "from scipy.cluster.hierarchy import cophenet, dendrogram, linkage\n",
    "from scipy.spatial.distance import pdist \n",
    "Z = linkage(df, 'ward',metric='euclidean')\n",
    "c, coph_dists = cophenet(Z , pdist(df))\n",
    "c"
   ]
  },
  {
   "cell_type": "markdown",
   "metadata": {},
   "source": [
    "Use ward as linkage metric and distance as Eucledian"
   ]
  },
  {
   "cell_type": "code",
   "execution_count": 175,
   "metadata": {},
   "outputs": [],
   "source": [
    "distDf = pd.DataFrame(list(coph_dists), columns=['clusterDist'])\n",
    "distDf['ecludianDist'] = pdist(df)"
   ]
  },
  {
   "cell_type": "code",
   "execution_count": 176,
   "metadata": {},
   "outputs": [
    {
     "data": {
      "text/html": [
       "<div>\n",
       "<style scoped>\n",
       "    .dataframe tbody tr th:only-of-type {\n",
       "        vertical-align: middle;\n",
       "    }\n",
       "\n",
       "    .dataframe tbody tr th {\n",
       "        vertical-align: top;\n",
       "    }\n",
       "\n",
       "    .dataframe thead th {\n",
       "        text-align: right;\n",
       "    }\n",
       "</style>\n",
       "<table border=\"1\" class=\"dataframe\">\n",
       "  <thead>\n",
       "    <tr style=\"text-align: right;\">\n",
       "      <th></th>\n",
       "      <th>clusterDist</th>\n",
       "      <th>ecludianDist</th>\n",
       "    </tr>\n",
       "  </thead>\n",
       "  <tbody>\n",
       "    <tr>\n",
       "      <th>0</th>\n",
       "      <td>2.531637</td>\n",
       "      <td>0.553987</td>\n",
       "    </tr>\n",
       "    <tr>\n",
       "      <th>1</th>\n",
       "      <td>2.531637</td>\n",
       "      <td>0.466183</td>\n",
       "    </tr>\n",
       "    <tr>\n",
       "      <th>2</th>\n",
       "      <td>4.926134</td>\n",
       "      <td>1.001223</td>\n",
       "    </tr>\n",
       "    <tr>\n",
       "      <th>3</th>\n",
       "      <td>2.531637</td>\n",
       "      <td>0.567645</td>\n",
       "    </tr>\n",
       "    <tr>\n",
       "      <th>4</th>\n",
       "      <td>4.926134</td>\n",
       "      <td>1.432022</td>\n",
       "    </tr>\n",
       "  </tbody>\n",
       "</table>\n",
       "</div>"
      ],
      "text/plain": [
       "   clusterDist  ecludianDist\n",
       "0     2.531637      0.553987\n",
       "1     2.531637      0.466183\n",
       "2     4.926134      1.001223\n",
       "3     2.531637      0.567645\n",
       "4     4.926134      1.432022"
      ]
     },
     "execution_count": 176,
     "metadata": {},
     "output_type": "execute_result"
    }
   ],
   "source": [
    "distDf.head(5)"
   ]
  },
  {
   "cell_type": "code",
   "execution_count": 177,
   "metadata": {},
   "outputs": [
    {
     "data": {
      "text/html": [
       "<div>\n",
       "<style scoped>\n",
       "    .dataframe tbody tr th:only-of-type {\n",
       "        vertical-align: middle;\n",
       "    }\n",
       "\n",
       "    .dataframe tbody tr th {\n",
       "        vertical-align: top;\n",
       "    }\n",
       "\n",
       "    .dataframe thead th {\n",
       "        text-align: right;\n",
       "    }\n",
       "</style>\n",
       "<table border=\"1\" class=\"dataframe\">\n",
       "  <thead>\n",
       "    <tr style=\"text-align: right;\">\n",
       "      <th></th>\n",
       "      <th>clusterDist</th>\n",
       "      <th>ecludianDist</th>\n",
       "    </tr>\n",
       "  </thead>\n",
       "  <tbody>\n",
       "    <tr>\n",
       "      <th>clusterDist</th>\n",
       "      <td>1.000000</td>\n",
       "      <td>0.939385</td>\n",
       "    </tr>\n",
       "    <tr>\n",
       "      <th>ecludianDist</th>\n",
       "      <td>0.939385</td>\n",
       "      <td>1.000000</td>\n",
       "    </tr>\n",
       "  </tbody>\n",
       "</table>\n",
       "</div>"
      ],
      "text/plain": [
       "              clusterDist  ecludianDist\n",
       "clusterDist      1.000000      0.939385\n",
       "ecludianDist     0.939385      1.000000"
      ]
     },
     "execution_count": 177,
     "metadata": {},
     "output_type": "execute_result"
    }
   ],
   "source": [
    "distDf.corr()"
   ]
  },
  {
   "cell_type": "code",
   "execution_count": null,
   "metadata": {},
   "outputs": [],
   "source": []
  },
  {
   "cell_type": "markdown",
   "metadata": {},
   "source": [
    "### 12. Plot the dendrogram for the consolidated dataframe"
   ]
  },
  {
   "cell_type": "code",
   "execution_count": 178,
   "metadata": {},
   "outputs": [
    {
     "data": {
      "image/png": "[encoded data removed]",
      "text/plain": [
       "<Figure size 720x720 with 1 Axes>"
      ]
     },
     "metadata": {
      "needs_background": "light"
     },
     "output_type": "display_data"
    }
   ],
   "source": [
    "plt.figure(figsize=(10, 10))\n",
    "plt.title('Agglomerative Hierarchical Clustering Dendogram')\n",
    "plt.xlabel('sample index')\n",
    "plt.ylabel('Distance')\n",
    "dendrogram(Z)\n",
    "plt.tight_layout()"
   ]
  },
  {
   "cell_type": "code",
   "execution_count": null,
   "metadata": {},
   "outputs": [],
   "source": []
  },
  {
   "cell_type": "code",
   "execution_count": null,
   "metadata": {},
   "outputs": [],
   "source": []
  },
  {
   "cell_type": "markdown",
   "metadata": {},
   "source": [
    "### 13. Recreate the dendrogram for last 12 merged clusters "
   ]
  },
  {
   "cell_type": "code",
   "execution_count": 179,
   "metadata": {},
   "outputs": [
    {
     "data": {
      "image/png": "[encoded data removed]",
      "text/plain": [
       "<Figure size 720x720 with 1 Axes>"
      ]
     },
     "metadata": {
      "needs_background": "light"
     },
     "output_type": "display_data"
    }
   ],
   "source": [
    "plt.figure(figsize=(10, 10))\n",
    "plt.title('Agglomerative Hierarchical Clustering Dendogram')\n",
    "plt.xlabel('sample index')\n",
    "plt.ylabel('Distance')\n",
    "dendrogram(\n",
    "    Z,\n",
    "    truncate_mode='lastp',  # show only the last p merged clusters\n",
    "    p=12,  # show only the last p merged clusters\n",
    "    show_leaf_counts=False,  # otherwise numbers in brackets are counts\n",
    "    leaf_rotation=90.,\n",
    "    leaf_font_size=12.,\n",
    "    show_contracted=True,  # to get a distribution impression in truncated branches\n",
    ")\n",
    "plt.show()"
   ]
  },
  {
   "cell_type": "markdown",
   "metadata": {},
   "source": [
    "Hint: Use truncate_mode='lastp' attribute in dendrogram function to arrive at dendrogram "
   ]
  },
  {
   "cell_type": "code",
   "execution_count": null,
   "metadata": {},
   "outputs": [],
   "source": []
  },
  {
   "cell_type": "code",
   "execution_count": null,
   "metadata": {},
   "outputs": [],
   "source": []
  },
  {
   "cell_type": "markdown",
   "metadata": {},
   "source": [
    "### 14. From the truncated dendrogram, find out the optimal distance between clusters which u want to use an input for clustering data"
   ]
  },
  {
   "cell_type": "code",
   "execution_count": 190,
   "metadata": {},
   "outputs": [
    {
     "data": {
      "image/png": "[encoded data removed]",
      "text/plain": [
       "<Figure size 720x720 with 1 Axes>"
      ]
     },
     "metadata": {
      "needs_background": "light"
     },
     "output_type": "display_data"
    }
   ],
   "source": [
    "plt.figure(figsize=(10, 10))\n",
    "plt.title('Agglomerative Hierarchical Clustering Dendogram')\n",
    "plt.xlabel('sample index')\n",
    "plt.ylabel('Distance')\n",
    "# Dendrogram\n",
    "D = dendrogram(Z=Z, labels=df.index,  color_threshold=25,leaf_font_size=12)\n"
   ]
  },
  {
   "cell_type": "code",
   "execution_count": null,
   "metadata": {},
   "outputs": [],
   "source": []
  },
  {
   "cell_type": "markdown",
   "metadata": {},
   "source": [
    "### 15. Using this distance measure and fcluster function to cluster the data into 3 different groups"
   ]
  },
  {
   "cell_type": "code",
   "execution_count": 183,
   "metadata": {},
   "outputs": [],
   "source": [
    "from scipy.cluster.hierarchy import fcluster\n",
    "lab=fcluster(Z,20,criterion='distance')"
   ]
  },
  {
   "cell_type": "code",
   "execution_count": 184,
   "metadata": {},
   "outputs": [
    {
     "data": {
      "text/plain": [
       "array([3, 3, 3, 3, 3, 3, 3, 3, 3, 3, 3, 3, 3, 3, 3, 3, 3, 3, 3, 3, 3, 3,\n",
       "       3, 3, 3, 3, 3, 3, 3, 3, 3, 3, 3, 3, 3, 3, 3, 3, 3, 3, 3, 3, 3, 3,\n",
       "       3, 3, 3, 3, 3, 3, 3, 3, 3, 3, 3, 3, 3, 3, 3, 3, 3, 3, 3, 3, 3, 3,\n",
       "       3, 3, 3, 3, 3, 3, 3, 3, 3, 3, 3, 3, 3, 3, 3, 3, 3, 3, 3, 3, 3, 3,\n",
       "       3, 3, 3, 3, 3, 3, 3, 3, 3, 3, 3, 3, 1, 1, 1, 1, 1, 1, 1, 1, 1, 1,\n",
       "       1, 1, 1, 1, 1, 1, 1, 1, 1, 1, 1, 1, 1, 1, 1, 1, 1, 1, 1, 1, 1, 1,\n",
       "       1, 1, 1, 1, 1, 1, 2, 1, 1, 1, 1, 1, 1, 1, 2, 1, 1, 1, 2, 2, 2, 2,\n",
       "       2, 2, 2, 2, 2, 2, 2, 2, 2, 2, 2, 2, 2, 2, 2, 2, 2, 2, 2, 2, 2, 2,\n",
       "       2, 2, 2, 2, 2, 2, 2, 2, 2, 2, 2, 2, 2, 2, 2, 2, 2, 2, 2, 2, 2, 2,\n",
       "       2, 2, 2, 2, 2, 2, 2, 2, 2, 2, 2, 2, 2, 2, 2, 2, 2, 2, 2, 2, 2, 2,\n",
       "       2, 2, 2, 2, 2, 2, 2, 2, 2, 2, 2, 2, 2, 2, 2, 2, 2, 2, 2, 2, 2, 2,\n",
       "       2, 2, 2, 2, 2, 2, 2, 2], dtype=int32)"
      ]
     },
     "execution_count": 184,
     "metadata": {},
     "output_type": "execute_result"
    }
   ],
   "source": [
    "lab"
   ]
  },
  {
   "cell_type": "markdown",
   "metadata": {},
   "source": [
    "### Use matplotlib to visually observe the clusters in 2D space "
   ]
  },
  {
   "cell_type": "code",
   "execution_count": 189,
   "metadata": {},
   "outputs": [
    {
     "data": {
      "text/plain": [
       "<matplotlib.collections.PathCollection at 0x26ca85e8a20>"
      ]
     },
     "execution_count": 189,
     "metadata": {},
     "output_type": "execute_result"
    },
    {
     "data": {
      "image/png": "[encoded data removed]",
      "text/plain": [
       "<Figure size 432x288 with 1 Axes>"
      ]
     },
     "metadata": {
      "needs_background": "light"
     },
     "output_type": "display_data"
    }
   ],
   "source": [
    "plt.scatter(df.iloc[:,0],df.iloc[:,1],c=lab)"
   ]
  }
 ],
 "metadata": {
  "kernelspec": {
   "display_name": "Python 3",
   "language": "python",
   "name": "python3"
  },
  "language_info": {
   "codemirror_mode": {
    "name": "ipython",
    "version": 3
   },
   "file_extension": ".py",
   "mimetype": "text/x-python",
   "name": "python",
   "nbconvert_exporter": "python",
   "pygments_lexer": "ipython3",
   "version": "3.7.0"
  }
 },
 "nbformat": 4,
 "nbformat_minor": 2
}
